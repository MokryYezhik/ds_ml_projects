{
 "cells": [
  {
   "cell_type": "markdown",
   "metadata": {},
   "source": [
    "**Задача по прогнозированию ошибки модели оценки вероятности дефолта (MPP)**\n",
    "\n",
    "Мы долго работали и построили модель оценки вероятности дефолта (PD модель). Все работает прекрасно, но нужно контролировать качество этой базовой модели и оценивать ошибку, индуцированную базовой моделью, поэтому нам нужно разработать модель прогнозирования ошибки (MPP). Ошибка в нашем случае - это разница между флагом flg_90_12_add, представляющим собой реализованное событие (0 - не дефолт, 1 - дефолт) и значением PD, представляющим собой оценку от нашей базовой модели.\n",
    "\n",
    "Таким образом, Вам необходимо обучить модель прогнозирования ошибки с использованием двух датасетов и предсказать метрику |PD-flg_90_12_add| для тестовой выборки - тысячи последних экспериментов (incident), где значения PD и flg_90_12_add равны NaN.\n",
    "\n",
    "Исходные файлы:\n",
    "\n",
    "* data.csv — данные об экспериментах (incident), включая большое количество признаков и флаг flg_90_12_add, представляющий собой реализованное событие (0 - не дефолт, 1 - дефолт)\n",
    "* model.csv — результаты прогнозирования дефолта (PD), полученные в нашей разработанной модели\n",
    "* sample_submission.csv — пример файла, который необходимо отправить\n",
    "\n",
    "Результаты решения прикрепите в CSV формате. Файл должен содержать только прогнозные значения |PD-flg_90_12_add| для тестовой выборки - тысячи последних экспериментов (incident), где значения PD и flg_90_12_add равны NaN, в одном столбце без заголовка. В качестве оценки решения будет использоваться характеристика MAE."
   ]
  },
  {
   "cell_type": "code",
   "execution_count": 1,
   "metadata": {},
   "outputs": [],
   "source": [
    "import pandas as pd\n",
    "import numpy as np\n",
    "import matplotlib.pyplot as plt\n",
    "import seaborn as sns\n",
    "from itertools import chain\n",
    "\n",
    "from sklearn.metrics import mean_absolute_error, mean_absolute_percentage_error\n",
    "from sklearn.model_selection import train_test_split\n",
    "\n",
    "from scipy.stats import boxcox\n",
    "from scipy.special import inv_boxcox\n",
    "\n",
    "from catboost import CatBoostRegressor"
   ]
  },
  {
   "cell_type": "code",
   "execution_count": 2,
   "metadata": {},
   "outputs": [],
   "source": [
    "import logging\n",
    "import os\n",
    "import time\n",
    "import requests\n",
    "logging.basicConfig(format='[%(asctime)s] (%(levelname)s): %(message)s', level=logging.INFO)\n",
    "\n",
    "#from lightautoml.automl.presets.tabular_presets import TabularAutoML, TabularUtilizedAutoML\n",
    "#from lightautoml.tasks import Task"
   ]
  },
  {
   "cell_type": "markdown",
   "metadata": {},
   "source": [
    "# Данные"
   ]
  },
  {
   "cell_type": "code",
   "execution_count": 3,
   "metadata": {},
   "outputs": [],
   "source": [
    "data = pd.read_csv('data.csv')\n",
    "model = pd.read_csv('model.csv')"
   ]
  },
  {
   "cell_type": "code",
   "execution_count": 4,
   "metadata": {},
   "outputs": [],
   "source": [
    "sample_submission = pd.read_csv('sample_submission.csv', header=None)"
   ]
  },
  {
   "cell_type": "code",
   "execution_count": 5,
   "metadata": {},
   "outputs": [
    {
     "data": {
      "text/html": [
       "<div>\n",
       "<style scoped>\n",
       "    .dataframe tbody tr th:only-of-type {\n",
       "        vertical-align: middle;\n",
       "    }\n",
       "\n",
       "    .dataframe tbody tr th {\n",
       "        vertical-align: top;\n",
       "    }\n",
       "\n",
       "    .dataframe thead th {\n",
       "        text-align: right;\n",
       "    }\n",
       "</style>\n",
       "<table border=\"1\" class=\"dataframe\">\n",
       "  <thead>\n",
       "    <tr style=\"text-align: right;\">\n",
       "      <th></th>\n",
       "      <th>incident</th>\n",
       "      <th>flg_90_12_add</th>\n",
       "      <th>APPLICATION_MONTH</th>\n",
       "      <th>Category_Feature_0</th>\n",
       "      <th>Category_Feature_1</th>\n",
       "      <th>Category_Feature_2</th>\n",
       "      <th>Category_Feature_3</th>\n",
       "      <th>Category_Feature_4</th>\n",
       "      <th>Category_Feature_5</th>\n",
       "      <th>Category_Feature_6</th>\n",
       "      <th>...</th>\n",
       "      <th>Feature_1878</th>\n",
       "      <th>Feature_1879</th>\n",
       "      <th>Feature_1880</th>\n",
       "      <th>Feature_1881</th>\n",
       "      <th>Feature_1882</th>\n",
       "      <th>Feature_1883</th>\n",
       "      <th>Feature_1884</th>\n",
       "      <th>Feature_1885</th>\n",
       "      <th>Feature_1886</th>\n",
       "      <th>Feature_1887</th>\n",
       "    </tr>\n",
       "  </thead>\n",
       "  <tbody>\n",
       "    <tr>\n",
       "      <th>0</th>\n",
       "      <td>14511110</td>\n",
       "      <td>0.0</td>\n",
       "      <td>2018-10</td>\n",
       "      <td>6.0</td>\n",
       "      <td>2</td>\n",
       "      <td>25</td>\n",
       "      <td>2.0</td>\n",
       "      <td>0.0</td>\n",
       "      <td>3</td>\n",
       "      <td>1</td>\n",
       "      <td>...</td>\n",
       "      <td>NaN</td>\n",
       "      <td>NaN</td>\n",
       "      <td>NaN</td>\n",
       "      <td>NaN</td>\n",
       "      <td>NaN</td>\n",
       "      <td>0</td>\n",
       "      <td>0</td>\n",
       "      <td>0</td>\n",
       "      <td>1</td>\n",
       "      <td>20184</td>\n",
       "    </tr>\n",
       "    <tr>\n",
       "      <th>1</th>\n",
       "      <td>15018800</td>\n",
       "      <td>0.0</td>\n",
       "      <td>2018-12</td>\n",
       "      <td>1.0</td>\n",
       "      <td>2</td>\n",
       "      <td>49</td>\n",
       "      <td>4.0</td>\n",
       "      <td>0.0</td>\n",
       "      <td>3</td>\n",
       "      <td>1</td>\n",
       "      <td>...</td>\n",
       "      <td>0.14384</td>\n",
       "      <td>0.259385</td>\n",
       "      <td>0.547065</td>\n",
       "      <td>0.28768</td>\n",
       "      <td>0.28768</td>\n",
       "      <td>0</td>\n",
       "      <td>1</td>\n",
       "      <td>1</td>\n",
       "      <td>1</td>\n",
       "      <td>20184</td>\n",
       "    </tr>\n",
       "    <tr>\n",
       "      <th>2</th>\n",
       "      <td>14499737</td>\n",
       "      <td>0.0</td>\n",
       "      <td>2018-10</td>\n",
       "      <td>6.0</td>\n",
       "      <td>2</td>\n",
       "      <td>24</td>\n",
       "      <td>1.0</td>\n",
       "      <td>0.0</td>\n",
       "      <td>3</td>\n",
       "      <td>0</td>\n",
       "      <td>...</td>\n",
       "      <td>NaN</td>\n",
       "      <td>0.420321</td>\n",
       "      <td>0.242687</td>\n",
       "      <td>NaN</td>\n",
       "      <td>NaN</td>\n",
       "      <td>0</td>\n",
       "      <td>1</td>\n",
       "      <td>0</td>\n",
       "      <td>1</td>\n",
       "      <td>20184</td>\n",
       "    </tr>\n",
       "    <tr>\n",
       "      <th>3</th>\n",
       "      <td>14953427</td>\n",
       "      <td>0.0</td>\n",
       "      <td>2018-12</td>\n",
       "      <td>4.0</td>\n",
       "      <td>2</td>\n",
       "      <td>26</td>\n",
       "      <td>1.0</td>\n",
       "      <td>0.0</td>\n",
       "      <td>3</td>\n",
       "      <td>1</td>\n",
       "      <td>...</td>\n",
       "      <td>NaN</td>\n",
       "      <td>NaN</td>\n",
       "      <td>NaN</td>\n",
       "      <td>NaN</td>\n",
       "      <td>NaN</td>\n",
       "      <td>0</td>\n",
       "      <td>1</td>\n",
       "      <td>1</td>\n",
       "      <td>1</td>\n",
       "      <td>20184</td>\n",
       "    </tr>\n",
       "    <tr>\n",
       "      <th>4</th>\n",
       "      <td>14744453</td>\n",
       "      <td>0.0</td>\n",
       "      <td>2018-11</td>\n",
       "      <td>6.0</td>\n",
       "      <td>2</td>\n",
       "      <td>30</td>\n",
       "      <td>4.0</td>\n",
       "      <td>2.0</td>\n",
       "      <td>3</td>\n",
       "      <td>1</td>\n",
       "      <td>...</td>\n",
       "      <td>NaN</td>\n",
       "      <td>0.045863</td>\n",
       "      <td>NaN</td>\n",
       "      <td>NaN</td>\n",
       "      <td>NaN</td>\n",
       "      <td>0</td>\n",
       "      <td>1</td>\n",
       "      <td>0</td>\n",
       "      <td>1</td>\n",
       "      <td>20184</td>\n",
       "    </tr>\n",
       "  </tbody>\n",
       "</table>\n",
       "<p>5 rows × 1910 columns</p>\n",
       "</div>"
      ],
      "text/plain": [
       "   incident  flg_90_12_add APPLICATION_MONTH  Category_Feature_0  \\\n",
       "0  14511110            0.0           2018-10                 6.0   \n",
       "1  15018800            0.0           2018-12                 1.0   \n",
       "2  14499737            0.0           2018-10                 6.0   \n",
       "3  14953427            0.0           2018-12                 4.0   \n",
       "4  14744453            0.0           2018-11                 6.0   \n",
       "\n",
       "   Category_Feature_1  Category_Feature_2  Category_Feature_3  \\\n",
       "0                   2                  25                 2.0   \n",
       "1                   2                  49                 4.0   \n",
       "2                   2                  24                 1.0   \n",
       "3                   2                  26                 1.0   \n",
       "4                   2                  30                 4.0   \n",
       "\n",
       "   Category_Feature_4  Category_Feature_5  Category_Feature_6  ...  \\\n",
       "0                 0.0                   3                   1  ...   \n",
       "1                 0.0                   3                   1  ...   \n",
       "2                 0.0                   3                   0  ...   \n",
       "3                 0.0                   3                   1  ...   \n",
       "4                 2.0                   3                   1  ...   \n",
       "\n",
       "   Feature_1878  Feature_1879  Feature_1880  Feature_1881  Feature_1882  \\\n",
       "0           NaN           NaN           NaN           NaN           NaN   \n",
       "1       0.14384      0.259385      0.547065       0.28768       0.28768   \n",
       "2           NaN      0.420321      0.242687           NaN           NaN   \n",
       "3           NaN           NaN           NaN           NaN           NaN   \n",
       "4           NaN      0.045863           NaN           NaN           NaN   \n",
       "\n",
       "   Feature_1883  Feature_1884  Feature_1885  Feature_1886  Feature_1887  \n",
       "0             0             0             0             1         20184  \n",
       "1             0             1             1             1         20184  \n",
       "2             0             1             0             1         20184  \n",
       "3             0             1             1             1         20184  \n",
       "4             0             1             0             1         20184  \n",
       "\n",
       "[5 rows x 1910 columns]"
      ]
     },
     "execution_count": 5,
     "metadata": {},
     "output_type": "execute_result"
    }
   ],
   "source": [
    "data.head()"
   ]
  },
  {
   "cell_type": "code",
   "execution_count": 6,
   "metadata": {},
   "outputs": [
    {
     "data": {
      "text/html": [
       "<div>\n",
       "<style scoped>\n",
       "    .dataframe tbody tr th:only-of-type {\n",
       "        vertical-align: middle;\n",
       "    }\n",
       "\n",
       "    .dataframe tbody tr th {\n",
       "        vertical-align: top;\n",
       "    }\n",
       "\n",
       "    .dataframe thead th {\n",
       "        text-align: right;\n",
       "    }\n",
       "</style>\n",
       "<table border=\"1\" class=\"dataframe\">\n",
       "  <thead>\n",
       "    <tr style=\"text-align: right;\">\n",
       "      <th></th>\n",
       "      <th>incident</th>\n",
       "      <th>PD</th>\n",
       "    </tr>\n",
       "  </thead>\n",
       "  <tbody>\n",
       "    <tr>\n",
       "      <th>0</th>\n",
       "      <td>14511110</td>\n",
       "      <td>0.022191</td>\n",
       "    </tr>\n",
       "    <tr>\n",
       "      <th>1</th>\n",
       "      <td>15018800</td>\n",
       "      <td>0.019972</td>\n",
       "    </tr>\n",
       "    <tr>\n",
       "      <th>2</th>\n",
       "      <td>14499737</td>\n",
       "      <td>0.043884</td>\n",
       "    </tr>\n",
       "    <tr>\n",
       "      <th>3</th>\n",
       "      <td>14953427</td>\n",
       "      <td>0.013412</td>\n",
       "    </tr>\n",
       "    <tr>\n",
       "      <th>4</th>\n",
       "      <td>14744453</td>\n",
       "      <td>0.033354</td>\n",
       "    </tr>\n",
       "  </tbody>\n",
       "</table>\n",
       "</div>"
      ],
      "text/plain": [
       "   incident        PD\n",
       "0  14511110  0.022191\n",
       "1  15018800  0.019972\n",
       "2  14499737  0.043884\n",
       "3  14953427  0.013412\n",
       "4  14744453  0.033354"
      ]
     },
     "execution_count": 6,
     "metadata": {},
     "output_type": "execute_result"
    }
   ],
   "source": [
    "model.head()"
   ]
  },
  {
   "cell_type": "markdown",
   "metadata": {},
   "source": [
    "Проверим, является ли incident внешним ключом"
   ]
  },
  {
   "cell_type": "code",
   "execution_count": 7,
   "metadata": {},
   "outputs": [
    {
     "name": "stdout",
     "output_type": "stream",
     "text": [
      "Уникальных индексов incident в data:   82617\n",
      "Уникальных индексов incident в model:  82617\n",
      "Индексы incident совпадают?  --   True\n"
     ]
    }
   ],
   "source": [
    "print('Уникальных индексов incident в data:  ', data['incident'].nunique())\n",
    "print('Уникальных индексов incident в model: ', model['incident'].nunique())\n",
    "print('Индексы incident совпадают?  --  ', np.array_equal(data['incident'], model['incident']))"
   ]
  },
  {
   "cell_type": "markdown",
   "metadata": {},
   "source": [
    "Объеденим эти датасеты по incident"
   ]
  },
  {
   "cell_type": "code",
   "execution_count": 8,
   "metadata": {},
   "outputs": [
    {
     "data": {
      "text/html": [
       "<div>\n",
       "<style scoped>\n",
       "    .dataframe tbody tr th:only-of-type {\n",
       "        vertical-align: middle;\n",
       "    }\n",
       "\n",
       "    .dataframe tbody tr th {\n",
       "        vertical-align: top;\n",
       "    }\n",
       "\n",
       "    .dataframe thead th {\n",
       "        text-align: right;\n",
       "    }\n",
       "</style>\n",
       "<table border=\"1\" class=\"dataframe\">\n",
       "  <thead>\n",
       "    <tr style=\"text-align: right;\">\n",
       "      <th></th>\n",
       "      <th>incident</th>\n",
       "      <th>flg_90_12_add</th>\n",
       "      <th>APPLICATION_MONTH</th>\n",
       "      <th>Category_Feature_0</th>\n",
       "      <th>Category_Feature_1</th>\n",
       "      <th>Category_Feature_2</th>\n",
       "      <th>Category_Feature_3</th>\n",
       "      <th>Category_Feature_4</th>\n",
       "      <th>Category_Feature_5</th>\n",
       "      <th>Category_Feature_6</th>\n",
       "      <th>...</th>\n",
       "      <th>Feature_1879</th>\n",
       "      <th>Feature_1880</th>\n",
       "      <th>Feature_1881</th>\n",
       "      <th>Feature_1882</th>\n",
       "      <th>Feature_1883</th>\n",
       "      <th>Feature_1884</th>\n",
       "      <th>Feature_1885</th>\n",
       "      <th>Feature_1886</th>\n",
       "      <th>Feature_1887</th>\n",
       "      <th>PD</th>\n",
       "    </tr>\n",
       "  </thead>\n",
       "  <tbody>\n",
       "    <tr>\n",
       "      <th>0</th>\n",
       "      <td>14511110</td>\n",
       "      <td>0.0</td>\n",
       "      <td>2018-10</td>\n",
       "      <td>6.0</td>\n",
       "      <td>2</td>\n",
       "      <td>25</td>\n",
       "      <td>2.0</td>\n",
       "      <td>0.0</td>\n",
       "      <td>3</td>\n",
       "      <td>1</td>\n",
       "      <td>...</td>\n",
       "      <td>NaN</td>\n",
       "      <td>NaN</td>\n",
       "      <td>NaN</td>\n",
       "      <td>NaN</td>\n",
       "      <td>0</td>\n",
       "      <td>0</td>\n",
       "      <td>0</td>\n",
       "      <td>1</td>\n",
       "      <td>20184</td>\n",
       "      <td>0.022191</td>\n",
       "    </tr>\n",
       "    <tr>\n",
       "      <th>1</th>\n",
       "      <td>15018800</td>\n",
       "      <td>0.0</td>\n",
       "      <td>2018-12</td>\n",
       "      <td>1.0</td>\n",
       "      <td>2</td>\n",
       "      <td>49</td>\n",
       "      <td>4.0</td>\n",
       "      <td>0.0</td>\n",
       "      <td>3</td>\n",
       "      <td>1</td>\n",
       "      <td>...</td>\n",
       "      <td>0.259385</td>\n",
       "      <td>0.547065</td>\n",
       "      <td>0.28768</td>\n",
       "      <td>0.28768</td>\n",
       "      <td>0</td>\n",
       "      <td>1</td>\n",
       "      <td>1</td>\n",
       "      <td>1</td>\n",
       "      <td>20184</td>\n",
       "      <td>0.019972</td>\n",
       "    </tr>\n",
       "    <tr>\n",
       "      <th>2</th>\n",
       "      <td>14499737</td>\n",
       "      <td>0.0</td>\n",
       "      <td>2018-10</td>\n",
       "      <td>6.0</td>\n",
       "      <td>2</td>\n",
       "      <td>24</td>\n",
       "      <td>1.0</td>\n",
       "      <td>0.0</td>\n",
       "      <td>3</td>\n",
       "      <td>0</td>\n",
       "      <td>...</td>\n",
       "      <td>0.420321</td>\n",
       "      <td>0.242687</td>\n",
       "      <td>NaN</td>\n",
       "      <td>NaN</td>\n",
       "      <td>0</td>\n",
       "      <td>1</td>\n",
       "      <td>0</td>\n",
       "      <td>1</td>\n",
       "      <td>20184</td>\n",
       "      <td>0.043884</td>\n",
       "    </tr>\n",
       "    <tr>\n",
       "      <th>3</th>\n",
       "      <td>14953427</td>\n",
       "      <td>0.0</td>\n",
       "      <td>2018-12</td>\n",
       "      <td>4.0</td>\n",
       "      <td>2</td>\n",
       "      <td>26</td>\n",
       "      <td>1.0</td>\n",
       "      <td>0.0</td>\n",
       "      <td>3</td>\n",
       "      <td>1</td>\n",
       "      <td>...</td>\n",
       "      <td>NaN</td>\n",
       "      <td>NaN</td>\n",
       "      <td>NaN</td>\n",
       "      <td>NaN</td>\n",
       "      <td>0</td>\n",
       "      <td>1</td>\n",
       "      <td>1</td>\n",
       "      <td>1</td>\n",
       "      <td>20184</td>\n",
       "      <td>0.013412</td>\n",
       "    </tr>\n",
       "    <tr>\n",
       "      <th>4</th>\n",
       "      <td>14744453</td>\n",
       "      <td>0.0</td>\n",
       "      <td>2018-11</td>\n",
       "      <td>6.0</td>\n",
       "      <td>2</td>\n",
       "      <td>30</td>\n",
       "      <td>4.0</td>\n",
       "      <td>2.0</td>\n",
       "      <td>3</td>\n",
       "      <td>1</td>\n",
       "      <td>...</td>\n",
       "      <td>0.045863</td>\n",
       "      <td>NaN</td>\n",
       "      <td>NaN</td>\n",
       "      <td>NaN</td>\n",
       "      <td>0</td>\n",
       "      <td>1</td>\n",
       "      <td>0</td>\n",
       "      <td>1</td>\n",
       "      <td>20184</td>\n",
       "      <td>0.033354</td>\n",
       "    </tr>\n",
       "  </tbody>\n",
       "</table>\n",
       "<p>5 rows × 1911 columns</p>\n",
       "</div>"
      ],
      "text/plain": [
       "   incident  flg_90_12_add APPLICATION_MONTH  Category_Feature_0  \\\n",
       "0  14511110            0.0           2018-10                 6.0   \n",
       "1  15018800            0.0           2018-12                 1.0   \n",
       "2  14499737            0.0           2018-10                 6.0   \n",
       "3  14953427            0.0           2018-12                 4.0   \n",
       "4  14744453            0.0           2018-11                 6.0   \n",
       "\n",
       "   Category_Feature_1  Category_Feature_2  Category_Feature_3  \\\n",
       "0                   2                  25                 2.0   \n",
       "1                   2                  49                 4.0   \n",
       "2                   2                  24                 1.0   \n",
       "3                   2                  26                 1.0   \n",
       "4                   2                  30                 4.0   \n",
       "\n",
       "   Category_Feature_4  Category_Feature_5  Category_Feature_6  ...  \\\n",
       "0                 0.0                   3                   1  ...   \n",
       "1                 0.0                   3                   1  ...   \n",
       "2                 0.0                   3                   0  ...   \n",
       "3                 0.0                   3                   1  ...   \n",
       "4                 2.0                   3                   1  ...   \n",
       "\n",
       "   Feature_1879  Feature_1880  Feature_1881  Feature_1882  Feature_1883  \\\n",
       "0           NaN           NaN           NaN           NaN             0   \n",
       "1      0.259385      0.547065       0.28768       0.28768             0   \n",
       "2      0.420321      0.242687           NaN           NaN             0   \n",
       "3           NaN           NaN           NaN           NaN             0   \n",
       "4      0.045863           NaN           NaN           NaN             0   \n",
       "\n",
       "   Feature_1884  Feature_1885  Feature_1886  Feature_1887        PD  \n",
       "0             0             0             1         20184  0.022191  \n",
       "1             1             1             1         20184  0.019972  \n",
       "2             1             0             1         20184  0.043884  \n",
       "3             1             1             1         20184  0.013412  \n",
       "4             1             0             1         20184  0.033354  \n",
       "\n",
       "[5 rows x 1911 columns]"
      ]
     },
     "execution_count": 8,
     "metadata": {},
     "output_type": "execute_result"
    }
   ],
   "source": [
    "df = pd.merge(data, model, on='incident')\n",
    "df.head()"
   ]
  },
  {
   "cell_type": "code",
   "execution_count": 9,
   "metadata": {},
   "outputs": [
    {
     "name": "stdout",
     "output_type": "stream",
     "text": [
      "<class 'pandas.core.frame.DataFrame'>\n",
      "Int64Index: 82617 entries, 0 to 82616\n",
      "Columns: 1911 entries, incident to PD\n",
      "dtypes: float64(1838), int64(72), object(1)\n",
      "memory usage: 1.2+ GB\n"
     ]
    }
   ],
   "source": [
    "df.info()"
   ]
  },
  {
   "cell_type": "markdown",
   "metadata": {},
   "source": [
    "Датасет получается очень тяжелым, поэтому для начала посмотрим, можно ли удалить какие-нибудь признаки.\n",
    "\n",
    "Имеются закодированные категориальные признаки Category_Feature_0 - Category_Feature_18 и количественные Feature_0 - Feature_1887"
   ]
  },
  {
   "cell_type": "markdown",
   "metadata": {},
   "source": [
    "Для начала посмотрим на количество NaN в столбцах"
   ]
  },
  {
   "cell_type": "code",
   "execution_count": 10,
   "metadata": {},
   "outputs": [],
   "source": [
    "features = df.columns.values\n",
    "feature_null_count = []\n",
    "for i in range(1911):\n",
    "    cat = features[i]\n",
    "    null_percent = round(sum(df[cat].isnull())*100/df.shape[0], 2)\n",
    "    #print('{}:  {}%'.format(cat, null_percent))\n",
    "    feature_null_count.append(null_percent)\n",
    "feature_null_count = np.array(feature_null_count)"
   ]
  },
  {
   "cell_type": "code",
   "execution_count": 11,
   "metadata": {},
   "outputs": [
    {
     "data": {
      "image/png": "[encoded data removed]",
      "text/plain": [
       "<Figure size 432x288 with 1 Axes>"
      ]
     },
     "metadata": {
      "needs_background": "light"
     },
     "output_type": "display_data"
    }
   ],
   "source": [
    "plt.hist(feature_null_count, bins=100)\n",
    "plt.title('Количество Null в %')\n",
    "plt.show()"
   ]
  },
  {
   "cell_type": "markdown",
   "metadata": {},
   "source": [
    "Видно, что есть достаточно много признаков, где количество NaN больше 90%. Построим график, чтобы лучше определить порог."
   ]
  },
  {
   "cell_type": "code",
   "execution_count": 35,
   "metadata": {},
   "outputs": [
    {
     "data": {
      "image/png": "[encoded data removed]",
      "text/plain": [
       "<Figure size 432x288 with 1 Axes>"
      ]
     },
     "metadata": {
      "needs_background": "light"
     },
     "output_type": "display_data"
    }
   ],
   "source": [
    "# порог с шагом 5 %\n",
    "feature_null_count_ = []\n",
    "for i in range(0, 100+1, 5):\n",
    "    feature_null_count_.append(np.argwhere(feature_null_count>i).shape[0])\n",
    "    \n",
    "plt.plot(range(0, 100+1, 5), feature_null_count_, label='отбрасываем')\n",
    "plt.plot(range(0, 100+1, 5), [1888-x for x in feature_null_count_], label='оставляем')\n",
    "plt.ylabel('кол-во признаков'), plt.xlabel('% содержание NULL')\n",
    "plt.legend()\n",
    "plt.show()"
   ]
  },
  {
   "cell_type": "markdown",
   "metadata": {},
   "source": [
    "Выберем порог в 40%."
   ]
  },
  {
   "cell_type": "code",
   "execution_count": 36,
   "metadata": {},
   "outputs": [],
   "source": [
    "features_remain = features[np.argwhere(feature_null_count<40).flatten()]"
   ]
  },
  {
   "cell_type": "code",
   "execution_count": 37,
   "metadata": {},
   "outputs": [
    {
     "data": {
      "text/html": [
       "<div>\n",
       "<style scoped>\n",
       "    .dataframe tbody tr th:only-of-type {\n",
       "        vertical-align: middle;\n",
       "    }\n",
       "\n",
       "    .dataframe tbody tr th {\n",
       "        vertical-align: top;\n",
       "    }\n",
       "\n",
       "    .dataframe thead th {\n",
       "        text-align: right;\n",
       "    }\n",
       "</style>\n",
       "<table border=\"1\" class=\"dataframe\">\n",
       "  <thead>\n",
       "    <tr style=\"text-align: right;\">\n",
       "      <th></th>\n",
       "      <th>incident</th>\n",
       "      <th>flg_90_12_add</th>\n",
       "      <th>APPLICATION_MONTH</th>\n",
       "      <th>Category_Feature_0</th>\n",
       "      <th>Category_Feature_1</th>\n",
       "      <th>Category_Feature_2</th>\n",
       "      <th>Category_Feature_3</th>\n",
       "      <th>Category_Feature_4</th>\n",
       "      <th>Category_Feature_5</th>\n",
       "      <th>Category_Feature_6</th>\n",
       "      <th>...</th>\n",
       "      <th>Feature_1863</th>\n",
       "      <th>Feature_1864</th>\n",
       "      <th>Feature_1865</th>\n",
       "      <th>Feature_1866</th>\n",
       "      <th>Feature_1883</th>\n",
       "      <th>Feature_1884</th>\n",
       "      <th>Feature_1885</th>\n",
       "      <th>Feature_1886</th>\n",
       "      <th>Feature_1887</th>\n",
       "      <th>PD</th>\n",
       "    </tr>\n",
       "  </thead>\n",
       "  <tbody>\n",
       "    <tr>\n",
       "      <th>0</th>\n",
       "      <td>14511110</td>\n",
       "      <td>0.0</td>\n",
       "      <td>2018-10</td>\n",
       "      <td>6.0</td>\n",
       "      <td>2</td>\n",
       "      <td>25</td>\n",
       "      <td>2.0</td>\n",
       "      <td>0.0</td>\n",
       "      <td>3</td>\n",
       "      <td>1</td>\n",
       "      <td>...</td>\n",
       "      <td>5.053696</td>\n",
       "      <td>5.053696</td>\n",
       "      <td>5.053696</td>\n",
       "      <td>5.053696</td>\n",
       "      <td>0</td>\n",
       "      <td>0</td>\n",
       "      <td>0</td>\n",
       "      <td>1</td>\n",
       "      <td>20184</td>\n",
       "      <td>0.022191</td>\n",
       "    </tr>\n",
       "    <tr>\n",
       "      <th>1</th>\n",
       "      <td>15018800</td>\n",
       "      <td>0.0</td>\n",
       "      <td>2018-12</td>\n",
       "      <td>1.0</td>\n",
       "      <td>2</td>\n",
       "      <td>49</td>\n",
       "      <td>4.0</td>\n",
       "      <td>0.0</td>\n",
       "      <td>3</td>\n",
       "      <td>1</td>\n",
       "      <td>...</td>\n",
       "      <td>0.600000</td>\n",
       "      <td>0.600000</td>\n",
       "      <td>0.526316</td>\n",
       "      <td>0.526316</td>\n",
       "      <td>0</td>\n",
       "      <td>1</td>\n",
       "      <td>1</td>\n",
       "      <td>1</td>\n",
       "      <td>20184</td>\n",
       "      <td>0.019972</td>\n",
       "    </tr>\n",
       "    <tr>\n",
       "      <th>2</th>\n",
       "      <td>14499737</td>\n",
       "      <td>0.0</td>\n",
       "      <td>2018-10</td>\n",
       "      <td>6.0</td>\n",
       "      <td>2</td>\n",
       "      <td>24</td>\n",
       "      <td>1.0</td>\n",
       "      <td>0.0</td>\n",
       "      <td>3</td>\n",
       "      <td>0</td>\n",
       "      <td>...</td>\n",
       "      <td>0.790000</td>\n",
       "      <td>0.790000</td>\n",
       "      <td>0.087778</td>\n",
       "      <td>0.087778</td>\n",
       "      <td>0</td>\n",
       "      <td>1</td>\n",
       "      <td>0</td>\n",
       "      <td>1</td>\n",
       "      <td>20184</td>\n",
       "      <td>0.043884</td>\n",
       "    </tr>\n",
       "  </tbody>\n",
       "</table>\n",
       "<p>3 rows × 310 columns</p>\n",
       "</div>"
      ],
      "text/plain": [
       "   incident  flg_90_12_add APPLICATION_MONTH  Category_Feature_0  \\\n",
       "0  14511110            0.0           2018-10                 6.0   \n",
       "1  15018800            0.0           2018-12                 1.0   \n",
       "2  14499737            0.0           2018-10                 6.0   \n",
       "\n",
       "   Category_Feature_1  Category_Feature_2  Category_Feature_3  \\\n",
       "0                   2                  25                 2.0   \n",
       "1                   2                  49                 4.0   \n",
       "2                   2                  24                 1.0   \n",
       "\n",
       "   Category_Feature_4  Category_Feature_5  Category_Feature_6  ...  \\\n",
       "0                 0.0                   3                   1  ...   \n",
       "1                 0.0                   3                   1  ...   \n",
       "2                 0.0                   3                   0  ...   \n",
       "\n",
       "   Feature_1863  Feature_1864  Feature_1865  Feature_1866  Feature_1883  \\\n",
       "0      5.053696      5.053696      5.053696      5.053696             0   \n",
       "1      0.600000      0.600000      0.526316      0.526316             0   \n",
       "2      0.790000      0.790000      0.087778      0.087778             0   \n",
       "\n",
       "   Feature_1884  Feature_1885  Feature_1886  Feature_1887        PD  \n",
       "0             0             0             1         20184  0.022191  \n",
       "1             1             1             1         20184  0.019972  \n",
       "2             1             0             1         20184  0.043884  \n",
       "\n",
       "[3 rows x 310 columns]"
      ]
     },
     "execution_count": 37,
     "metadata": {},
     "output_type": "execute_result"
    }
   ],
   "source": [
    "df_short = df[features_remain].copy()\n",
    "df_short.head(3)"
   ]
  },
  {
   "cell_type": "markdown",
   "metadata": {},
   "source": [
    "Рассмотрим признак 'APPLICATION_MONTH'"
   ]
  },
  {
   "cell_type": "code",
   "execution_count": 38,
   "metadata": {},
   "outputs": [
    {
     "data": {
      "text/plain": [
       "2019-06    6732\n",
       "2019-07    6687\n",
       "2019-04    6686\n",
       "2019-11    5906\n",
       "2019-03    5679\n",
       "2019-12    5427\n",
       "2019-08    5349\n",
       "2019-10    4843\n",
       "2019-09    4692\n",
       "2019-05    4669\n",
       "2020-02    4521\n",
       "2020-01    3965\n",
       "2020-03    3592\n",
       "2019-02    3554\n",
       "2018-11    2999\n",
       "2018-12    2254\n",
       "2019-01    2230\n",
       "2018-10    1832\n",
       "Name: APPLICATION_MONTH, dtype: int64"
      ]
     },
     "execution_count": 38,
     "metadata": {},
     "output_type": "execute_result"
    }
   ],
   "source": [
    "df_short[~df_short['PD'].isnull()]['APPLICATION_MONTH'].value_counts()"
   ]
  },
  {
   "cell_type": "code",
   "execution_count": 39,
   "metadata": {},
   "outputs": [
    {
     "data": {
      "text/plain": [
       "2020-02    374\n",
       "2020-01    328\n",
       "2020-03    298\n",
       "Name: APPLICATION_MONTH, dtype: int64"
      ]
     },
     "execution_count": 39,
     "metadata": {},
     "output_type": "execute_result"
    }
   ],
   "source": [
    "df_short[df_short['PD'].isnull()]['APPLICATION_MONTH'].value_counts()"
   ]
  },
  {
   "cell_type": "markdown",
   "metadata": {},
   "source": [
    "Значения, которые нужно предсказать, взяты из трех месяцев, для которых также есть и известные значения. Также мнене удалось найти различие переменных 'flg_90_12_add' и 'PD'  по месяцам.\n",
    "\n",
    "Поэтому этот признак также выбросим."
   ]
  },
  {
   "cell_type": "code",
   "execution_count": 40,
   "metadata": {},
   "outputs": [],
   "source": [
    "df_short = df_short.drop('APPLICATION_MONTH', axis=1)"
   ]
  },
  {
   "cell_type": "code",
   "execution_count": 41,
   "metadata": {},
   "outputs": [],
   "source": [
    "# сохраним этот датасет\n",
    "df_short.to_csv('df_short.csv')"
   ]
  },
  {
   "cell_type": "markdown",
   "metadata": {},
   "source": [
    "--------------------------\n",
    "***********\n",
    "************\n",
    "***********\n",
    "-------------------------"
   ]
  },
  {
   "cell_type": "code",
   "execution_count": 4,
   "metadata": {},
   "outputs": [
    {
     "data": {
      "text/html": [
       "<div>\n",
       "<style scoped>\n",
       "    .dataframe tbody tr th:only-of-type {\n",
       "        vertical-align: middle;\n",
       "    }\n",
       "\n",
       "    .dataframe tbody tr th {\n",
       "        vertical-align: top;\n",
       "    }\n",
       "\n",
       "    .dataframe thead th {\n",
       "        text-align: right;\n",
       "    }\n",
       "</style>\n",
       "<table border=\"1\" class=\"dataframe\">\n",
       "  <thead>\n",
       "    <tr style=\"text-align: right;\">\n",
       "      <th></th>\n",
       "      <th>incident</th>\n",
       "      <th>flg_90_12_add</th>\n",
       "      <th>Category_Feature_0</th>\n",
       "      <th>Category_Feature_1</th>\n",
       "      <th>Category_Feature_2</th>\n",
       "      <th>Category_Feature_3</th>\n",
       "      <th>Category_Feature_4</th>\n",
       "      <th>Category_Feature_5</th>\n",
       "      <th>Category_Feature_6</th>\n",
       "      <th>Category_Feature_7</th>\n",
       "      <th>...</th>\n",
       "      <th>Feature_1863</th>\n",
       "      <th>Feature_1864</th>\n",
       "      <th>Feature_1865</th>\n",
       "      <th>Feature_1866</th>\n",
       "      <th>Feature_1883</th>\n",
       "      <th>Feature_1884</th>\n",
       "      <th>Feature_1885</th>\n",
       "      <th>Feature_1886</th>\n",
       "      <th>Feature_1887</th>\n",
       "      <th>PD</th>\n",
       "    </tr>\n",
       "  </thead>\n",
       "  <tbody>\n",
       "    <tr>\n",
       "      <th>0</th>\n",
       "      <td>14511110</td>\n",
       "      <td>0.0</td>\n",
       "      <td>6.0</td>\n",
       "      <td>2</td>\n",
       "      <td>25</td>\n",
       "      <td>2.0</td>\n",
       "      <td>0.0</td>\n",
       "      <td>3</td>\n",
       "      <td>1</td>\n",
       "      <td>2.0</td>\n",
       "      <td>...</td>\n",
       "      <td>5.053696</td>\n",
       "      <td>5.053696</td>\n",
       "      <td>5.053696</td>\n",
       "      <td>5.053696</td>\n",
       "      <td>0</td>\n",
       "      <td>0</td>\n",
       "      <td>0</td>\n",
       "      <td>1</td>\n",
       "      <td>20184</td>\n",
       "      <td>0.022191</td>\n",
       "    </tr>\n",
       "    <tr>\n",
       "      <th>1</th>\n",
       "      <td>15018800</td>\n",
       "      <td>0.0</td>\n",
       "      <td>1.0</td>\n",
       "      <td>2</td>\n",
       "      <td>49</td>\n",
       "      <td>4.0</td>\n",
       "      <td>0.0</td>\n",
       "      <td>3</td>\n",
       "      <td>1</td>\n",
       "      <td>2.0</td>\n",
       "      <td>...</td>\n",
       "      <td>0.600000</td>\n",
       "      <td>0.600000</td>\n",
       "      <td>0.526316</td>\n",
       "      <td>0.526316</td>\n",
       "      <td>0</td>\n",
       "      <td>1</td>\n",
       "      <td>1</td>\n",
       "      <td>1</td>\n",
       "      <td>20184</td>\n",
       "      <td>0.019972</td>\n",
       "    </tr>\n",
       "    <tr>\n",
       "      <th>2</th>\n",
       "      <td>14499737</td>\n",
       "      <td>0.0</td>\n",
       "      <td>6.0</td>\n",
       "      <td>2</td>\n",
       "      <td>24</td>\n",
       "      <td>1.0</td>\n",
       "      <td>0.0</td>\n",
       "      <td>3</td>\n",
       "      <td>0</td>\n",
       "      <td>1.0</td>\n",
       "      <td>...</td>\n",
       "      <td>0.790000</td>\n",
       "      <td>0.790000</td>\n",
       "      <td>0.087778</td>\n",
       "      <td>0.087778</td>\n",
       "      <td>0</td>\n",
       "      <td>1</td>\n",
       "      <td>0</td>\n",
       "      <td>1</td>\n",
       "      <td>20184</td>\n",
       "      <td>0.043884</td>\n",
       "    </tr>\n",
       "  </tbody>\n",
       "</table>\n",
       "<p>3 rows × 309 columns</p>\n",
       "</div>"
      ],
      "text/plain": [
       "   incident  flg_90_12_add  Category_Feature_0  Category_Feature_1  \\\n",
       "0  14511110            0.0                 6.0                   2   \n",
       "1  15018800            0.0                 1.0                   2   \n",
       "2  14499737            0.0                 6.0                   2   \n",
       "\n",
       "   Category_Feature_2  Category_Feature_3  Category_Feature_4  \\\n",
       "0                  25                 2.0                 0.0   \n",
       "1                  49                 4.0                 0.0   \n",
       "2                  24                 1.0                 0.0   \n",
       "\n",
       "   Category_Feature_5  Category_Feature_6  Category_Feature_7  ...  \\\n",
       "0                   3                   1                 2.0  ...   \n",
       "1                   3                   1                 2.0  ...   \n",
       "2                   3                   0                 1.0  ...   \n",
       "\n",
       "   Feature_1863  Feature_1864  Feature_1865  Feature_1866  Feature_1883  \\\n",
       "0      5.053696      5.053696      5.053696      5.053696             0   \n",
       "1      0.600000      0.600000      0.526316      0.526316             0   \n",
       "2      0.790000      0.790000      0.087778      0.087778             0   \n",
       "\n",
       "   Feature_1884  Feature_1885  Feature_1886  Feature_1887        PD  \n",
       "0             0             0             1         20184  0.022191  \n",
       "1             1             1             1         20184  0.019972  \n",
       "2             1             0             1         20184  0.043884  \n",
       "\n",
       "[3 rows x 309 columns]"
      ]
     },
     "execution_count": 4,
     "metadata": {},
     "output_type": "execute_result"
    }
   ],
   "source": [
    "df_short = pd.read_csv('df_short.csv', index_col='Unnamed: 0')\n",
    "df_short.head(3)"
   ]
  },
  {
   "cell_type": "markdown",
   "metadata": {},
   "source": [
    "# Обработка признаков "
   ]
  },
  {
   "cell_type": "markdown",
   "metadata": {},
   "source": [
    "Добавим следующие новые признаки: количество NaN в строке, а также для категориальных переменных количество данной категории (кроме Category_Feature_8, т.к. он вообзе не очень сильно похож на категориальноую величину)"
   ]
  },
  {
   "cell_type": "code",
   "execution_count": 5,
   "metadata": {},
   "outputs": [
    {
     "data": {
      "text/plain": [
       "0.000000        10737\n",
       "30000.000000     2727\n",
       "40000.000000     2586\n",
       "50000.000000     2501\n",
       "35000.000000     2199\n",
       "                ...  \n",
       "48996.255450        1\n",
       "19546.236667        1\n",
       "69556.570000        1\n",
       "10141.900000        1\n",
       "83049.620000        1\n",
       "Name: Category_Feature_8, Length: 24239, dtype: int64"
      ]
     },
     "execution_count": 5,
     "metadata": {},
     "output_type": "execute_result"
    }
   ],
   "source": [
    "df_short['Category_Feature_8'].value_counts()"
   ]
  },
  {
   "cell_type": "code",
   "execution_count": 6,
   "metadata": {},
   "outputs": [],
   "source": [
    "df_short['NANs_cnt'] = df_short.isnull().sum(axis = 1)\n",
    "for col in ['Category_Feature_'+str(i) for i in chain(range(0,8), range(9,18+1))]:\n",
    "    df_short[col+'_cnt'] = df_short[col].map(df_short[col].value_counts(dropna = False))"
   ]
  },
  {
   "cell_type": "markdown",
   "metadata": {},
   "source": [
    "Также вспомним, что таргетом является |PD-flg_90_12_add|. добавим эту переменную в датасет"
   ]
  },
  {
   "cell_type": "code",
   "execution_count": 7,
   "metadata": {},
   "outputs": [],
   "source": [
    "df_short['diff'] = df_short.apply(lambda row: np.abs(row['PD']-row['flg_90_12_add']), axis=1)"
   ]
  },
  {
   "cell_type": "markdown",
   "metadata": {},
   "source": [
    "Посмотрим на распределение таргета:"
   ]
  },
  {
   "cell_type": "code",
   "execution_count": 8,
   "metadata": {},
   "outputs": [
    {
     "data": {
      "image/png": "[encoded data removed]",
      "text/plain": [
       "<Figure size 432x288 with 1 Axes>"
      ]
     },
     "metadata": {
      "needs_background": "light"
     },
     "output_type": "display_data"
    }
   ],
   "source": [
    "sns.histplot(df_short['diff'], stat='probability');"
   ]
  },
  {
   "cell_type": "markdown",
   "metadata": {},
   "source": [
    "Видно, что распредление ассиметрично, а также имеет второй неваразительный пик в районе 1. Однако именно этот пик и является значимым для нас.\n",
    "\n",
    "Чтобы исправить эту ситуацию, прологарифмируем таргет. Тогда второй пик стал более выраженным и сравним по высоте с первым пиком."
   ]
  },
  {
   "cell_type": "code",
   "execution_count": 9,
   "metadata": {
    "scrolled": true
   },
   "outputs": [
    {
     "data": {
      "image/png": "[encoded data removed]",
      "text/plain": [
       "<Figure size 432x288 with 1 Axes>"
      ]
     },
     "metadata": {
      "needs_background": "light"
     },
     "output_type": "display_data"
    }
   ],
   "source": [
    "sns.histplot(np.log(df_short['diff']), stat='probability');"
   ]
  },
  {
   "cell_type": "code",
   "execution_count": 10,
   "metadata": {},
   "outputs": [
    {
     "data": {
      "text/html": [
       "<div>\n",
       "<style scoped>\n",
       "    .dataframe tbody tr th:only-of-type {\n",
       "        vertical-align: middle;\n",
       "    }\n",
       "\n",
       "    .dataframe tbody tr th {\n",
       "        vertical-align: top;\n",
       "    }\n",
       "\n",
       "    .dataframe thead th {\n",
       "        text-align: right;\n",
       "    }\n",
       "</style>\n",
       "<table border=\"1\" class=\"dataframe\">\n",
       "  <thead>\n",
       "    <tr style=\"text-align: right;\">\n",
       "      <th></th>\n",
       "      <th>incident</th>\n",
       "      <th>flg_90_12_add</th>\n",
       "      <th>Category_Feature_0</th>\n",
       "      <th>Category_Feature_1</th>\n",
       "      <th>Category_Feature_2</th>\n",
       "      <th>Category_Feature_3</th>\n",
       "      <th>Category_Feature_4</th>\n",
       "      <th>Category_Feature_5</th>\n",
       "      <th>Category_Feature_6</th>\n",
       "      <th>Category_Feature_7</th>\n",
       "      <th>...</th>\n",
       "      <th>Category_Feature_11_cnt</th>\n",
       "      <th>Category_Feature_12_cnt</th>\n",
       "      <th>Category_Feature_13_cnt</th>\n",
       "      <th>Category_Feature_14_cnt</th>\n",
       "      <th>Category_Feature_15_cnt</th>\n",
       "      <th>Category_Feature_16_cnt</th>\n",
       "      <th>Category_Feature_17_cnt</th>\n",
       "      <th>Category_Feature_18_cnt</th>\n",
       "      <th>diff</th>\n",
       "      <th>diff_log</th>\n",
       "    </tr>\n",
       "  </thead>\n",
       "  <tbody>\n",
       "    <tr>\n",
       "      <th>0</th>\n",
       "      <td>14511110</td>\n",
       "      <td>0.0</td>\n",
       "      <td>6.0</td>\n",
       "      <td>2</td>\n",
       "      <td>25</td>\n",
       "      <td>2.0</td>\n",
       "      <td>0.0</td>\n",
       "      <td>3</td>\n",
       "      <td>1</td>\n",
       "      <td>2.0</td>\n",
       "      <td>...</td>\n",
       "      <td>10335</td>\n",
       "      <td>64078</td>\n",
       "      <td>55978</td>\n",
       "      <td>35574</td>\n",
       "      <td>12192</td>\n",
       "      <td>2247</td>\n",
       "      <td>14703</td>\n",
       "      <td>7295</td>\n",
       "      <td>0.022191</td>\n",
       "      <td>-3.808085</td>\n",
       "    </tr>\n",
       "    <tr>\n",
       "      <th>1</th>\n",
       "      <td>15018800</td>\n",
       "      <td>0.0</td>\n",
       "      <td>1.0</td>\n",
       "      <td>2</td>\n",
       "      <td>49</td>\n",
       "      <td>4.0</td>\n",
       "      <td>0.0</td>\n",
       "      <td>3</td>\n",
       "      <td>1</td>\n",
       "      <td>2.0</td>\n",
       "      <td>...</td>\n",
       "      <td>71998</td>\n",
       "      <td>64078</td>\n",
       "      <td>55978</td>\n",
       "      <td>35574</td>\n",
       "      <td>42894</td>\n",
       "      <td>3726</td>\n",
       "      <td>9818</td>\n",
       "      <td>4659</td>\n",
       "      <td>0.019972</td>\n",
       "      <td>-3.913427</td>\n",
       "    </tr>\n",
       "    <tr>\n",
       "      <th>2</th>\n",
       "      <td>14499737</td>\n",
       "      <td>0.0</td>\n",
       "      <td>6.0</td>\n",
       "      <td>2</td>\n",
       "      <td>24</td>\n",
       "      <td>1.0</td>\n",
       "      <td>0.0</td>\n",
       "      <td>3</td>\n",
       "      <td>0</td>\n",
       "      <td>1.0</td>\n",
       "      <td>...</td>\n",
       "      <td>71998</td>\n",
       "      <td>64078</td>\n",
       "      <td>4307</td>\n",
       "      <td>4307</td>\n",
       "      <td>4307</td>\n",
       "      <td>4307</td>\n",
       "      <td>14786</td>\n",
       "      <td>4307</td>\n",
       "      <td>0.043884</td>\n",
       "      <td>-3.126204</td>\n",
       "    </tr>\n",
       "  </tbody>\n",
       "</table>\n",
       "<p>3 rows × 330 columns</p>\n",
       "</div>"
      ],
      "text/plain": [
       "   incident  flg_90_12_add  Category_Feature_0  Category_Feature_1  \\\n",
       "0  14511110            0.0                 6.0                   2   \n",
       "1  15018800            0.0                 1.0                   2   \n",
       "2  14499737            0.0                 6.0                   2   \n",
       "\n",
       "   Category_Feature_2  Category_Feature_3  Category_Feature_4  \\\n",
       "0                  25                 2.0                 0.0   \n",
       "1                  49                 4.0                 0.0   \n",
       "2                  24                 1.0                 0.0   \n",
       "\n",
       "   Category_Feature_5  Category_Feature_6  Category_Feature_7  ...  \\\n",
       "0                   3                   1                 2.0  ...   \n",
       "1                   3                   1                 2.0  ...   \n",
       "2                   3                   0                 1.0  ...   \n",
       "\n",
       "   Category_Feature_11_cnt  Category_Feature_12_cnt  Category_Feature_13_cnt  \\\n",
       "0                    10335                    64078                    55978   \n",
       "1                    71998                    64078                    55978   \n",
       "2                    71998                    64078                     4307   \n",
       "\n",
       "   Category_Feature_14_cnt  Category_Feature_15_cnt  Category_Feature_16_cnt  \\\n",
       "0                    35574                    12192                     2247   \n",
       "1                    35574                    42894                     3726   \n",
       "2                     4307                     4307                     4307   \n",
       "\n",
       "   Category_Feature_17_cnt  Category_Feature_18_cnt      diff  diff_log  \n",
       "0                    14703                     7295  0.022191 -3.808085  \n",
       "1                     9818                     4659  0.019972 -3.913427  \n",
       "2                    14786                     4307  0.043884 -3.126204  \n",
       "\n",
       "[3 rows x 330 columns]"
      ]
     },
     "execution_count": 10,
     "metadata": {},
     "output_type": "execute_result"
    }
   ],
   "source": [
    "df_short['diff_log'] = df_short['diff'].apply(lambda x: np.log(x))\n",
    "df_short.head(3)"
   ]
  },
  {
   "cell_type": "markdown",
   "metadata": {},
   "source": [
    "Также заменим все пропущенные значения на -1."
   ]
  },
  {
   "cell_type": "code",
   "execution_count": 11,
   "metadata": {},
   "outputs": [
    {
     "data": {
      "text/html": [
       "<div>\n",
       "<style scoped>\n",
       "    .dataframe tbody tr th:only-of-type {\n",
       "        vertical-align: middle;\n",
       "    }\n",
       "\n",
       "    .dataframe tbody tr th {\n",
       "        vertical-align: top;\n",
       "    }\n",
       "\n",
       "    .dataframe thead th {\n",
       "        text-align: right;\n",
       "    }\n",
       "</style>\n",
       "<table border=\"1\" class=\"dataframe\">\n",
       "  <thead>\n",
       "    <tr style=\"text-align: right;\">\n",
       "      <th></th>\n",
       "      <th>incident</th>\n",
       "      <th>flg_90_12_add</th>\n",
       "      <th>Category_Feature_0</th>\n",
       "      <th>Category_Feature_1</th>\n",
       "      <th>Category_Feature_2</th>\n",
       "      <th>Category_Feature_3</th>\n",
       "      <th>Category_Feature_4</th>\n",
       "      <th>Category_Feature_5</th>\n",
       "      <th>Category_Feature_6</th>\n",
       "      <th>Category_Feature_7</th>\n",
       "      <th>...</th>\n",
       "      <th>Category_Feature_11_cnt</th>\n",
       "      <th>Category_Feature_12_cnt</th>\n",
       "      <th>Category_Feature_13_cnt</th>\n",
       "      <th>Category_Feature_14_cnt</th>\n",
       "      <th>Category_Feature_15_cnt</th>\n",
       "      <th>Category_Feature_16_cnt</th>\n",
       "      <th>Category_Feature_17_cnt</th>\n",
       "      <th>Category_Feature_18_cnt</th>\n",
       "      <th>diff</th>\n",
       "      <th>diff_log</th>\n",
       "    </tr>\n",
       "  </thead>\n",
       "  <tbody>\n",
       "    <tr>\n",
       "      <th>0</th>\n",
       "      <td>14511110</td>\n",
       "      <td>0.0</td>\n",
       "      <td>6.0</td>\n",
       "      <td>2</td>\n",
       "      <td>25</td>\n",
       "      <td>2.0</td>\n",
       "      <td>0.0</td>\n",
       "      <td>3</td>\n",
       "      <td>1</td>\n",
       "      <td>2.0</td>\n",
       "      <td>...</td>\n",
       "      <td>10335</td>\n",
       "      <td>64078</td>\n",
       "      <td>55978</td>\n",
       "      <td>35574</td>\n",
       "      <td>12192</td>\n",
       "      <td>2247</td>\n",
       "      <td>14703</td>\n",
       "      <td>7295</td>\n",
       "      <td>0.022191</td>\n",
       "      <td>-3.808085</td>\n",
       "    </tr>\n",
       "    <tr>\n",
       "      <th>1</th>\n",
       "      <td>15018800</td>\n",
       "      <td>0.0</td>\n",
       "      <td>1.0</td>\n",
       "      <td>2</td>\n",
       "      <td>49</td>\n",
       "      <td>4.0</td>\n",
       "      <td>0.0</td>\n",
       "      <td>3</td>\n",
       "      <td>1</td>\n",
       "      <td>2.0</td>\n",
       "      <td>...</td>\n",
       "      <td>71998</td>\n",
       "      <td>64078</td>\n",
       "      <td>55978</td>\n",
       "      <td>35574</td>\n",
       "      <td>42894</td>\n",
       "      <td>3726</td>\n",
       "      <td>9818</td>\n",
       "      <td>4659</td>\n",
       "      <td>0.019972</td>\n",
       "      <td>-3.913427</td>\n",
       "    </tr>\n",
       "    <tr>\n",
       "      <th>2</th>\n",
       "      <td>14499737</td>\n",
       "      <td>0.0</td>\n",
       "      <td>6.0</td>\n",
       "      <td>2</td>\n",
       "      <td>24</td>\n",
       "      <td>1.0</td>\n",
       "      <td>0.0</td>\n",
       "      <td>3</td>\n",
       "      <td>0</td>\n",
       "      <td>1.0</td>\n",
       "      <td>...</td>\n",
       "      <td>71998</td>\n",
       "      <td>64078</td>\n",
       "      <td>4307</td>\n",
       "      <td>4307</td>\n",
       "      <td>4307</td>\n",
       "      <td>4307</td>\n",
       "      <td>14786</td>\n",
       "      <td>4307</td>\n",
       "      <td>0.043884</td>\n",
       "      <td>-3.126204</td>\n",
       "    </tr>\n",
       "    <tr>\n",
       "      <th>3</th>\n",
       "      <td>14953427</td>\n",
       "      <td>0.0</td>\n",
       "      <td>4.0</td>\n",
       "      <td>2</td>\n",
       "      <td>26</td>\n",
       "      <td>1.0</td>\n",
       "      <td>0.0</td>\n",
       "      <td>3</td>\n",
       "      <td>1</td>\n",
       "      <td>2.0</td>\n",
       "      <td>...</td>\n",
       "      <td>71998</td>\n",
       "      <td>64078</td>\n",
       "      <td>55978</td>\n",
       "      <td>35574</td>\n",
       "      <td>151</td>\n",
       "      <td>8470</td>\n",
       "      <td>12715</td>\n",
       "      <td>4659</td>\n",
       "      <td>0.013412</td>\n",
       "      <td>-4.311604</td>\n",
       "    </tr>\n",
       "    <tr>\n",
       "      <th>4</th>\n",
       "      <td>14744453</td>\n",
       "      <td>0.0</td>\n",
       "      <td>6.0</td>\n",
       "      <td>2</td>\n",
       "      <td>30</td>\n",
       "      <td>4.0</td>\n",
       "      <td>2.0</td>\n",
       "      <td>3</td>\n",
       "      <td>1</td>\n",
       "      <td>3.0</td>\n",
       "      <td>...</td>\n",
       "      <td>10335</td>\n",
       "      <td>64078</td>\n",
       "      <td>55978</td>\n",
       "      <td>35574</td>\n",
       "      <td>42894</td>\n",
       "      <td>6103</td>\n",
       "      <td>6408</td>\n",
       "      <td>4659</td>\n",
       "      <td>0.033354</td>\n",
       "      <td>-3.400582</td>\n",
       "    </tr>\n",
       "    <tr>\n",
       "      <th>...</th>\n",
       "      <td>...</td>\n",
       "      <td>...</td>\n",
       "      <td>...</td>\n",
       "      <td>...</td>\n",
       "      <td>...</td>\n",
       "      <td>...</td>\n",
       "      <td>...</td>\n",
       "      <td>...</td>\n",
       "      <td>...</td>\n",
       "      <td>...</td>\n",
       "      <td>...</td>\n",
       "      <td>...</td>\n",
       "      <td>...</td>\n",
       "      <td>...</td>\n",
       "      <td>...</td>\n",
       "      <td>...</td>\n",
       "      <td>...</td>\n",
       "      <td>...</td>\n",
       "      <td>...</td>\n",
       "      <td>...</td>\n",
       "      <td>...</td>\n",
       "    </tr>\n",
       "    <tr>\n",
       "      <th>82612</th>\n",
       "      <td>20559842</td>\n",
       "      <td>NaN</td>\n",
       "      <td>1.0</td>\n",
       "      <td>2</td>\n",
       "      <td>34</td>\n",
       "      <td>2.0</td>\n",
       "      <td>2.0</td>\n",
       "      <td>3</td>\n",
       "      <td>0</td>\n",
       "      <td>2.0</td>\n",
       "      <td>...</td>\n",
       "      <td>71998</td>\n",
       "      <td>64078</td>\n",
       "      <td>21127</td>\n",
       "      <td>1159</td>\n",
       "      <td>42894</td>\n",
       "      <td>6103</td>\n",
       "      <td>6408</td>\n",
       "      <td>7295</td>\n",
       "      <td>NaN</td>\n",
       "      <td>NaN</td>\n",
       "    </tr>\n",
       "    <tr>\n",
       "      <th>82613</th>\n",
       "      <td>20380255</td>\n",
       "      <td>NaN</td>\n",
       "      <td>10.0</td>\n",
       "      <td>2</td>\n",
       "      <td>66</td>\n",
       "      <td>2.0</td>\n",
       "      <td>0.0</td>\n",
       "      <td>5</td>\n",
       "      <td>1</td>\n",
       "      <td>3.0</td>\n",
       "      <td>...</td>\n",
       "      <td>71998</td>\n",
       "      <td>18255</td>\n",
       "      <td>21127</td>\n",
       "      <td>10458</td>\n",
       "      <td>9875</td>\n",
       "      <td>9881</td>\n",
       "      <td>14786</td>\n",
       "      <td>9886</td>\n",
       "      <td>NaN</td>\n",
       "      <td>NaN</td>\n",
       "    </tr>\n",
       "    <tr>\n",
       "      <th>82614</th>\n",
       "      <td>20348581</td>\n",
       "      <td>NaN</td>\n",
       "      <td>4.0</td>\n",
       "      <td>1</td>\n",
       "      <td>32</td>\n",
       "      <td>1.0</td>\n",
       "      <td>0.0</td>\n",
       "      <td>3</td>\n",
       "      <td>0</td>\n",
       "      <td>1.0</td>\n",
       "      <td>...</td>\n",
       "      <td>71998</td>\n",
       "      <td>64078</td>\n",
       "      <td>55978</td>\n",
       "      <td>35574</td>\n",
       "      <td>12192</td>\n",
       "      <td>3785</td>\n",
       "      <td>9228</td>\n",
       "      <td>4434</td>\n",
       "      <td>NaN</td>\n",
       "      <td>NaN</td>\n",
       "    </tr>\n",
       "    <tr>\n",
       "      <th>82615</th>\n",
       "      <td>21118162</td>\n",
       "      <td>NaN</td>\n",
       "      <td>5.0</td>\n",
       "      <td>2</td>\n",
       "      <td>62</td>\n",
       "      <td>5.0</td>\n",
       "      <td>0.0</td>\n",
       "      <td>6</td>\n",
       "      <td>1</td>\n",
       "      <td>1.0</td>\n",
       "      <td>...</td>\n",
       "      <td>71998</td>\n",
       "      <td>18255</td>\n",
       "      <td>21127</td>\n",
       "      <td>10458</td>\n",
       "      <td>9875</td>\n",
       "      <td>9881</td>\n",
       "      <td>14786</td>\n",
       "      <td>9886</td>\n",
       "      <td>NaN</td>\n",
       "      <td>NaN</td>\n",
       "    </tr>\n",
       "    <tr>\n",
       "      <th>82616</th>\n",
       "      <td>21452003</td>\n",
       "      <td>NaN</td>\n",
       "      <td>1.0</td>\n",
       "      <td>1</td>\n",
       "      <td>43</td>\n",
       "      <td>2.0</td>\n",
       "      <td>2.0</td>\n",
       "      <td>3</td>\n",
       "      <td>0</td>\n",
       "      <td>2.0</td>\n",
       "      <td>...</td>\n",
       "      <td>71998</td>\n",
       "      <td>64078</td>\n",
       "      <td>55978</td>\n",
       "      <td>9645</td>\n",
       "      <td>42894</td>\n",
       "      <td>1385</td>\n",
       "      <td>14959</td>\n",
       "      <td>10696</td>\n",
       "      <td>NaN</td>\n",
       "      <td>NaN</td>\n",
       "    </tr>\n",
       "  </tbody>\n",
       "</table>\n",
       "<p>82617 rows × 330 columns</p>\n",
       "</div>"
      ],
      "text/plain": [
       "       incident  flg_90_12_add  Category_Feature_0  Category_Feature_1  \\\n",
       "0      14511110            0.0                 6.0                   2   \n",
       "1      15018800            0.0                 1.0                   2   \n",
       "2      14499737            0.0                 6.0                   2   \n",
       "3      14953427            0.0                 4.0                   2   \n",
       "4      14744453            0.0                 6.0                   2   \n",
       "...         ...            ...                 ...                 ...   \n",
       "82612  20559842            NaN                 1.0                   2   \n",
       "82613  20380255            NaN                10.0                   2   \n",
       "82614  20348581            NaN                 4.0                   1   \n",
       "82615  21118162            NaN                 5.0                   2   \n",
       "82616  21452003            NaN                 1.0                   1   \n",
       "\n",
       "       Category_Feature_2  Category_Feature_3  Category_Feature_4  \\\n",
       "0                      25                 2.0                 0.0   \n",
       "1                      49                 4.0                 0.0   \n",
       "2                      24                 1.0                 0.0   \n",
       "3                      26                 1.0                 0.0   \n",
       "4                      30                 4.0                 2.0   \n",
       "...                   ...                 ...                 ...   \n",
       "82612                  34                 2.0                 2.0   \n",
       "82613                  66                 2.0                 0.0   \n",
       "82614                  32                 1.0                 0.0   \n",
       "82615                  62                 5.0                 0.0   \n",
       "82616                  43                 2.0                 2.0   \n",
       "\n",
       "       Category_Feature_5  Category_Feature_6  Category_Feature_7  ...  \\\n",
       "0                       3                   1                 2.0  ...   \n",
       "1                       3                   1                 2.0  ...   \n",
       "2                       3                   0                 1.0  ...   \n",
       "3                       3                   1                 2.0  ...   \n",
       "4                       3                   1                 3.0  ...   \n",
       "...                   ...                 ...                 ...  ...   \n",
       "82612                   3                   0                 2.0  ...   \n",
       "82613                   5                   1                 3.0  ...   \n",
       "82614                   3                   0                 1.0  ...   \n",
       "82615                   6                   1                 1.0  ...   \n",
       "82616                   3                   0                 2.0  ...   \n",
       "\n",
       "       Category_Feature_11_cnt  Category_Feature_12_cnt  \\\n",
       "0                        10335                    64078   \n",
       "1                        71998                    64078   \n",
       "2                        71998                    64078   \n",
       "3                        71998                    64078   \n",
       "4                        10335                    64078   \n",
       "...                        ...                      ...   \n",
       "82612                    71998                    64078   \n",
       "82613                    71998                    18255   \n",
       "82614                    71998                    64078   \n",
       "82615                    71998                    18255   \n",
       "82616                    71998                    64078   \n",
       "\n",
       "       Category_Feature_13_cnt  Category_Feature_14_cnt  \\\n",
       "0                        55978                    35574   \n",
       "1                        55978                    35574   \n",
       "2                         4307                     4307   \n",
       "3                        55978                    35574   \n",
       "4                        55978                    35574   \n",
       "...                        ...                      ...   \n",
       "82612                    21127                     1159   \n",
       "82613                    21127                    10458   \n",
       "82614                    55978                    35574   \n",
       "82615                    21127                    10458   \n",
       "82616                    55978                     9645   \n",
       "\n",
       "       Category_Feature_15_cnt  Category_Feature_16_cnt  \\\n",
       "0                        12192                     2247   \n",
       "1                        42894                     3726   \n",
       "2                         4307                     4307   \n",
       "3                          151                     8470   \n",
       "4                        42894                     6103   \n",
       "...                        ...                      ...   \n",
       "82612                    42894                     6103   \n",
       "82613                     9875                     9881   \n",
       "82614                    12192                     3785   \n",
       "82615                     9875                     9881   \n",
       "82616                    42894                     1385   \n",
       "\n",
       "       Category_Feature_17_cnt  Category_Feature_18_cnt      diff  diff_log  \n",
       "0                        14703                     7295  0.022191 -3.808085  \n",
       "1                         9818                     4659  0.019972 -3.913427  \n",
       "2                        14786                     4307  0.043884 -3.126204  \n",
       "3                        12715                     4659  0.013412 -4.311604  \n",
       "4                         6408                     4659  0.033354 -3.400582  \n",
       "...                        ...                      ...       ...       ...  \n",
       "82612                     6408                     7295       NaN       NaN  \n",
       "82613                    14786                     9886       NaN       NaN  \n",
       "82614                     9228                     4434       NaN       NaN  \n",
       "82615                    14786                     9886       NaN       NaN  \n",
       "82616                    14959                    10696       NaN       NaN  \n",
       "\n",
       "[82617 rows x 330 columns]"
      ]
     },
     "execution_count": 11,
     "metadata": {},
     "output_type": "execute_result"
    }
   ],
   "source": [
    "for col in df_short.columns[2:-2]:\n",
    "    df_short[col] = df_short[col].fillna(-1)\n",
    "df_short"
   ]
  },
  {
   "cell_type": "markdown",
   "metadata": {},
   "source": [
    "# Модель"
   ]
  },
  {
   "cell_type": "markdown",
   "metadata": {},
   "source": [
    "## 1. Построим CatBoost модель"
   ]
  },
  {
   "cell_type": "code",
   "execution_count": 12,
   "metadata": {},
   "outputs": [
    {
     "name": "stdout",
     "output_type": "stream",
     "text": [
      "Train:  65293 65293\n",
      "Val  :  16324 16324\n"
     ]
    }
   ],
   "source": [
    "df_ml_01 = df_short[~df_short['diff'].isnull()].copy()\n",
    "drop_feat_list = ['incident','flg_90_12_add','PD','diff','diff_log']\n",
    "feats_01 = df_ml_01.drop(drop_feat_list, axis=1).columns\n",
    "target_feat_name = ['diff', 'diff_log']\n",
    "\n",
    "train_index_01, val_index_01 = train_test_split(np.arange(df_ml_01.shape[0]), test_size=0.2, stratify = df_ml_01['flg_90_12_add'], random_state=42)\n",
    "\n",
    "X_train_01 = df_ml_01.drop(drop_feat_list, axis=1).iloc[train_index_01].values\n",
    "y_train_01 = df_ml_01[target_feat_name].iloc[train_index_01].values\n",
    "X_val_01 = df_ml_01.drop(drop_feat_list, axis=1).iloc[val_index_01].values\n",
    "y_val_01 = df_ml_01[target_feat_name].iloc[val_index_01].values\n",
    "\n",
    "print('Train: ', X_train_01.shape[0], y_train_01.shape[0])\n",
    "print('Val  : ', X_val_01.shape[0], y_val_01.shape[0])\n"
   ]
  },
  {
   "cell_type": "code",
   "execution_count": 13,
   "metadata": {},
   "outputs": [],
   "source": [
    "model_02 = CatBoostRegressor(iterations=2000,\n",
    "                             verbose=False,\n",
    "                             learning_rate=0.1,\n",
    "                             loss_function='MAE',\n",
    "                             eval_metric='MAE',\n",
    "                             depth=4,\n",
    "                             l2_leaf_reg=0.01,   #L2 regularization\n",
    "                             min_data_in_leaf=4,\n",
    "                             random_seed = 2024\n",
    "                            )"
   ]
  },
  {
   "cell_type": "code",
   "execution_count": 14,
   "metadata": {},
   "outputs": [
    {
     "data": {
      "text/plain": [
       "<catboost.core.CatBoostRegressor at 0x1b80f84a490>"
      ]
     },
     "execution_count": 14,
     "metadata": {},
     "output_type": "execute_result"
    }
   ],
   "source": [
    "model_02.fit(X_train_01, y_train_01[:,-1])"
   ]
  },
  {
   "cell_type": "code",
   "execution_count": 15,
   "metadata": {},
   "outputs": [
    {
     "name": "stdout",
     "output_type": "stream",
     "text": [
      "Train MAE:  0.05558327652651124\n",
      "Val   MAE:  0.05648612248222328\n"
     ]
    }
   ],
   "source": [
    "print('Train MAE: ', mean_absolute_error(y_train_01[:,-2], np.exp(model_02.predict(X_train_01))))\n",
    "print('Val   MAE: ', mean_absolute_error(y_val_01[:,-2], np.exp(model_02.predict(X_val_01)))) "
   ]
  },
  {
   "cell_type": "code",
   "execution_count": 16,
   "metadata": {},
   "outputs": [
    {
     "name": "stdout",
     "output_type": "stream",
     "text": [
      "0.25800398555665904\n"
     ]
    },
    {
     "data": {
      "text/html": [
       "<div>\n",
       "<style scoped>\n",
       "    .dataframe tbody tr th:only-of-type {\n",
       "        vertical-align: middle;\n",
       "    }\n",
       "\n",
       "    .dataframe tbody tr th {\n",
       "        vertical-align: top;\n",
       "    }\n",
       "\n",
       "    .dataframe thead th {\n",
       "        text-align: right;\n",
       "    }\n",
       "</style>\n",
       "<table border=\"1\" class=\"dataframe\">\n",
       "  <thead>\n",
       "    <tr style=\"text-align: right;\">\n",
       "      <th></th>\n",
       "      <th>0</th>\n",
       "    </tr>\n",
       "  </thead>\n",
       "  <tbody>\n",
       "    <tr>\n",
       "      <th>0</th>\n",
       "      <td>0.012753</td>\n",
       "    </tr>\n",
       "    <tr>\n",
       "      <th>1</th>\n",
       "      <td>0.030935</td>\n",
       "    </tr>\n",
       "    <tr>\n",
       "      <th>2</th>\n",
       "      <td>0.017231</td>\n",
       "    </tr>\n",
       "    <tr>\n",
       "      <th>3</th>\n",
       "      <td>0.083418</td>\n",
       "    </tr>\n",
       "    <tr>\n",
       "      <th>4</th>\n",
       "      <td>0.034975</td>\n",
       "    </tr>\n",
       "  </tbody>\n",
       "</table>\n",
       "</div>"
      ],
      "text/plain": [
       "          0\n",
       "0  0.012753\n",
       "1  0.030935\n",
       "2  0.017231\n",
       "3  0.083418\n",
       "4  0.034975"
      ]
     },
     "execution_count": 16,
     "metadata": {},
     "output_type": "execute_result"
    }
   ],
   "source": [
    "df_short_test = df_short[df_short['diff'].isnull()]\n",
    "pred_test = np.exp(model_02.predict(df_short_test.drop(drop_feat_list, axis=1).values))\n",
    "print(np.max(pred_test))\n",
    "sample_submission[0] = pred_test\n",
    "sample_submission.to_csv('ans_cb_02_1.csv', header=False, index=False)\n",
    "sample_submission.head()"
   ]
  },
  {
   "cell_type": "markdown",
   "metadata": {},
   "source": [
    "**SCORE: 0.05911**"
   ]
  },
  {
   "cell_type": "markdown",
   "metadata": {},
   "source": [
    "Посмотрим на веса для всех признаков."
   ]
  },
  {
   "cell_type": "code",
   "execution_count": 81,
   "metadata": {},
   "outputs": [
    {
     "data": {
      "text/html": [
       "<div>\n",
       "<style scoped>\n",
       "    .dataframe tbody tr th:only-of-type {\n",
       "        vertical-align: middle;\n",
       "    }\n",
       "\n",
       "    .dataframe tbody tr th {\n",
       "        vertical-align: top;\n",
       "    }\n",
       "\n",
       "    .dataframe thead th {\n",
       "        text-align: right;\n",
       "    }\n",
       "</style>\n",
       "<table border=\"1\" class=\"dataframe\">\n",
       "  <thead>\n",
       "    <tr style=\"text-align: right;\">\n",
       "      <th></th>\n",
       "      <th>feature</th>\n",
       "      <th>weight</th>\n",
       "    </tr>\n",
       "  </thead>\n",
       "  <tbody>\n",
       "    <tr>\n",
       "      <th>0</th>\n",
       "      <td>Category_Feature_2</td>\n",
       "      <td>9.837595</td>\n",
       "    </tr>\n",
       "    <tr>\n",
       "      <th>1</th>\n",
       "      <td>Feature_795</td>\n",
       "      <td>7.382841</td>\n",
       "    </tr>\n",
       "    <tr>\n",
       "      <th>2</th>\n",
       "      <td>Feature_960</td>\n",
       "      <td>6.010436</td>\n",
       "    </tr>\n",
       "    <tr>\n",
       "      <th>3</th>\n",
       "      <td>Feature_69</td>\n",
       "      <td>5.282976</td>\n",
       "    </tr>\n",
       "    <tr>\n",
       "      <th>4</th>\n",
       "      <td>Feature_962</td>\n",
       "      <td>4.924803</td>\n",
       "    </tr>\n",
       "  </tbody>\n",
       "</table>\n",
       "</div>"
      ],
      "text/plain": [
       "              feature    weight\n",
       "0  Category_Feature_2  9.837595\n",
       "1         Feature_795  7.382841\n",
       "2         Feature_960  6.010436\n",
       "3          Feature_69  5.282976\n",
       "4         Feature_962  4.924803"
      ]
     },
     "execution_count": 81,
     "metadata": {},
     "output_type": "execute_result"
    }
   ],
   "source": [
    "feature_importance = pd.DataFrame({'feature': feats_01, 'weight': model_02.feature_importances_})\n",
    "feature_importance = feature_importance.sort_values(by='weight', ascending=False, ignore_index=True)\n",
    "feature_importance.to_csv('feature_importance_cb.csv')\n",
    "#feature_importance = pd.read_csv('feature_importance_cb.csv')\n",
    "feature_importance.head()"
   ]
  },
  {
   "cell_type": "code",
   "execution_count": 82,
   "metadata": {},
   "outputs": [
    {
     "data": {
      "image/png": "[encoded data removed]",
      "text/plain": [
       "<Figure size 1080x504 with 1 Axes>"
      ]
     },
     "metadata": {
      "needs_background": "light"
     },
     "output_type": "display_data"
    }
   ],
   "source": [
    "plt.figure(figsize=(15,7))\n",
    "sns.barplot(x='weight', y='feature', data=feature_importance, orient='h');"
   ]
  },
  {
   "cell_type": "code",
   "execution_count": 83,
   "metadata": {},
   "outputs": [
    {
     "data": {
      "image/png": "[encoded data removed]",
      "text/plain": [
       "<Figure size 432x288 with 1 Axes>"
      ]
     },
     "metadata": {
      "needs_background": "light"
     },
     "output_type": "display_data"
    }
   ],
   "source": [
    "plt.plot(feature_importance['weight']);\n",
    "plt.xlabel('Feature number'); plt.ylabel('Weight');"
   ]
  },
  {
   "cell_type": "markdown",
   "metadata": {},
   "source": [
    "Многие признаки имеют веса близкие к нулю. Основываясь на графиках, оставим первые 100 признаков."
   ]
  },
  {
   "cell_type": "code",
   "execution_count": 19,
   "metadata": {},
   "outputs": [
    {
     "data": {
      "text/plain": [
       "array(['Category_Feature_2', 'Feature_795', 'Feature_960', 'Feature_69',\n",
       "       'Feature_962', 'Category_Feature_1_cnt', 'Feature_790',\n",
       "       'Category_Feature_3_cnt', 'Category_Feature_1', 'Feature_71',\n",
       "       'Feature_1883', 'Category_Feature_5', 'Feature_1833',\n",
       "       'Feature_1085', 'Feature_76', 'Category_Feature_15_cnt',\n",
       "       'Feature_1743', 'Category_Feature_18_cnt', 'Feature_1885',\n",
       "       'Feature_1886', 'Category_Feature_0', 'Feature_31', 'Feature_1765',\n",
       "       'Feature_261', 'Category_Feature_15', 'Feature_95', 'Feature_22',\n",
       "       'Category_Feature_18', 'Feature_57', 'Feature_949', 'Feature_6',\n",
       "       'Category_Feature_0_cnt', 'Category_Feature_5_cnt', 'Feature_1760',\n",
       "       'Category_Feature_10', 'Feature_797', 'Category_Feature_16',\n",
       "       'Feature_77', 'Feature_3', 'Category_Feature_2_cnt',\n",
       "       'Feature_1759', 'Category_Feature_8', 'Category_Feature_3',\n",
       "       'Feature_1751', 'Category_Feature_16_cnt', 'Feature_1035',\n",
       "       'Feature_1834', 'Feature_97', 'Feature_262', 'Feature_1755',\n",
       "       'Feature_74', 'Feature_1761', 'Feature_1043', 'Feature_1767',\n",
       "       'Feature_1', 'Feature_657', 'Feature_23', 'Feature_959',\n",
       "       'Feature_9', 'Feature_2', 'Feature_0', 'Feature_1044',\n",
       "       'Feature_1887', 'Feature_1078', 'Feature_73', 'Feature_28',\n",
       "       'Feature_1026', 'Feature_1863', 'Feature_1770', 'Feature_1864',\n",
       "       'Feature_794', 'Feature_1746', 'Category_Feature_14_cnt',\n",
       "       'Feature_61', 'Feature_258', 'Feature_1861', 'Feature_87',\n",
       "       'Feature_98', 'Category_Feature_6_cnt', 'Feature_796',\n",
       "       'Feature_263', 'Feature_4', 'Feature_88', 'Feature_100',\n",
       "       'Feature_1764', 'Feature_1083', 'Feature_70',\n",
       "       'Category_Feature_17_cnt', 'Feature_256', 'Feature_491',\n",
       "       'Feature_63', 'Feature_921', 'Feature_672', 'Feature_549',\n",
       "       'Feature_1884', 'Feature_1084', 'Feature_550', 'Feature_649',\n",
       "       'Feature_643', 'Feature_18'], dtype=object)"
      ]
     },
     "execution_count": 19,
     "metadata": {},
     "output_type": "execute_result"
    }
   ],
   "source": [
    "feature_importance.iloc[:100].to_csv('feature_importance_cb_100.csv')\n",
    "significant_feats = feature_importance.iloc[:100]['feature'].values\n",
    "#significant_feats = pd.read_csv('feature_importance_cb_100.csv')['feature'].values\n",
    "significant_feats"
   ]
  },
  {
   "cell_type": "code",
   "execution_count": 20,
   "metadata": {},
   "outputs": [
    {
     "data": {
      "text/html": [
       "<div>\n",
       "<style scoped>\n",
       "    .dataframe tbody tr th:only-of-type {\n",
       "        vertical-align: middle;\n",
       "    }\n",
       "\n",
       "    .dataframe tbody tr th {\n",
       "        vertical-align: top;\n",
       "    }\n",
       "\n",
       "    .dataframe thead th {\n",
       "        text-align: right;\n",
       "    }\n",
       "</style>\n",
       "<table border=\"1\" class=\"dataframe\">\n",
       "  <thead>\n",
       "    <tr style=\"text-align: right;\">\n",
       "      <th></th>\n",
       "      <th>incident</th>\n",
       "      <th>flg_90_12_add</th>\n",
       "      <th>Category_Feature_2</th>\n",
       "      <th>Feature_795</th>\n",
       "      <th>Feature_960</th>\n",
       "      <th>Feature_69</th>\n",
       "      <th>Feature_962</th>\n",
       "      <th>Category_Feature_1_cnt</th>\n",
       "      <th>Feature_790</th>\n",
       "      <th>Category_Feature_3_cnt</th>\n",
       "      <th>...</th>\n",
       "      <th>Feature_672</th>\n",
       "      <th>Feature_549</th>\n",
       "      <th>Feature_1884</th>\n",
       "      <th>Feature_1084</th>\n",
       "      <th>Feature_550</th>\n",
       "      <th>Feature_649</th>\n",
       "      <th>Feature_643</th>\n",
       "      <th>Feature_18</th>\n",
       "      <th>diff</th>\n",
       "      <th>diff_log</th>\n",
       "    </tr>\n",
       "  </thead>\n",
       "  <tbody>\n",
       "    <tr>\n",
       "      <th>0</th>\n",
       "      <td>14511110</td>\n",
       "      <td>0.0</td>\n",
       "      <td>25</td>\n",
       "      <td>-1.000000</td>\n",
       "      <td>1.000000</td>\n",
       "      <td>18.0</td>\n",
       "      <td>1.000000</td>\n",
       "      <td>39941</td>\n",
       "      <td>-1.000000</td>\n",
       "      <td>44156</td>\n",
       "      <td>...</td>\n",
       "      <td>2.808897</td>\n",
       "      <td>0.082487</td>\n",
       "      <td>0</td>\n",
       "      <td>1.0</td>\n",
       "      <td>0.082487</td>\n",
       "      <td>-1.000000</td>\n",
       "      <td>-1.000000</td>\n",
       "      <td>1</td>\n",
       "      <td>0.022191</td>\n",
       "      <td>-3.808085</td>\n",
       "    </tr>\n",
       "    <tr>\n",
       "      <th>1</th>\n",
       "      <td>15018800</td>\n",
       "      <td>0.0</td>\n",
       "      <td>49</td>\n",
       "      <td>1.000000</td>\n",
       "      <td>0.992537</td>\n",
       "      <td>133.0</td>\n",
       "      <td>0.993631</td>\n",
       "      <td>39941</td>\n",
       "      <td>1.000000</td>\n",
       "      <td>6777</td>\n",
       "      <td>...</td>\n",
       "      <td>3.552700</td>\n",
       "      <td>2.266088</td>\n",
       "      <td>1</td>\n",
       "      <td>1.0</td>\n",
       "      <td>0.088695</td>\n",
       "      <td>2.001270</td>\n",
       "      <td>1.295370</td>\n",
       "      <td>1</td>\n",
       "      <td>0.019972</td>\n",
       "      <td>-3.913427</td>\n",
       "    </tr>\n",
       "    <tr>\n",
       "      <th>2</th>\n",
       "      <td>14499737</td>\n",
       "      <td>0.0</td>\n",
       "      <td>24</td>\n",
       "      <td>1.020237</td>\n",
       "      <td>0.956044</td>\n",
       "      <td>49.0</td>\n",
       "      <td>0.964602</td>\n",
       "      <td>39941</td>\n",
       "      <td>1.020237</td>\n",
       "      <td>21324</td>\n",
       "      <td>...</td>\n",
       "      <td>1.144553</td>\n",
       "      <td>1.189426</td>\n",
       "      <td>1</td>\n",
       "      <td>1.0</td>\n",
       "      <td>0.041769</td>\n",
       "      <td>1.144553</td>\n",
       "      <td>0.983492</td>\n",
       "      <td>5</td>\n",
       "      <td>0.043884</td>\n",
       "      <td>-3.126204</td>\n",
       "    </tr>\n",
       "    <tr>\n",
       "      <th>3</th>\n",
       "      <td>14953427</td>\n",
       "      <td>0.0</td>\n",
       "      <td>26</td>\n",
       "      <td>-1.000000</td>\n",
       "      <td>-1.000000</td>\n",
       "      <td>-1.0</td>\n",
       "      <td>-1.000000</td>\n",
       "      <td>39941</td>\n",
       "      <td>-1.000000</td>\n",
       "      <td>21324</td>\n",
       "      <td>...</td>\n",
       "      <td>-1.000000</td>\n",
       "      <td>-1.000000</td>\n",
       "      <td>1</td>\n",
       "      <td>-1.0</td>\n",
       "      <td>-1.000000</td>\n",
       "      <td>-1.000000</td>\n",
       "      <td>-1.000000</td>\n",
       "      <td>0</td>\n",
       "      <td>0.013412</td>\n",
       "      <td>-4.311604</td>\n",
       "    </tr>\n",
       "    <tr>\n",
       "      <th>4</th>\n",
       "      <td>14744453</td>\n",
       "      <td>0.0</td>\n",
       "      <td>30</td>\n",
       "      <td>0.984897</td>\n",
       "      <td>1.000000</td>\n",
       "      <td>12.0</td>\n",
       "      <td>1.000000</td>\n",
       "      <td>39941</td>\n",
       "      <td>0.984897</td>\n",
       "      <td>6777</td>\n",
       "      <td>...</td>\n",
       "      <td>1.015135</td>\n",
       "      <td>1.183242</td>\n",
       "      <td>1</td>\n",
       "      <td>1.0</td>\n",
       "      <td>0.072245</td>\n",
       "      <td>1.015135</td>\n",
       "      <td>1.015135</td>\n",
       "      <td>4</td>\n",
       "      <td>0.033354</td>\n",
       "      <td>-3.400582</td>\n",
       "    </tr>\n",
       "  </tbody>\n",
       "</table>\n",
       "<p>5 rows × 104 columns</p>\n",
       "</div>"
      ],
      "text/plain": [
       "   incident  flg_90_12_add  Category_Feature_2  Feature_795  Feature_960  \\\n",
       "0  14511110            0.0                  25    -1.000000     1.000000   \n",
       "1  15018800            0.0                  49     1.000000     0.992537   \n",
       "2  14499737            0.0                  24     1.020237     0.956044   \n",
       "3  14953427            0.0                  26    -1.000000    -1.000000   \n",
       "4  14744453            0.0                  30     0.984897     1.000000   \n",
       "\n",
       "   Feature_69  Feature_962  Category_Feature_1_cnt  Feature_790  \\\n",
       "0        18.0     1.000000                   39941    -1.000000   \n",
       "1       133.0     0.993631                   39941     1.000000   \n",
       "2        49.0     0.964602                   39941     1.020237   \n",
       "3        -1.0    -1.000000                   39941    -1.000000   \n",
       "4        12.0     1.000000                   39941     0.984897   \n",
       "\n",
       "   Category_Feature_3_cnt  ...  Feature_672  Feature_549  Feature_1884  \\\n",
       "0                   44156  ...     2.808897     0.082487             0   \n",
       "1                    6777  ...     3.552700     2.266088             1   \n",
       "2                   21324  ...     1.144553     1.189426             1   \n",
       "3                   21324  ...    -1.000000    -1.000000             1   \n",
       "4                    6777  ...     1.015135     1.183242             1   \n",
       "\n",
       "   Feature_1084  Feature_550  Feature_649  Feature_643  Feature_18      diff  \\\n",
       "0           1.0     0.082487    -1.000000    -1.000000           1  0.022191   \n",
       "1           1.0     0.088695     2.001270     1.295370           1  0.019972   \n",
       "2           1.0     0.041769     1.144553     0.983492           5  0.043884   \n",
       "3          -1.0    -1.000000    -1.000000    -1.000000           0  0.013412   \n",
       "4           1.0     0.072245     1.015135     1.015135           4  0.033354   \n",
       "\n",
       "   diff_log  \n",
       "0 -3.808085  \n",
       "1 -3.913427  \n",
       "2 -3.126204  \n",
       "3 -4.311604  \n",
       "4 -3.400582  \n",
       "\n",
       "[5 rows x 104 columns]"
      ]
     },
     "execution_count": 20,
     "metadata": {},
     "output_type": "execute_result"
    }
   ],
   "source": [
    "df_short_100 = df_short[['incident','flg_90_12_add']+list(significant_feats)+['diff','diff_log']].copy()\n",
    "df_short_100.head()"
   ]
  },
  {
   "cell_type": "markdown",
   "metadata": {},
   "source": [
    "## 2. Модель со значащими 100 признаками\n",
    "\n",
    "Посмотрим, как удаление признаков с малыми весами повлияло на модель."
   ]
  },
  {
   "cell_type": "code",
   "execution_count": 21,
   "metadata": {},
   "outputs": [
    {
     "name": "stdout",
     "output_type": "stream",
     "text": [
      "Train:  65293 65293\n",
      "Val  :  16324 16324\n"
     ]
    }
   ],
   "source": [
    "df_ml_03 = df_short_100[~df_short_100['diff'].isnull()].copy()\n",
    "drop_feat_list = ['incident','flg_90_12_add','diff','diff_log']\n",
    "target_feat_name = ['diff', 'diff_log']\n",
    "\n",
    "train_index_03, val_index_03 = train_test_split(np.arange(df_ml_03.shape[0]), test_size=0.2, stratify = df_ml_03['flg_90_12_add'], random_state=42)\n",
    "\n",
    "X_train_03 = df_ml_03.drop(drop_feat_list, axis=1).iloc[train_index_03].values\n",
    "y_train_03 = df_ml_03[target_feat_name].iloc[train_index_03].values\n",
    "X_val_03 = df_ml_03.drop(drop_feat_list, axis=1).iloc[val_index_03].values\n",
    "y_val_03 = df_ml_03[target_feat_name].iloc[val_index_03].values\n",
    "\n",
    "print('Train: ', X_train_03.shape[0], y_train_03.shape[0])\n",
    "print('Val  : ', X_val_03.shape[0], y_val_03.shape[0])\n"
   ]
  },
  {
   "cell_type": "code",
   "execution_count": 88,
   "metadata": {},
   "outputs": [],
   "source": [
    "model_03 = CatBoostRegressor(iterations=2000,\n",
    "                             verbose=False,\n",
    "                             learning_rate=0.1,\n",
    "                             loss_function='MAE',\n",
    "                             eval_metric='MAE',\n",
    "                             depth=4,\n",
    "                             l2_leaf_reg=0.01,\n",
    "                             min_data_in_leaf=4,\n",
    "                             random_seed = 2024\n",
    "                            )"
   ]
  },
  {
   "cell_type": "code",
   "execution_count": 89,
   "metadata": {},
   "outputs": [
    {
     "data": {
      "text/plain": [
       "<catboost.core.CatBoostRegressor at 0x17d9a2c2a30>"
      ]
     },
     "execution_count": 89,
     "metadata": {},
     "output_type": "execute_result"
    }
   ],
   "source": [
    "model_03.fit(X_train_03, y_train_03[:,-1])"
   ]
  },
  {
   "cell_type": "code",
   "execution_count": 90,
   "metadata": {},
   "outputs": [
    {
     "name": "stdout",
     "output_type": "stream",
     "text": [
      "Train MAE:  0.05560688296617053\n",
      "Val   MAE: 0.056431632213792736\n"
     ]
    }
   ],
   "source": [
    "print('Train MAE: ', mean_absolute_error(y_train_03[:,-2], np.exp(model_03.predict(X_train_03))))\n",
    "print('Val   MAE:', mean_absolute_error(y_val_03[:,-2], np.exp(model_03.predict(X_val_03))))"
   ]
  },
  {
   "cell_type": "code",
   "execution_count": 91,
   "metadata": {},
   "outputs": [
    {
     "name": "stdout",
     "output_type": "stream",
     "text": [
      "0.2821057410026358\n"
     ]
    },
    {
     "data": {
      "text/html": [
       "<div>\n",
       "<style scoped>\n",
       "    .dataframe tbody tr th:only-of-type {\n",
       "        vertical-align: middle;\n",
       "    }\n",
       "\n",
       "    .dataframe tbody tr th {\n",
       "        vertical-align: top;\n",
       "    }\n",
       "\n",
       "    .dataframe thead th {\n",
       "        text-align: right;\n",
       "    }\n",
       "</style>\n",
       "<table border=\"1\" class=\"dataframe\">\n",
       "  <thead>\n",
       "    <tr style=\"text-align: right;\">\n",
       "      <th></th>\n",
       "      <th>0</th>\n",
       "    </tr>\n",
       "  </thead>\n",
       "  <tbody>\n",
       "    <tr>\n",
       "      <th>0</th>\n",
       "      <td>0.012006</td>\n",
       "    </tr>\n",
       "    <tr>\n",
       "      <th>1</th>\n",
       "      <td>0.035242</td>\n",
       "    </tr>\n",
       "    <tr>\n",
       "      <th>2</th>\n",
       "      <td>0.017511</td>\n",
       "    </tr>\n",
       "    <tr>\n",
       "      <th>3</th>\n",
       "      <td>0.095542</td>\n",
       "    </tr>\n",
       "    <tr>\n",
       "      <th>4</th>\n",
       "      <td>0.035823</td>\n",
       "    </tr>\n",
       "  </tbody>\n",
       "</table>\n",
       "</div>"
      ],
      "text/plain": [
       "          0\n",
       "0  0.012006\n",
       "1  0.035242\n",
       "2  0.017511\n",
       "3  0.095542\n",
       "4  0.035823"
      ]
     },
     "execution_count": 91,
     "metadata": {},
     "output_type": "execute_result"
    }
   ],
   "source": [
    "df_short_test_03 = df_short_100[df_short_100['diff'].isnull()].drop(drop_feat_list, axis=1)\n",
    "pred_test_03 = np.exp(model_03.predict(df_short_test_03.values))\n",
    "print(np.max(pred_test_03))\n",
    "pred_test_03[pred_test_03>1.]=1.\n",
    "sample_submission[0] = pred_test_03\n",
    "sample_submission.to_csv('ans_cb_03.csv', header=False, index=False)\n",
    "sample_submission.head()"
   ]
  },
  {
   "cell_type": "markdown",
   "metadata": {},
   "source": [
    "**SCORE: 0.05893** (скор ухудшился незначительно)"
   ]
  },
  {
   "cell_type": "markdown",
   "metadata": {},
   "source": [
    "## 2.1 Изменили loss с MAE на RMSE\n",
    "\n",
    "Попоробуем в качестве loss функции взять RMSE, а не MAE."
   ]
  },
  {
   "cell_type": "code",
   "execution_count": 22,
   "metadata": {},
   "outputs": [],
   "source": [
    "model_04 = CatBoostRegressor(iterations=2000,\n",
    "                             verbose=False,\n",
    "                             learning_rate=0.1,\n",
    "                             loss_function='RMSE',\n",
    "                             eval_metric='MAE',\n",
    "                             depth=4,\n",
    "                             l2_leaf_reg=0.01,\n",
    "                             min_data_in_leaf=4,\n",
    "                             random_seed = 2024\n",
    "                            )"
   ]
  },
  {
   "cell_type": "code",
   "execution_count": 23,
   "metadata": {},
   "outputs": [
    {
     "data": {
      "text/plain": [
       "<catboost.core.CatBoostRegressor at 0x1b80fbe2c10>"
      ]
     },
     "execution_count": 23,
     "metadata": {},
     "output_type": "execute_result"
    }
   ],
   "source": [
    "model_04.fit(X_train_03, y_train_03[:,-1])"
   ]
  },
  {
   "cell_type": "code",
   "execution_count": 98,
   "metadata": {},
   "outputs": [
    {
     "name": "stdout",
     "output_type": "stream",
     "text": [
      "Train MAE:  0.05398872410668391\n",
      "Val   MAE: 0.057943293005780355\n"
     ]
    }
   ],
   "source": [
    "print('Train MAE: ', mean_absolute_error(y_train_03[:,-2], np.exp(model_04.predict(X_train_03))))\n",
    "print('Val   MAE:', mean_absolute_error(y_val_03[:,-2], np.exp(model_04.predict(X_val_03))))"
   ]
  },
  {
   "cell_type": "code",
   "execution_count": 99,
   "metadata": {},
   "outputs": [
    {
     "name": "stdout",
     "output_type": "stream",
     "text": [
      "0.3271904845481116\n"
     ]
    },
    {
     "data": {
      "text/html": [
       "<div>\n",
       "<style scoped>\n",
       "    .dataframe tbody tr th:only-of-type {\n",
       "        vertical-align: middle;\n",
       "    }\n",
       "\n",
       "    .dataframe tbody tr th {\n",
       "        vertical-align: top;\n",
       "    }\n",
       "\n",
       "    .dataframe thead th {\n",
       "        text-align: right;\n",
       "    }\n",
       "</style>\n",
       "<table border=\"1\" class=\"dataframe\">\n",
       "  <thead>\n",
       "    <tr style=\"text-align: right;\">\n",
       "      <th></th>\n",
       "      <th>0</th>\n",
       "    </tr>\n",
       "  </thead>\n",
       "  <tbody>\n",
       "    <tr>\n",
       "      <th>0</th>\n",
       "      <td>0.011804</td>\n",
       "    </tr>\n",
       "    <tr>\n",
       "      <th>1</th>\n",
       "      <td>0.039110</td>\n",
       "    </tr>\n",
       "    <tr>\n",
       "      <th>2</th>\n",
       "      <td>0.022752</td>\n",
       "    </tr>\n",
       "    <tr>\n",
       "      <th>3</th>\n",
       "      <td>0.124827</td>\n",
       "    </tr>\n",
       "    <tr>\n",
       "      <th>4</th>\n",
       "      <td>0.042880</td>\n",
       "    </tr>\n",
       "  </tbody>\n",
       "</table>\n",
       "</div>"
      ],
      "text/plain": [
       "          0\n",
       "0  0.011804\n",
       "1  0.039110\n",
       "2  0.022752\n",
       "3  0.124827\n",
       "4  0.042880"
      ]
     },
     "execution_count": 99,
     "metadata": {},
     "output_type": "execute_result"
    }
   ],
   "source": [
    "pred_test_04 = np.exp(model_04.predict(df_short_test_03.values))\n",
    "print(np.max(pred_test_04))\n",
    "pred_test_04[pred_test_04>1.]=1.\n",
    "sample_submission[0] = pred_test_04\n",
    "sample_submission.to_csv('ans_cb_04.csv', header=False, index=False)\n",
    "sample_submission.head()"
   ]
  },
  {
   "cell_type": "markdown",
   "metadata": {},
   "source": [
    "**SCORE: 0.05891** (скор увеличился незначительно)"
   ]
  },
  {
   "cell_type": "markdown",
   "metadata": {},
   "source": [
    "## 3. Преобзразование Бокса-Кокса над таргетом"
   ]
  },
  {
   "cell_type": "markdown",
   "metadata": {},
   "source": [
    "Попробуем еще одно преобразование таргета - преобразование Бокса-Кокса."
   ]
  },
  {
   "cell_type": "code",
   "execution_count": 24,
   "metadata": {},
   "outputs": [
    {
     "data": {
      "image/png": "[encoded data removed]",
      "text/plain": [
       "<Figure size 432x288 with 1 Axes>"
      ]
     },
     "metadata": {
      "needs_background": "light"
     },
     "output_type": "display_data"
    },
    {
     "data": {
      "image/png": "[encoded data removed]",
      "text/plain": [
       "<Figure size 432x288 with 1 Axes>"
      ]
     },
     "metadata": {
      "needs_background": "light"
     },
     "output_type": "display_data"
    }
   ],
   "source": [
    "boxcox_lambda = -0.5\n",
    "plt.hist(df_short_100['diff'], bins=100);\n",
    "plt.title('Исходное распределение таргета');\n",
    "plt.show()\n",
    "plt.hist(boxcox(df_short_100['diff'], boxcox_lambda), bins=100);\n",
    "plt.title('Распределение таргета после преобразоавния Бокса-Кокса');"
   ]
  },
  {
   "cell_type": "code",
   "execution_count": 25,
   "metadata": {},
   "outputs": [
    {
     "data": {
      "text/html": [
       "<div>\n",
       "<style scoped>\n",
       "    .dataframe tbody tr th:only-of-type {\n",
       "        vertical-align: middle;\n",
       "    }\n",
       "\n",
       "    .dataframe tbody tr th {\n",
       "        vertical-align: top;\n",
       "    }\n",
       "\n",
       "    .dataframe thead th {\n",
       "        text-align: right;\n",
       "    }\n",
       "</style>\n",
       "<table border=\"1\" class=\"dataframe\">\n",
       "  <thead>\n",
       "    <tr style=\"text-align: right;\">\n",
       "      <th></th>\n",
       "      <th>incident</th>\n",
       "      <th>flg_90_12_add</th>\n",
       "      <th>Category_Feature_2</th>\n",
       "      <th>Feature_795</th>\n",
       "      <th>Feature_960</th>\n",
       "      <th>Feature_69</th>\n",
       "      <th>Feature_962</th>\n",
       "      <th>Category_Feature_1_cnt</th>\n",
       "      <th>Feature_790</th>\n",
       "      <th>Category_Feature_3_cnt</th>\n",
       "      <th>...</th>\n",
       "      <th>Feature_549</th>\n",
       "      <th>Feature_1884</th>\n",
       "      <th>Feature_1084</th>\n",
       "      <th>Feature_550</th>\n",
       "      <th>Feature_649</th>\n",
       "      <th>Feature_643</th>\n",
       "      <th>Feature_18</th>\n",
       "      <th>diff</th>\n",
       "      <th>diff_log</th>\n",
       "      <th>diff_boxcox</th>\n",
       "    </tr>\n",
       "  </thead>\n",
       "  <tbody>\n",
       "    <tr>\n",
       "      <th>0</th>\n",
       "      <td>14511110</td>\n",
       "      <td>0.0</td>\n",
       "      <td>25</td>\n",
       "      <td>-1.000000</td>\n",
       "      <td>1.000000</td>\n",
       "      <td>18.0</td>\n",
       "      <td>1.000000</td>\n",
       "      <td>39941</td>\n",
       "      <td>-1.000000</td>\n",
       "      <td>44156</td>\n",
       "      <td>...</td>\n",
       "      <td>0.082487</td>\n",
       "      <td>0</td>\n",
       "      <td>1.0</td>\n",
       "      <td>0.082487</td>\n",
       "      <td>-1.000000</td>\n",
       "      <td>-1.000000</td>\n",
       "      <td>1</td>\n",
       "      <td>0.022191</td>\n",
       "      <td>-3.808085</td>\n",
       "      <td>-11.425954</td>\n",
       "    </tr>\n",
       "    <tr>\n",
       "      <th>1</th>\n",
       "      <td>15018800</td>\n",
       "      <td>0.0</td>\n",
       "      <td>49</td>\n",
       "      <td>1.000000</td>\n",
       "      <td>0.992537</td>\n",
       "      <td>133.0</td>\n",
       "      <td>0.993631</td>\n",
       "      <td>39941</td>\n",
       "      <td>1.000000</td>\n",
       "      <td>6777</td>\n",
       "      <td>...</td>\n",
       "      <td>2.266088</td>\n",
       "      <td>1</td>\n",
       "      <td>1.0</td>\n",
       "      <td>0.088695</td>\n",
       "      <td>2.001270</td>\n",
       "      <td>1.295370</td>\n",
       "      <td>1</td>\n",
       "      <td>0.019972</td>\n",
       "      <td>-3.913427</td>\n",
       "      <td>-12.152065</td>\n",
       "    </tr>\n",
       "    <tr>\n",
       "      <th>2</th>\n",
       "      <td>14499737</td>\n",
       "      <td>0.0</td>\n",
       "      <td>24</td>\n",
       "      <td>1.020237</td>\n",
       "      <td>0.956044</td>\n",
       "      <td>49.0</td>\n",
       "      <td>0.964602</td>\n",
       "      <td>39941</td>\n",
       "      <td>1.020237</td>\n",
       "      <td>21324</td>\n",
       "      <td>...</td>\n",
       "      <td>1.189426</td>\n",
       "      <td>1</td>\n",
       "      <td>1.0</td>\n",
       "      <td>0.041769</td>\n",
       "      <td>1.144553</td>\n",
       "      <td>0.983492</td>\n",
       "      <td>5</td>\n",
       "      <td>0.043884</td>\n",
       "      <td>-3.126204</td>\n",
       "      <td>-7.547213</td>\n",
       "    </tr>\n",
       "  </tbody>\n",
       "</table>\n",
       "<p>3 rows × 105 columns</p>\n",
       "</div>"
      ],
      "text/plain": [
       "   incident  flg_90_12_add  Category_Feature_2  Feature_795  Feature_960  \\\n",
       "0  14511110            0.0                  25    -1.000000     1.000000   \n",
       "1  15018800            0.0                  49     1.000000     0.992537   \n",
       "2  14499737            0.0                  24     1.020237     0.956044   \n",
       "\n",
       "   Feature_69  Feature_962  Category_Feature_1_cnt  Feature_790  \\\n",
       "0        18.0     1.000000                   39941    -1.000000   \n",
       "1       133.0     0.993631                   39941     1.000000   \n",
       "2        49.0     0.964602                   39941     1.020237   \n",
       "\n",
       "   Category_Feature_3_cnt  ...  Feature_549  Feature_1884  Feature_1084  \\\n",
       "0                   44156  ...     0.082487             0           1.0   \n",
       "1                    6777  ...     2.266088             1           1.0   \n",
       "2                   21324  ...     1.189426             1           1.0   \n",
       "\n",
       "   Feature_550  Feature_649  Feature_643  Feature_18      diff  diff_log  \\\n",
       "0     0.082487    -1.000000    -1.000000           1  0.022191 -3.808085   \n",
       "1     0.088695     2.001270     1.295370           1  0.019972 -3.913427   \n",
       "2     0.041769     1.144553     0.983492           5  0.043884 -3.126204   \n",
       "\n",
       "   diff_boxcox  \n",
       "0   -11.425954  \n",
       "1   -12.152065  \n",
       "2    -7.547213  \n",
       "\n",
       "[3 rows x 105 columns]"
      ]
     },
     "execution_count": 25,
     "metadata": {},
     "output_type": "execute_result"
    }
   ],
   "source": [
    "df_short_100['diff_boxcox'] = boxcox(df_short_100['diff'], boxcox_lambda)\n",
    "df_short_100.head(3)"
   ]
  },
  {
   "cell_type": "code",
   "execution_count": 26,
   "metadata": {},
   "outputs": [
    {
     "name": "stdout",
     "output_type": "stream",
     "text": [
      "Train:  65293 65293\n",
      "Val  :  16324 16324\n"
     ]
    }
   ],
   "source": [
    "df_ml_05 = df_short_100[~df_short_100['diff'].isnull()].copy()\n",
    "drop_feat_list_05 = ['incident','flg_90_12_add','diff','diff_log','diff_boxcox']\n",
    "target_feat_name_05 = ['diff', 'diff_boxcox']\n",
    "\n",
    "train_index_05, val_index_05 = train_test_split(np.arange(df_ml_05.shape[0]), test_size=0.2, stratify = df_ml_05['flg_90_12_add'], random_state=42)\n",
    "\n",
    "X_train_05 = df_ml_05.drop(drop_feat_list_05, axis=1).iloc[train_index_05].values\n",
    "y_train_05 = df_ml_05[target_feat_name_05].iloc[train_index_05].values\n",
    "X_val_05 = df_ml_05.drop(drop_feat_list_05, axis=1).iloc[val_index_05].values\n",
    "y_val_05 = df_ml_05[target_feat_name_05].iloc[val_index_05].values\n",
    "\n",
    "print('Train: ', X_train_05.shape[0], y_train_05.shape[0])\n",
    "print('Val  : ', X_val_05.shape[0], y_val_05.shape[0])\n"
   ]
  },
  {
   "cell_type": "code",
   "execution_count": 27,
   "metadata": {},
   "outputs": [],
   "source": [
    "model_05 = CatBoostRegressor(iterations=2000,\n",
    "                             verbose=0,\n",
    "                             learning_rate=0.1,\n",
    "                             loss_function='RMSE',\n",
    "                             eval_metric='MAE',\n",
    "                             depth=4,\n",
    "                             l2_leaf_reg=0.01,\n",
    "                             min_data_in_leaf=4,\n",
    "                             random_seed = 2024\n",
    "                            )"
   ]
  },
  {
   "cell_type": "code",
   "execution_count": 28,
   "metadata": {},
   "outputs": [
    {
     "data": {
      "text/plain": [
       "<catboost.core.CatBoostRegressor at 0x1b80f7e9610>"
      ]
     },
     "execution_count": 28,
     "metadata": {},
     "output_type": "execute_result"
    }
   ],
   "source": [
    "model_05.fit(X_train_05, y_train_05[:,-1])"
   ]
  },
  {
   "cell_type": "code",
   "execution_count": 29,
   "metadata": {},
   "outputs": [],
   "source": [
    "pred_train_05 = model_05.predict(X_train_05)\n",
    "pred_val_05 = model_05.predict(X_val_05)"
   ]
  },
  {
   "cell_type": "markdown",
   "metadata": {},
   "source": [
    "Для корректного обратного преобразования предсказываемые величины должны быть меньше нуля. Однако это не так. \n",
    "Стоит отметить, что вообще допустимые значения могут быть меньше 2 (1/lambda=1/0.5=2) (inv_boxcox(2, lambda)=inf). Однако на промежутке [0, 2] возвращаемые значения будут очень болшими. При значениях больше 2 обратная функция будет выдавать NaN.\n",
    "\n",
    "Адекватные значения после обратного преобразования [0,1] будут при значениях меньше нуля.\n",
    "\n",
    "Возможно имеет смысл обозначить данные записи как выбросы и исключить из обучающей выборки.\n",
    "\n",
    "Но пока посмотрим на скор, если искусственно ограничить значения."
   ]
  },
  {
   "cell_type": "code",
   "execution_count": 30,
   "metadata": {},
   "outputs": [
    {
     "data": {
      "text/plain": [
       "array([0.68436754, 0.78107448, 1.5907975 , 0.59367393, 0.10806047,\n",
       "       0.24470377, 0.62446224, 0.25488865, 0.67220746, 0.33264765,\n",
       "       0.58430982, 0.31096414, 0.41566886, 0.14802245, 0.67273547,\n",
       "       0.52841124, 0.12697958, 0.17419046, 0.45907137, 1.63786252,\n",
       "       0.29712204, 0.15336483, 0.41692419, 0.70816823, 0.43511738,\n",
       "       0.54267417, 0.39302981, 0.17149922, 0.72141847, 0.3774309 ,\n",
       "       0.97510675, 0.16961792, 0.27307478, 0.9394411 , 0.28694298,\n",
       "       0.20697316, 0.75189996, 1.09750646, 0.36701468, 0.65262023,\n",
       "       0.50189247, 0.59344876, 0.44192793, 0.5285722 , 0.18414403,\n",
       "       0.37127996, 1.58284462, 0.57121776, 0.10642495, 0.34380357,\n",
       "       0.2294258 , 0.188717  , 1.45227143, 0.2025961 , 0.42195788,\n",
       "       1.23103979, 0.41607292, 0.45011191, 1.01954878, 0.20627624,\n",
       "       0.867809  , 1.53105827, 0.74064499, 0.979328  , 0.30005109,\n",
       "       0.53014201, 0.42661531, 0.52435351, 0.79210929, 1.29491999,\n",
       "       0.43865608, 0.96334788, 0.72228223, 0.45778347, 0.41485304])"
      ]
     },
     "execution_count": 30,
     "metadata": {},
     "output_type": "execute_result"
    }
   ],
   "source": [
    "pred_train_05[pred_train_05>=0.1]"
   ]
  },
  {
   "cell_type": "code",
   "execution_count": 31,
   "metadata": {},
   "outputs": [
    {
     "data": {
      "text/plain": [
       "inf"
      ]
     },
     "execution_count": 31,
     "metadata": {},
     "output_type": "execute_result"
    }
   ],
   "source": [
    "inv_boxcox(2, boxcox_lambda)"
   ]
  },
  {
   "cell_type": "code",
   "execution_count": 32,
   "metadata": {},
   "outputs": [],
   "source": [
    "pred_train_05[pred_train_05>0] = 0.\n",
    "pred_val_05[pred_val_05>0] = 0."
   ]
  },
  {
   "cell_type": "code",
   "execution_count": 33,
   "metadata": {},
   "outputs": [
    {
     "name": "stdout",
     "output_type": "stream",
     "text": [
      "0.056053883803240986\n",
      "0.05758735987920733\n"
     ]
    }
   ],
   "source": [
    "print(mean_absolute_error(y_train_05[:,-2], inv_boxcox(pred_train_05, boxcox_lambda)))\n",
    "print(mean_absolute_error(y_val_05[:,-2], inv_boxcox(pred_val_05, boxcox_lambda)))"
   ]
  },
  {
   "cell_type": "code",
   "execution_count": 34,
   "metadata": {},
   "outputs": [
    {
     "name": "stdout",
     "output_type": "stream",
     "text": [
      "-0.6741881835894983\n",
      "-0.6741881835894983\n"
     ]
    },
    {
     "data": {
      "text/html": [
       "<div>\n",
       "<style scoped>\n",
       "    .dataframe tbody tr th:only-of-type {\n",
       "        vertical-align: middle;\n",
       "    }\n",
       "\n",
       "    .dataframe tbody tr th {\n",
       "        vertical-align: top;\n",
       "    }\n",
       "\n",
       "    .dataframe thead th {\n",
       "        text-align: right;\n",
       "    }\n",
       "</style>\n",
       "<table border=\"1\" class=\"dataframe\">\n",
       "  <thead>\n",
       "    <tr style=\"text-align: right;\">\n",
       "      <th></th>\n",
       "      <th>0</th>\n",
       "    </tr>\n",
       "  </thead>\n",
       "  <tbody>\n",
       "    <tr>\n",
       "      <th>0</th>\n",
       "      <td>0.012601</td>\n",
       "    </tr>\n",
       "    <tr>\n",
       "      <th>1</th>\n",
       "      <td>0.033917</td>\n",
       "    </tr>\n",
       "    <tr>\n",
       "      <th>2</th>\n",
       "      <td>0.019131</td>\n",
       "    </tr>\n",
       "    <tr>\n",
       "      <th>3</th>\n",
       "      <td>0.109721</td>\n",
       "    </tr>\n",
       "    <tr>\n",
       "      <th>4</th>\n",
       "      <td>0.034166</td>\n",
       "    </tr>\n",
       "  </tbody>\n",
       "</table>\n",
       "</div>"
      ],
      "text/plain": [
       "          0\n",
       "0  0.012601\n",
       "1  0.033917\n",
       "2  0.019131\n",
       "3  0.109721\n",
       "4  0.034166"
      ]
     },
     "execution_count": 34,
     "metadata": {},
     "output_type": "execute_result"
    }
   ],
   "source": [
    "df_short_test_05 = df_short_100[df_short_100['diff'].isnull()].drop(drop_feat_list_05, axis=1)\n",
    "pred_test_05 = model_05.predict(df_short_test_05.values)\n",
    "print(np.max(pred_test_05))\n",
    "pred_test_05[pred_test_05>0] = 0.\n",
    "print(np.max(pred_test_05))\n",
    "sample_submission[0] = inv_boxcox(pred_test_05, boxcox_lambda)\n",
    "sample_submission.to_csv('ans_cb_05.csv', header=False, index=False)\n",
    "sample_submission.head()"
   ]
  },
  {
   "cell_type": "markdown",
   "metadata": {},
   "source": [
    "**SCORE: 0.05886**"
   ]
  },
  {
   "cell_type": "markdown",
   "metadata": {},
   "source": [
    "Скор улучшился. Попробуем удалить 'выбросы', о которых говорилось выше.\n",
    "\n",
    "Для выявления записей, которые будем удалять из обучающей выборки, обучим модель на всей этой выборке."
   ]
  },
  {
   "cell_type": "code",
   "execution_count": 35,
   "metadata": {},
   "outputs": [
    {
     "name": "stdout",
     "output_type": "stream",
     "text": [
      "Train:  81617 81617\n"
     ]
    }
   ],
   "source": [
    "df_ml_06 = df_short_100[~df_short_100['diff'].isnull()].copy()\n",
    "drop_feat_list_06 = ['incident','flg_90_12_add','diff','diff_log','diff_boxcox']\n",
    "target_feat_name_06 = ['diff', 'diff_boxcox']\n",
    "\n",
    "X_06 = df_ml_06.drop(drop_feat_list_06, axis=1).values\n",
    "y_06 = df_ml_06[target_feat_name_06].values\n",
    "\n",
    "print('Train: ', X_06.shape[0], y_06.shape[0])\n"
   ]
  },
  {
   "cell_type": "code",
   "execution_count": 36,
   "metadata": {},
   "outputs": [],
   "source": [
    "model_06 = CatBoostRegressor(iterations=2000,\n",
    "                             verbose=0,\n",
    "                             learning_rate=0.1,\n",
    "                             loss_function='RMSE',\n",
    "                             eval_metric='MAE',\n",
    "                             depth=4,\n",
    "                             l2_leaf_reg=0.01,\n",
    "                             min_data_in_leaf=4,\n",
    "                             random_seed = 2024\n",
    "                            )"
   ]
  },
  {
   "cell_type": "code",
   "execution_count": 37,
   "metadata": {},
   "outputs": [
    {
     "data": {
      "text/plain": [
       "<catboost.core.CatBoostRegressor at 0x1b80f7d8970>"
      ]
     },
     "execution_count": 37,
     "metadata": {},
     "output_type": "execute_result"
    }
   ],
   "source": [
    "model_06.fit(X_06, y_06[:,-1])"
   ]
  },
  {
   "cell_type": "code",
   "execution_count": 38,
   "metadata": {},
   "outputs": [],
   "source": [
    "pred_train_06 = model_06.predict(X_06)"
   ]
  },
  {
   "cell_type": "markdown",
   "metadata": {},
   "source": [
    "Список индексов 'incident' удаляемых записей."
   ]
  },
  {
   "cell_type": "code",
   "execution_count": 39,
   "metadata": {},
   "outputs": [
    {
     "data": {
      "text/plain": [
       "array([14888768, 14889119, 15067717, 17722398, 16229053, 16590678,\n",
       "       18440594, 18019937, 16769837, 17717120, 16830493, 16828155,\n",
       "       16879109, 19212452, 19410030, 17326797, 17412835, 17565278,\n",
       "       17465997, 17619884, 16988971, 16669300, 15342172, 16564176,\n",
       "       16722163, 16464829, 16554188, 16601895, 16692532, 16412657,\n",
       "       16330187, 15979257, 16145714, 16060963, 15952655, 15903063,\n",
       "       15840444, 18245471, 18154378, 18630124, 18352348, 18519797,\n",
       "       18884802, 19119328, 18787871, 19098345, 18910282, 19908937,\n",
       "       20163309, 15111155, 15110740, 20078985, 15484593, 15650939,\n",
       "       15589209, 15694395, 16691460, 18826025, 18522623, 15843103,\n",
       "       16510828, 20140464, 16870715, 16761025, 17562810, 19505608,\n",
       "       17349776, 16834663, 16882880, 15879868, 15767895, 17145296,\n",
       "       19976742, 16419051, 16448605, 17658437, 17296926, 15628167,\n",
       "       15204369, 15394394, 16234508, 18328365, 18549891, 17521622,\n",
       "       19397570, 17261439, 17291136, 19575522, 18600354, 19191620,\n",
       "       16967861, 16881383, 20630311, 21033698, 21747039, 21001101,\n",
       "       20641385, 20351024, 21084614, 21351257, 20833399], dtype=int64)"
      ]
     },
     "execution_count": 39,
     "metadata": {},
     "output_type": "execute_result"
    }
   ],
   "source": [
    "boxcox_index_drop = df_ml_06.iloc[np.argwhere(pred_train_06>0).flatten()]['incident'].values\n",
    "boxcox_index_drop"
   ]
  },
  {
   "cell_type": "code",
   "execution_count": 40,
   "metadata": {},
   "outputs": [
    {
     "data": {
      "text/html": [
       "<div>\n",
       "<style scoped>\n",
       "    .dataframe tbody tr th:only-of-type {\n",
       "        vertical-align: middle;\n",
       "    }\n",
       "\n",
       "    .dataframe tbody tr th {\n",
       "        vertical-align: top;\n",
       "    }\n",
       "\n",
       "    .dataframe thead th {\n",
       "        text-align: right;\n",
       "    }\n",
       "</style>\n",
       "<table border=\"1\" class=\"dataframe\">\n",
       "  <thead>\n",
       "    <tr style=\"text-align: right;\">\n",
       "      <th></th>\n",
       "      <th>incident</th>\n",
       "      <th>flg_90_12_add</th>\n",
       "      <th>Category_Feature_2</th>\n",
       "      <th>Feature_795</th>\n",
       "      <th>Feature_960</th>\n",
       "      <th>Feature_69</th>\n",
       "      <th>Feature_962</th>\n",
       "      <th>Category_Feature_1_cnt</th>\n",
       "      <th>Feature_790</th>\n",
       "      <th>Category_Feature_3_cnt</th>\n",
       "      <th>...</th>\n",
       "      <th>Feature_549</th>\n",
       "      <th>Feature_1884</th>\n",
       "      <th>Feature_1084</th>\n",
       "      <th>Feature_550</th>\n",
       "      <th>Feature_649</th>\n",
       "      <th>Feature_643</th>\n",
       "      <th>Feature_18</th>\n",
       "      <th>diff</th>\n",
       "      <th>diff_log</th>\n",
       "      <th>diff_boxcox</th>\n",
       "    </tr>\n",
       "  </thead>\n",
       "  <tbody>\n",
       "    <tr>\n",
       "      <th>0</th>\n",
       "      <td>14511110</td>\n",
       "      <td>0.0</td>\n",
       "      <td>25</td>\n",
       "      <td>-1.000000</td>\n",
       "      <td>1.000000</td>\n",
       "      <td>18.0</td>\n",
       "      <td>1.000000</td>\n",
       "      <td>39941</td>\n",
       "      <td>-1.000000</td>\n",
       "      <td>44156</td>\n",
       "      <td>...</td>\n",
       "      <td>0.082487</td>\n",
       "      <td>0</td>\n",
       "      <td>1.000000</td>\n",
       "      <td>0.082487</td>\n",
       "      <td>-1.000000</td>\n",
       "      <td>-1.000000</td>\n",
       "      <td>1</td>\n",
       "      <td>0.022191</td>\n",
       "      <td>-3.808085</td>\n",
       "      <td>-11.425954</td>\n",
       "    </tr>\n",
       "    <tr>\n",
       "      <th>1</th>\n",
       "      <td>15018800</td>\n",
       "      <td>0.0</td>\n",
       "      <td>49</td>\n",
       "      <td>1.000000</td>\n",
       "      <td>0.992537</td>\n",
       "      <td>133.0</td>\n",
       "      <td>0.993631</td>\n",
       "      <td>39941</td>\n",
       "      <td>1.000000</td>\n",
       "      <td>6777</td>\n",
       "      <td>...</td>\n",
       "      <td>2.266088</td>\n",
       "      <td>1</td>\n",
       "      <td>1.000000</td>\n",
       "      <td>0.088695</td>\n",
       "      <td>2.001270</td>\n",
       "      <td>1.295370</td>\n",
       "      <td>1</td>\n",
       "      <td>0.019972</td>\n",
       "      <td>-3.913427</td>\n",
       "      <td>-12.152065</td>\n",
       "    </tr>\n",
       "    <tr>\n",
       "      <th>2</th>\n",
       "      <td>14499737</td>\n",
       "      <td>0.0</td>\n",
       "      <td>24</td>\n",
       "      <td>1.020237</td>\n",
       "      <td>0.956044</td>\n",
       "      <td>49.0</td>\n",
       "      <td>0.964602</td>\n",
       "      <td>39941</td>\n",
       "      <td>1.020237</td>\n",
       "      <td>21324</td>\n",
       "      <td>...</td>\n",
       "      <td>1.189426</td>\n",
       "      <td>1</td>\n",
       "      <td>1.000000</td>\n",
       "      <td>0.041769</td>\n",
       "      <td>1.144553</td>\n",
       "      <td>0.983492</td>\n",
       "      <td>5</td>\n",
       "      <td>0.043884</td>\n",
       "      <td>-3.126204</td>\n",
       "      <td>-7.547213</td>\n",
       "    </tr>\n",
       "    <tr>\n",
       "      <th>3</th>\n",
       "      <td>14953427</td>\n",
       "      <td>0.0</td>\n",
       "      <td>26</td>\n",
       "      <td>-1.000000</td>\n",
       "      <td>-1.000000</td>\n",
       "      <td>-1.0</td>\n",
       "      <td>-1.000000</td>\n",
       "      <td>39941</td>\n",
       "      <td>-1.000000</td>\n",
       "      <td>21324</td>\n",
       "      <td>...</td>\n",
       "      <td>-1.000000</td>\n",
       "      <td>1</td>\n",
       "      <td>-1.000000</td>\n",
       "      <td>-1.000000</td>\n",
       "      <td>-1.000000</td>\n",
       "      <td>-1.000000</td>\n",
       "      <td>0</td>\n",
       "      <td>0.013412</td>\n",
       "      <td>-4.311604</td>\n",
       "      <td>-15.269622</td>\n",
       "    </tr>\n",
       "    <tr>\n",
       "      <th>4</th>\n",
       "      <td>14744453</td>\n",
       "      <td>0.0</td>\n",
       "      <td>30</td>\n",
       "      <td>0.984897</td>\n",
       "      <td>1.000000</td>\n",
       "      <td>12.0</td>\n",
       "      <td>1.000000</td>\n",
       "      <td>39941</td>\n",
       "      <td>0.984897</td>\n",
       "      <td>6777</td>\n",
       "      <td>...</td>\n",
       "      <td>1.183242</td>\n",
       "      <td>1</td>\n",
       "      <td>1.000000</td>\n",
       "      <td>0.072245</td>\n",
       "      <td>1.015135</td>\n",
       "      <td>1.015135</td>\n",
       "      <td>4</td>\n",
       "      <td>0.033354</td>\n",
       "      <td>-3.400582</td>\n",
       "      <td>-8.951078</td>\n",
       "    </tr>\n",
       "    <tr>\n",
       "      <th>...</th>\n",
       "      <td>...</td>\n",
       "      <td>...</td>\n",
       "      <td>...</td>\n",
       "      <td>...</td>\n",
       "      <td>...</td>\n",
       "      <td>...</td>\n",
       "      <td>...</td>\n",
       "      <td>...</td>\n",
       "      <td>...</td>\n",
       "      <td>...</td>\n",
       "      <td>...</td>\n",
       "      <td>...</td>\n",
       "      <td>...</td>\n",
       "      <td>...</td>\n",
       "      <td>...</td>\n",
       "      <td>...</td>\n",
       "      <td>...</td>\n",
       "      <td>...</td>\n",
       "      <td>...</td>\n",
       "      <td>...</td>\n",
       "      <td>...</td>\n",
       "    </tr>\n",
       "    <tr>\n",
       "      <th>81612</th>\n",
       "      <td>20998757</td>\n",
       "      <td>0.0</td>\n",
       "      <td>56</td>\n",
       "      <td>0.991550</td>\n",
       "      <td>0.985294</td>\n",
       "      <td>50.0</td>\n",
       "      <td>0.988439</td>\n",
       "      <td>39941</td>\n",
       "      <td>0.991550</td>\n",
       "      <td>44156</td>\n",
       "      <td>...</td>\n",
       "      <td>1.273057</td>\n",
       "      <td>0</td>\n",
       "      <td>1.000000</td>\n",
       "      <td>0.113333</td>\n",
       "      <td>1.246702</td>\n",
       "      <td>1.033939</td>\n",
       "      <td>4</td>\n",
       "      <td>0.037867</td>\n",
       "      <td>-3.273686</td>\n",
       "      <td>-8.277838</td>\n",
       "    </tr>\n",
       "    <tr>\n",
       "      <th>81613</th>\n",
       "      <td>20999207</td>\n",
       "      <td>0.0</td>\n",
       "      <td>29</td>\n",
       "      <td>1.000000</td>\n",
       "      <td>0.992126</td>\n",
       "      <td>89.0</td>\n",
       "      <td>0.993377</td>\n",
       "      <td>39941</td>\n",
       "      <td>1.000000</td>\n",
       "      <td>44156</td>\n",
       "      <td>...</td>\n",
       "      <td>2.619534</td>\n",
       "      <td>0</td>\n",
       "      <td>1.000000</td>\n",
       "      <td>0.090994</td>\n",
       "      <td>1.280000</td>\n",
       "      <td>1.056429</td>\n",
       "      <td>2</td>\n",
       "      <td>0.014266</td>\n",
       "      <td>-4.249905</td>\n",
       "      <td>-14.745003</td>\n",
       "    </tr>\n",
       "    <tr>\n",
       "      <th>81614</th>\n",
       "      <td>20999293</td>\n",
       "      <td>0.0</td>\n",
       "      <td>54</td>\n",
       "      <td>0.701563</td>\n",
       "      <td>0.756906</td>\n",
       "      <td>174.0</td>\n",
       "      <td>0.828859</td>\n",
       "      <td>42676</td>\n",
       "      <td>0.701563</td>\n",
       "      <td>44156</td>\n",
       "      <td>...</td>\n",
       "      <td>1.278203</td>\n",
       "      <td>0</td>\n",
       "      <td>0.893908</td>\n",
       "      <td>0.068258</td>\n",
       "      <td>1.295484</td>\n",
       "      <td>0.993453</td>\n",
       "      <td>3</td>\n",
       "      <td>0.103010</td>\n",
       "      <td>-2.272928</td>\n",
       "      <td>-4.231464</td>\n",
       "    </tr>\n",
       "    <tr>\n",
       "      <th>81615</th>\n",
       "      <td>20999311</td>\n",
       "      <td>0.0</td>\n",
       "      <td>55</td>\n",
       "      <td>-1.000000</td>\n",
       "      <td>1.000000</td>\n",
       "      <td>-1.0</td>\n",
       "      <td>1.000000</td>\n",
       "      <td>39941</td>\n",
       "      <td>-1.000000</td>\n",
       "      <td>21324</td>\n",
       "      <td>...</td>\n",
       "      <td>0.650611</td>\n",
       "      <td>1</td>\n",
       "      <td>1.000000</td>\n",
       "      <td>0.650611</td>\n",
       "      <td>-1.000000</td>\n",
       "      <td>-1.000000</td>\n",
       "      <td>0</td>\n",
       "      <td>0.019119</td>\n",
       "      <td>-3.957089</td>\n",
       "      <td>-12.464417</td>\n",
       "    </tr>\n",
       "    <tr>\n",
       "      <th>81616</th>\n",
       "      <td>20952899</td>\n",
       "      <td>0.0</td>\n",
       "      <td>24</td>\n",
       "      <td>0.999500</td>\n",
       "      <td>0.272727</td>\n",
       "      <td>28.0</td>\n",
       "      <td>0.733333</td>\n",
       "      <td>39941</td>\n",
       "      <td>0.999500</td>\n",
       "      <td>21324</td>\n",
       "      <td>...</td>\n",
       "      <td>1.251852</td>\n",
       "      <td>1</td>\n",
       "      <td>0.909091</td>\n",
       "      <td>0.596321</td>\n",
       "      <td>1.106781</td>\n",
       "      <td>1.106781</td>\n",
       "      <td>2</td>\n",
       "      <td>0.433430</td>\n",
       "      <td>-0.836024</td>\n",
       "      <td>-1.037878</td>\n",
       "    </tr>\n",
       "  </tbody>\n",
       "</table>\n",
       "<p>81516 rows × 105 columns</p>\n",
       "</div>"
      ],
      "text/plain": [
       "       incident  flg_90_12_add  Category_Feature_2  Feature_795  Feature_960  \\\n",
       "0      14511110            0.0                  25    -1.000000     1.000000   \n",
       "1      15018800            0.0                  49     1.000000     0.992537   \n",
       "2      14499737            0.0                  24     1.020237     0.956044   \n",
       "3      14953427            0.0                  26    -1.000000    -1.000000   \n",
       "4      14744453            0.0                  30     0.984897     1.000000   \n",
       "...         ...            ...                 ...          ...          ...   \n",
       "81612  20998757            0.0                  56     0.991550     0.985294   \n",
       "81613  20999207            0.0                  29     1.000000     0.992126   \n",
       "81614  20999293            0.0                  54     0.701563     0.756906   \n",
       "81615  20999311            0.0                  55    -1.000000     1.000000   \n",
       "81616  20952899            0.0                  24     0.999500     0.272727   \n",
       "\n",
       "       Feature_69  Feature_962  Category_Feature_1_cnt  Feature_790  \\\n",
       "0            18.0     1.000000                   39941    -1.000000   \n",
       "1           133.0     0.993631                   39941     1.000000   \n",
       "2            49.0     0.964602                   39941     1.020237   \n",
       "3            -1.0    -1.000000                   39941    -1.000000   \n",
       "4            12.0     1.000000                   39941     0.984897   \n",
       "...           ...          ...                     ...          ...   \n",
       "81612        50.0     0.988439                   39941     0.991550   \n",
       "81613        89.0     0.993377                   39941     1.000000   \n",
       "81614       174.0     0.828859                   42676     0.701563   \n",
       "81615        -1.0     1.000000                   39941    -1.000000   \n",
       "81616        28.0     0.733333                   39941     0.999500   \n",
       "\n",
       "       Category_Feature_3_cnt  ...  Feature_549  Feature_1884  Feature_1084  \\\n",
       "0                       44156  ...     0.082487             0      1.000000   \n",
       "1                        6777  ...     2.266088             1      1.000000   \n",
       "2                       21324  ...     1.189426             1      1.000000   \n",
       "3                       21324  ...    -1.000000             1     -1.000000   \n",
       "4                        6777  ...     1.183242             1      1.000000   \n",
       "...                       ...  ...          ...           ...           ...   \n",
       "81612                   44156  ...     1.273057             0      1.000000   \n",
       "81613                   44156  ...     2.619534             0      1.000000   \n",
       "81614                   44156  ...     1.278203             0      0.893908   \n",
       "81615                   21324  ...     0.650611             1      1.000000   \n",
       "81616                   21324  ...     1.251852             1      0.909091   \n",
       "\n",
       "       Feature_550  Feature_649  Feature_643  Feature_18      diff  diff_log  \\\n",
       "0         0.082487    -1.000000    -1.000000           1  0.022191 -3.808085   \n",
       "1         0.088695     2.001270     1.295370           1  0.019972 -3.913427   \n",
       "2         0.041769     1.144553     0.983492           5  0.043884 -3.126204   \n",
       "3        -1.000000    -1.000000    -1.000000           0  0.013412 -4.311604   \n",
       "4         0.072245     1.015135     1.015135           4  0.033354 -3.400582   \n",
       "...            ...          ...          ...         ...       ...       ...   \n",
       "81612     0.113333     1.246702     1.033939           4  0.037867 -3.273686   \n",
       "81613     0.090994     1.280000     1.056429           2  0.014266 -4.249905   \n",
       "81614     0.068258     1.295484     0.993453           3  0.103010 -2.272928   \n",
       "81615     0.650611    -1.000000    -1.000000           0  0.019119 -3.957089   \n",
       "81616     0.596321     1.106781     1.106781           2  0.433430 -0.836024   \n",
       "\n",
       "       diff_boxcox  \n",
       "0       -11.425954  \n",
       "1       -12.152065  \n",
       "2        -7.547213  \n",
       "3       -15.269622  \n",
       "4        -8.951078  \n",
       "...            ...  \n",
       "81612    -8.277838  \n",
       "81613   -14.745003  \n",
       "81614    -4.231464  \n",
       "81615   -12.464417  \n",
       "81616    -1.037878  \n",
       "\n",
       "[81516 rows x 105 columns]"
      ]
     },
     "execution_count": 40,
     "metadata": {},
     "output_type": "execute_result"
    }
   ],
   "source": [
    "df_ml_07 = df_ml_06[~df_ml_06['incident'].isin(boxcox_index_drop)]\n",
    "df_ml_07"
   ]
  },
  {
   "cell_type": "markdown",
   "metadata": {},
   "source": [
    "## 3.1 boxcox(target) на 'очищенном' датасете\n",
    "\n",
    "Теперь обучим модель на 'очищенном' датасете."
   ]
  },
  {
   "cell_type": "code",
   "execution_count": 41,
   "metadata": {},
   "outputs": [
    {
     "name": "stdout",
     "output_type": "stream",
     "text": [
      "Train:  65212 65212\n",
      "Val  :  16304 16304\n"
     ]
    }
   ],
   "source": [
    "drop_feat_list_07 = ['incident','flg_90_12_add','diff','diff_log','diff_boxcox']\n",
    "target_feat_name_07 = ['diff', 'diff_boxcox']\n",
    "\n",
    "train_index_07, val_index_07 = train_test_split(np.arange(df_ml_07.shape[0]), test_size=0.2, stratify = df_ml_07['flg_90_12_add'], random_state=42)\n",
    "\n",
    "X_train_07 = df_ml_07.drop(drop_feat_list_07, axis=1).iloc[train_index_07].values\n",
    "y_train_07 = df_ml_07[target_feat_name_07].iloc[train_index_07].values\n",
    "X_val_07 = df_ml_07.drop(drop_feat_list_07, axis=1).iloc[val_index_07].values\n",
    "y_val_07 = df_ml_07[target_feat_name_07].iloc[val_index_07].values\n",
    "\n",
    "print('Train: ', X_train_07.shape[0], y_train_07.shape[0])\n",
    "print('Val  : ', X_val_07.shape[0], y_val_07.shape[0])\n"
   ]
  },
  {
   "cell_type": "code",
   "execution_count": 113,
   "metadata": {},
   "outputs": [],
   "source": [
    "model_07 = CatBoostRegressor(iterations=2000,\n",
    "                             verbose=0,\n",
    "                             learning_rate=0.1,\n",
    "                             loss_function='RMSE',\n",
    "                             eval_metric='MAE',\n",
    "                             depth=4,\n",
    "                             l2_leaf_reg=0.01,\n",
    "                             min_data_in_leaf=4,\n",
    "                             random_seed = 2024\n",
    "                            )"
   ]
  },
  {
   "cell_type": "code",
   "execution_count": 114,
   "metadata": {},
   "outputs": [
    {
     "data": {
      "text/plain": [
       "<catboost.core.CatBoostRegressor at 0x1b80faa6e50>"
      ]
     },
     "execution_count": 114,
     "metadata": {},
     "output_type": "execute_result"
    }
   ],
   "source": [
    "model_07.fit(X_train_07, y_train_07[:,-1])"
   ]
  },
  {
   "cell_type": "markdown",
   "metadata": {},
   "source": [
    "В данном случае также есть значения больше нуля, но их уже меньше. Ограничим их искусственно и посмотрим, что получилось."
   ]
  },
  {
   "cell_type": "code",
   "execution_count": 115,
   "metadata": {},
   "outputs": [],
   "source": [
    "pred_train_07 = model_07.predict(X_train_07)\n",
    "pred_val_07 = model_07.predict(X_val_07)\n",
    "pred_train_07[pred_train_07>0] = 0\n",
    "pred_val_07[pred_val_07>0] = 0"
   ]
  },
  {
   "cell_type": "code",
   "execution_count": 116,
   "metadata": {},
   "outputs": [
    {
     "name": "stdout",
     "output_type": "stream",
     "text": [
      "Train MAE:  0.05547890068951569\n",
      "Val   MAE:  0.05810182697882376\n"
     ]
    }
   ],
   "source": [
    "print('Train MAE: ', mean_absolute_error(y_train_07[:,-2], inv_boxcox(pred_train_07, boxcox_lambda)))\n",
    "print('Val   MAE: ', mean_absolute_error(y_val_07[:,-2], inv_boxcox(pred_val_07, boxcox_lambda)))"
   ]
  },
  {
   "cell_type": "code",
   "execution_count": 117,
   "metadata": {},
   "outputs": [
    {
     "name": "stdout",
     "output_type": "stream",
     "text": [
      "0.16873145194592176\n",
      "0.0\n"
     ]
    },
    {
     "data": {
      "text/html": [
       "<div>\n",
       "<style scoped>\n",
       "    .dataframe tbody tr th:only-of-type {\n",
       "        vertical-align: middle;\n",
       "    }\n",
       "\n",
       "    .dataframe tbody tr th {\n",
       "        vertical-align: top;\n",
       "    }\n",
       "\n",
       "    .dataframe thead th {\n",
       "        text-align: right;\n",
       "    }\n",
       "</style>\n",
       "<table border=\"1\" class=\"dataframe\">\n",
       "  <thead>\n",
       "    <tr style=\"text-align: right;\">\n",
       "      <th></th>\n",
       "      <th>0</th>\n",
       "    </tr>\n",
       "  </thead>\n",
       "  <tbody>\n",
       "    <tr>\n",
       "      <th>0</th>\n",
       "      <td>0.013006</td>\n",
       "    </tr>\n",
       "    <tr>\n",
       "      <th>1</th>\n",
       "      <td>0.032705</td>\n",
       "    </tr>\n",
       "    <tr>\n",
       "      <th>2</th>\n",
       "      <td>0.019639</td>\n",
       "    </tr>\n",
       "    <tr>\n",
       "      <th>3</th>\n",
       "      <td>0.114942</td>\n",
       "    </tr>\n",
       "    <tr>\n",
       "      <th>4</th>\n",
       "      <td>0.034382</td>\n",
       "    </tr>\n",
       "  </tbody>\n",
       "</table>\n",
       "</div>"
      ],
      "text/plain": [
       "          0\n",
       "0  0.013006\n",
       "1  0.032705\n",
       "2  0.019639\n",
       "3  0.114942\n",
       "4  0.034382"
      ]
     },
     "execution_count": 117,
     "metadata": {},
     "output_type": "execute_result"
    }
   ],
   "source": [
    "pred_test_07 = model_07.predict(df_short_test_05.values)\n",
    "print(np.max(pred_test_07))\n",
    "pred_test_07[pred_test_07>0] = 0.\n",
    "print(np.max(pred_test_07))\n",
    "sample_submission[0] = inv_boxcox(pred_test_07, boxcox_lambda)\n",
    "sample_submission.to_csv('ans_cb_07.csv', header=False, index=False)\n",
    "sample_submission.head()"
   ]
  },
  {
   "cell_type": "markdown",
   "metadata": {},
   "source": [
    "**SCORE: 0.05887**\n",
    "\n",
    "Метрика почти не изменилась, однако разница MAE на тренировочной и валидационной выборке увеличилась. Попробуем усилисть регуляризацию."
   ]
  },
  {
   "cell_type": "markdown",
   "metadata": {},
   "source": [
    "## 3.2 boxcox(target) на 'очищенном' датасете с усиленной регуляризацией"
   ]
  },
  {
   "cell_type": "code",
   "execution_count": 118,
   "metadata": {},
   "outputs": [],
   "source": [
    "model_10 = CatBoostRegressor(iterations=2000,\n",
    "                             verbose=0,\n",
    "                             learning_rate=0.1,\n",
    "                             loss_function='RMSE',\n",
    "                             eval_metric='MAE',\n",
    "                             depth=4,\n",
    "                             l2_leaf_reg=25,\n",
    "                             min_data_in_leaf=4,\n",
    "                             random_seed = 2024\n",
    "                            )"
   ]
  },
  {
   "cell_type": "code",
   "execution_count": 119,
   "metadata": {},
   "outputs": [
    {
     "data": {
      "text/plain": [
       "<catboost.core.CatBoostRegressor at 0x1b80faa6e20>"
      ]
     },
     "execution_count": 119,
     "metadata": {},
     "output_type": "execute_result"
    }
   ],
   "source": [
    "model_10.fit(X_train_07, y_train_07[:,-1])"
   ]
  },
  {
   "cell_type": "code",
   "execution_count": 120,
   "metadata": {},
   "outputs": [],
   "source": [
    "pred_train_10 = model_10.predict(X_train_07)\n",
    "pred_val_10 = model_10.predict(X_val_07)\n",
    "pred_train_10[pred_train_10>0] = 0\n",
    "pred_val_10[pred_val_10>0] = 0"
   ]
  },
  {
   "cell_type": "code",
   "execution_count": 121,
   "metadata": {},
   "outputs": [
    {
     "name": "stdout",
     "output_type": "stream",
     "text": [
      "Train MAE:  0.056301972942231916\n",
      "Val   MAE:  0.05793688455506815\n"
     ]
    }
   ],
   "source": [
    "print('Train MAE: ', mean_absolute_error(y_train_07[:,-2], inv_boxcox(pred_train_10, boxcox_lambda)))\n",
    "print('Val   MAE: ', mean_absolute_error(y_val_07[:,-2], inv_boxcox(pred_val_10, boxcox_lambda)))"
   ]
  },
  {
   "cell_type": "code",
   "execution_count": 122,
   "metadata": {},
   "outputs": [
    {
     "name": "stdout",
     "output_type": "stream",
     "text": [
      "0.18551004463898657\n",
      "0.18551004463898657\n"
     ]
    },
    {
     "data": {
      "text/html": [
       "<div>\n",
       "<style scoped>\n",
       "    .dataframe tbody tr th:only-of-type {\n",
       "        vertical-align: middle;\n",
       "    }\n",
       "\n",
       "    .dataframe tbody tr th {\n",
       "        vertical-align: top;\n",
       "    }\n",
       "\n",
       "    .dataframe thead th {\n",
       "        text-align: right;\n",
       "    }\n",
       "</style>\n",
       "<table border=\"1\" class=\"dataframe\">\n",
       "  <thead>\n",
       "    <tr style=\"text-align: right;\">\n",
       "      <th></th>\n",
       "      <th>0</th>\n",
       "    </tr>\n",
       "  </thead>\n",
       "  <tbody>\n",
       "    <tr>\n",
       "      <th>0</th>\n",
       "      <td>0.012889</td>\n",
       "    </tr>\n",
       "    <tr>\n",
       "      <th>1</th>\n",
       "      <td>0.031623</td>\n",
       "    </tr>\n",
       "    <tr>\n",
       "      <th>2</th>\n",
       "      <td>0.019087</td>\n",
       "    </tr>\n",
       "    <tr>\n",
       "      <th>3</th>\n",
       "      <td>0.115027</td>\n",
       "    </tr>\n",
       "    <tr>\n",
       "      <th>4</th>\n",
       "      <td>0.033749</td>\n",
       "    </tr>\n",
       "  </tbody>\n",
       "</table>\n",
       "</div>"
      ],
      "text/plain": [
       "          0\n",
       "0  0.012889\n",
       "1  0.031623\n",
       "2  0.019087\n",
       "3  0.115027\n",
       "4  0.033749"
      ]
     },
     "execution_count": 122,
     "metadata": {},
     "output_type": "execute_result"
    }
   ],
   "source": [
    "pred_test_10 = model_10.predict(df_short_test_05.values)\n",
    "print(np.max(pred_test_10))\n",
    "pred_test_07[pred_test_10>0] = 0.\n",
    "print(np.max(pred_test_10))\n",
    "sample_submission[0] = inv_boxcox(pred_test_10, boxcox_lambda)\n",
    "sample_submission.to_csv('ans_cb_10.csv', header=False, index=False)\n",
    "sample_submission.head()"
   ]
  },
  {
   "cell_type": "markdown",
   "metadata": {},
   "source": [
    "**SCORE: 0.05844**"
   ]
  },
  {
   "cell_type": "markdown",
   "metadata": {},
   "source": [
    "Значение l2_leaf_reg=25 было выбрано подбором.\n",
    "- (10) SCORE: 0.05888 (train: 0.055915; val: 0.057883)\n",
    "- (20) SCORE: 0.05858 (train: 0.056075; val: 0.057966)\n",
    "- (25) SCORE: 0.05844 (train: 0.056302; val: 0.057937)\n",
    "- (30) SCORE: 0.05879 (train: 0.056377; val: 0.0577884)"
   ]
  },
  {
   "cell_type": "markdown",
   "metadata": {},
   "source": [
    "## 3.3 log(target) на 'очищенном' датасете\n",
    "\n",
    "Посмотрим, что будет, если на 'очищенном' датасете обучить модель, для которой таргет будет прологарфимрован."
   ]
  },
  {
   "cell_type": "code",
   "execution_count": 47,
   "metadata": {},
   "outputs": [
    {
     "name": "stdout",
     "output_type": "stream",
     "text": [
      "Train:  65212 65212\n",
      "Val  :  16304 16304\n"
     ]
    }
   ],
   "source": [
    "drop_feat_list_08 = ['incident','flg_90_12_add','diff','diff_log','diff_boxcox']\n",
    "target_feat_name_08 = ['diff', 'diff_log']\n",
    "\n",
    "train_index_08, val_index_08 = train_test_split(np.arange(df_ml_07.shape[0]), test_size=0.2, stratify = df_ml_07['flg_90_12_add'], random_state=42)\n",
    "\n",
    "X_train_08 = df_ml_07.drop(drop_feat_list_08, axis=1).iloc[train_index_08].values\n",
    "y_train_08 = df_ml_07[target_feat_name_08].iloc[train_index_08].values\n",
    "X_val_08 = df_ml_07.drop(drop_feat_list_08, axis=1).iloc[val_index_08].values\n",
    "y_val_08 = df_ml_07[target_feat_name_08].iloc[val_index_08].values\n",
    "\n",
    "print('Train: ', X_train_08.shape[0], y_train_08.shape[0])\n",
    "print('Val  : ', X_val_08.shape[0], y_val_08.shape[0])\n"
   ]
  },
  {
   "cell_type": "code",
   "execution_count": 48,
   "metadata": {},
   "outputs": [],
   "source": [
    "model_08 = CatBoostRegressor(iterations=2000,\n",
    "                             verbose=0,\n",
    "                             learning_rate=0.1,\n",
    "                             loss_function='RMSE',\n",
    "                             eval_metric='MAE',\n",
    "                             depth=4,\n",
    "                             l2_leaf_reg=0.01,\n",
    "                             min_data_in_leaf=4,\n",
    "                             random_seed = 2024\n",
    "                            )"
   ]
  },
  {
   "cell_type": "code",
   "execution_count": 49,
   "metadata": {},
   "outputs": [
    {
     "data": {
      "text/plain": [
       "<catboost.core.CatBoostRegressor at 0x1b80f7d8d00>"
      ]
     },
     "execution_count": 49,
     "metadata": {},
     "output_type": "execute_result"
    }
   ],
   "source": [
    "model_08.fit(X_train_08, y_train_08[:,-1])"
   ]
  },
  {
   "cell_type": "code",
   "execution_count": 50,
   "metadata": {},
   "outputs": [
    {
     "name": "stdout",
     "output_type": "stream",
     "text": [
      "Train MAE:  0.05362291278207441\n",
      "Val   MAE:  0.05807732580237501\n"
     ]
    }
   ],
   "source": [
    "print('Train MAE: ', mean_absolute_error(y_train_08[:,-2], np.exp(model_08.predict(X_train_08))))\n",
    "print('Val   MAE: ', mean_absolute_error(y_val_08[:,-2], np.exp(model_08.predict(X_val_08))))"
   ]
  },
  {
   "cell_type": "code",
   "execution_count": 51,
   "metadata": {},
   "outputs": [
    {
     "name": "stdout",
     "output_type": "stream",
     "text": [
      "0.4071485499633391\n"
     ]
    },
    {
     "data": {
      "text/html": [
       "<div>\n",
       "<style scoped>\n",
       "    .dataframe tbody tr th:only-of-type {\n",
       "        vertical-align: middle;\n",
       "    }\n",
       "\n",
       "    .dataframe tbody tr th {\n",
       "        vertical-align: top;\n",
       "    }\n",
       "\n",
       "    .dataframe thead th {\n",
       "        text-align: right;\n",
       "    }\n",
       "</style>\n",
       "<table border=\"1\" class=\"dataframe\">\n",
       "  <thead>\n",
       "    <tr style=\"text-align: right;\">\n",
       "      <th></th>\n",
       "      <th>0</th>\n",
       "    </tr>\n",
       "  </thead>\n",
       "  <tbody>\n",
       "    <tr>\n",
       "      <th>0</th>\n",
       "      <td>0.011927</td>\n",
       "    </tr>\n",
       "    <tr>\n",
       "      <th>1</th>\n",
       "      <td>0.032796</td>\n",
       "    </tr>\n",
       "    <tr>\n",
       "      <th>2</th>\n",
       "      <td>0.020397</td>\n",
       "    </tr>\n",
       "    <tr>\n",
       "      <th>3</th>\n",
       "      <td>0.132897</td>\n",
       "    </tr>\n",
       "    <tr>\n",
       "      <th>4</th>\n",
       "      <td>0.039685</td>\n",
       "    </tr>\n",
       "  </tbody>\n",
       "</table>\n",
       "</div>"
      ],
      "text/plain": [
       "          0\n",
       "0  0.011927\n",
       "1  0.032796\n",
       "2  0.020397\n",
       "3  0.132897\n",
       "4  0.039685"
      ]
     },
     "execution_count": 51,
     "metadata": {},
     "output_type": "execute_result"
    }
   ],
   "source": [
    "pred_test_08 = model_08.predict(df_short_test_05.values)\n",
    "print(np.max(np.exp(pred_test_08)))\n",
    "sample_submission[0] = np.exp(pred_test_08)\n",
    "sample_submission.to_csv('ans_cb_08.csv', header=False, index=False)\n",
    "sample_submission.head()"
   ]
  },
  {
   "cell_type": "markdown",
   "metadata": {},
   "source": [
    "**SCORE: 0.05891**\n",
    "\n",
    "В данном случае опять можно говорить о некотором переобучении модели, поэтому усилим регулярзацию."
   ]
  },
  {
   "cell_type": "markdown",
   "metadata": {},
   "source": [
    "## 3.4 log(target) на 'очищенном' датасете с усиленной регуляризацией"
   ]
  },
  {
   "cell_type": "code",
   "execution_count": 74,
   "metadata": {},
   "outputs": [],
   "source": [
    "model_09 = CatBoostRegressor(iterations=2000,\n",
    "                             verbose=0,\n",
    "                             learning_rate=0.1,\n",
    "                             loss_function='RMSE',\n",
    "                             eval_metric='MAE',\n",
    "                             depth=4,\n",
    "                             l2_leaf_reg=30,\n",
    "                             min_data_in_leaf=4,\n",
    "                             random_seed = 2024\n",
    "                            )"
   ]
  },
  {
   "cell_type": "code",
   "execution_count": 75,
   "metadata": {},
   "outputs": [
    {
     "data": {
      "text/plain": [
       "<catboost.core.CatBoostRegressor at 0x1b80f7e93a0>"
      ]
     },
     "execution_count": 75,
     "metadata": {},
     "output_type": "execute_result"
    }
   ],
   "source": [
    "model_09.fit(X_train_08, y_train_08[:,-1])"
   ]
  },
  {
   "cell_type": "code",
   "execution_count": 76,
   "metadata": {},
   "outputs": [
    {
     "name": "stdout",
     "output_type": "stream",
     "text": [
      "Train MAE:  0.05577987242572401\n",
      "Val   MAE:  0.05762641172929244\n"
     ]
    }
   ],
   "source": [
    "print('Train MAE: ', mean_absolute_error(y_train_08[:,-2], np.exp(model_09.predict(X_train_08))))\n",
    "print('Val   MAE: ', mean_absolute_error(y_val_08[:,-2], np.exp(model_09.predict(X_val_08))))"
   ]
  },
  {
   "cell_type": "code",
   "execution_count": 77,
   "metadata": {},
   "outputs": [
    {
     "name": "stdout",
     "output_type": "stream",
     "text": [
      "0.46356864563164424\n"
     ]
    },
    {
     "data": {
      "text/html": [
       "<div>\n",
       "<style scoped>\n",
       "    .dataframe tbody tr th:only-of-type {\n",
       "        vertical-align: middle;\n",
       "    }\n",
       "\n",
       "    .dataframe tbody tr th {\n",
       "        vertical-align: top;\n",
       "    }\n",
       "\n",
       "    .dataframe thead th {\n",
       "        text-align: right;\n",
       "    }\n",
       "</style>\n",
       "<table border=\"1\" class=\"dataframe\">\n",
       "  <thead>\n",
       "    <tr style=\"text-align: right;\">\n",
       "      <th></th>\n",
       "      <th>0</th>\n",
       "    </tr>\n",
       "  </thead>\n",
       "  <tbody>\n",
       "    <tr>\n",
       "      <th>0</th>\n",
       "      <td>0.012105</td>\n",
       "    </tr>\n",
       "    <tr>\n",
       "      <th>1</th>\n",
       "      <td>0.037495</td>\n",
       "    </tr>\n",
       "    <tr>\n",
       "      <th>2</th>\n",
       "      <td>0.020808</td>\n",
       "    </tr>\n",
       "    <tr>\n",
       "      <th>3</th>\n",
       "      <td>0.133348</td>\n",
       "    </tr>\n",
       "    <tr>\n",
       "      <th>4</th>\n",
       "      <td>0.040995</td>\n",
       "    </tr>\n",
       "  </tbody>\n",
       "</table>\n",
       "</div>"
      ],
      "text/plain": [
       "          0\n",
       "0  0.012105\n",
       "1  0.037495\n",
       "2  0.020808\n",
       "3  0.133348\n",
       "4  0.040995"
      ]
     },
     "execution_count": 77,
     "metadata": {},
     "output_type": "execute_result"
    }
   ],
   "source": [
    "pred_test_09 = model_09.predict(df_short_test_05.values)\n",
    "print(np.max(np.exp(pred_test_09)))\n",
    "sample_submission[0] = np.exp(pred_test_09)\n",
    "sample_submission.to_csv('ans_cb_09.csv', header=False, index=False)\n",
    "sample_submission.head()"
   ]
  },
  {
   "cell_type": "markdown",
   "metadata": {},
   "source": [
    "Путем перебора оптимальным значением оказалось l2_leaf_reg=30 \n",
    "\n",
    "**SCORE: 0.05875**\n",
    "\n",
    "SCORE: 0.05896 (l2_leaf_reg=40)\n",
    "SCORE: 0.05886 (l2_leaf_reg=35)"
   ]
  },
  {
   "cell_type": "markdown",
   "metadata": {},
   "source": [
    "**Краткое описание:**\n",
    "\n",
    "\n",
    "№    |model |score\n",
    "-----|-----|----- \n",
    "1|просто CatBoost для выявления незначащих признаков|0.05911\n",
    "2|в датасете оставили только значащие 100 признаков|0.05893\n",
    "2.1|изменение loss функции MAE->RMSE|0.05891\n",
    "3|преобразование Бокса-Кокса над таргетом boxcox(target)|0.05886\n",
    "3.1|датасет с некоторыми удаленными записями с boxcox(target)|0.05887\n",
    "3.2|модель 3.2 с усиленной регуляризацией|0.05844\n",
    "3.3|датасет с некоторыми удаленными записями с log(target)|0.05891\n",
    "3.4|модель 3.2 с усиленной регуляризацией|0.05875\n",
    "\n",
    "Наилучший скор на тестово выборке показала модель с преобразованием Бокса-Кокса над таргетом, обученная на 'очищенном' датасете"
   ]
  }
 ],
 "metadata": {
  "kernelspec": {
   "display_name": "Python 3",
   "language": "python",
   "name": "python3"
  },
  "language_info": {
   "codemirror_mode": {
    "name": "ipython",
    "version": 3
   },
   "file_extension": ".py",
   "mimetype": "text/x-python",
   "name": "python",
   "nbconvert_exporter": "python",
   "pygments_lexer": "ipython3",
   "version": "3.8.5"
  }
 },
 "nbformat": 4,
 "nbformat_minor": 4
}
