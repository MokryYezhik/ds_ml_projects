{
 "cells": [
  {
   "cell_type": "markdown",
   "metadata": {},
   "source": [
    "# Задание\n",
    "\n",
    "Мы решили торговать на бирже, причем так, чтобы решение о покупке акций принимала нейросеть на основе последних новостей о той или иной компании. Для этого нужно научиться классифицировать все новости. Дана база новостей из разных источников news.csv. Необходимо написать классифицирующую модель новостей по источникам.\n",
    "\n",
    "Напиши любую модель для предсказания источника новостей и предскажите источники для данных из файла news.csv, для которых отсутствует значение Source.\n",
    "\n",
    "Пороговые значения для данной задачи классификации считать равными 0.33, 0.66.\n",
    "\n",
    "Ответ необходимо прикрепить в файле формата CSV. Файл должен содержать только прогнозные значения Source в одном столбце без заголовка."
   ]
  },
  {
   "cell_type": "code",
   "execution_count": 1,
   "metadata": {},
   "outputs": [],
   "source": [
    "import pandas as pd\n",
    "import numpy as np\n",
    "import matplotlib.pyplot as plt\n",
    "import seaborn as sns\n",
    "from pprint import pprint"
   ]
  },
  {
   "cell_type": "code",
   "execution_count": 31,
   "metadata": {},
   "outputs": [],
   "source": [
    "from sklearn.preprocessing import OneHotEncoder\n",
    "from sklearn.model_selection import train_test_split\n",
    "\n",
    "from tensorflow import keras\n",
    "from tensorflow.keras.preprocessing.text import Tokenizer\n",
    "from tensorflow.keras.preprocessing.sequence import pad_sequences\n",
    "from tensorflow.keras.models import Sequential\n",
    "from tensorflow.keras.layers import Input, Dense, Dropout, BatchNormalization, Embedding, SpatialDropout1D, Flatten\n",
    "from tensorflow.keras.optimizers import Adam\n",
    "from tensorflow.keras.metrics import Accuracy"
   ]
  },
  {
   "cell_type": "code",
   "execution_count": 44,
   "metadata": {},
   "outputs": [],
   "source": [
    "from sklearn.metrics import accuracy_score, roc_auc_score, precision_score, recall_score, multilabel_confusion_matrix, ConfusionMatrixDisplay"
   ]
  },
  {
   "cell_type": "code",
   "execution_count": 4,
   "metadata": {},
   "outputs": [
    {
     "name": "stderr",
     "output_type": "stream",
     "text": [
      "[nltk_data] Downloading package stopwords to\n",
      "[nltk_data]     C:\\Users\\apple\\AppData\\Roaming\\nltk_data...\n",
      "[nltk_data]   Package stopwords is already up-to-date!\n",
      "[nltk_data] Downloading package punkt to\n",
      "[nltk_data]     C:\\Users\\apple\\AppData\\Roaming\\nltk_data...\n",
      "[nltk_data]   Package punkt is already up-to-date!\n"
     ]
    }
   ],
   "source": [
    "import nltk\n",
    "from nltk.corpus import stopwords\n",
    "from nltk.tokenize import word_tokenize, sent_tokenize\n",
    "from nltk.stem import SnowballStemmer\n",
    "\n",
    "import pymorphy2\n",
    "\n",
    "from gensim.models.word2vec import Word2Vec\n",
    "from gensim.utils import simple_preprocess\n",
    "import gensim.downloader as api\n",
    "\n",
    "nltk.download('stopwords')\n",
    "nltk.download('punkt')\n",
    "\n",
    "# из библиотеки Sklearn импортируем три наиболее популярных Vectorizer для работы с текстами\n",
    "from sklearn.feature_extraction.text import CountVectorizer, TfidfVectorizer, HashingVectorizer"
   ]
  },
  {
   "cell_type": "code",
   "execution_count": 5,
   "metadata": {},
   "outputs": [],
   "source": [
    "PPRINT_WIDTH = 160"
   ]
  },
  {
   "cell_type": "markdown",
   "metadata": {},
   "source": [
    "Функции для записи и чтения обработанных текстов, т.к. данных достаточно много."
   ]
  },
  {
   "cell_type": "code",
   "execution_count": 6,
   "metadata": {},
   "outputs": [],
   "source": [
    "def list_of_str_to_txt(list_, file_name):\n",
    "    with open(file_name, 'w', encoding='utf-8') as f:\n",
    "        for item in list_:\n",
    "            f.write(\"%s\\n\" % item)\n",
    "            \n",
    "def txt_to_str_list(file_name):\n",
    "    with open(file_name, 'r', encoding='utf-8') as f:\n",
    "        text = f.read().split('\\n')\n",
    "    return text"
   ]
  },
  {
   "cell_type": "markdown",
   "metadata": {},
   "source": [
    "# Данные"
   ]
  },
  {
   "cell_type": "code",
   "execution_count": 7,
   "metadata": {},
   "outputs": [],
   "source": [
    "data = pd.read_csv('news.csv')"
   ]
  },
  {
   "cell_type": "code",
   "execution_count": 8,
   "metadata": {},
   "outputs": [
    {
     "data": {
      "text/html": [
       "<div>\n",
       "<style scoped>\n",
       "    .dataframe tbody tr th:only-of-type {\n",
       "        vertical-align: middle;\n",
       "    }\n",
       "\n",
       "    .dataframe tbody tr th {\n",
       "        vertical-align: top;\n",
       "    }\n",
       "\n",
       "    .dataframe thead th {\n",
       "        text-align: right;\n",
       "    }\n",
       "</style>\n",
       "<table border=\"1\" class=\"dataframe\">\n",
       "  <thead>\n",
       "    <tr style=\"text-align: right;\">\n",
       "      <th></th>\n",
       "      <th>Unnamed: 0</th>\n",
       "      <th>news</th>\n",
       "      <th>source</th>\n",
       "    </tr>\n",
       "  </thead>\n",
       "  <tbody>\n",
       "    <tr>\n",
       "      <th>0</th>\n",
       "      <td>0</td>\n",
       "      <td>Официальный аккаунт PlayStation опубликовал т...</td>\n",
       "      <td>1.0</td>\n",
       "    </tr>\n",
       "    <tr>\n",
       "      <th>1</th>\n",
       "      <td>1</td>\n",
       "      <td>Китайская компания Mobvoi опубликовала на офи...</td>\n",
       "      <td>1.0</td>\n",
       "    </tr>\n",
       "    <tr>\n",
       "      <th>2</th>\n",
       "      <td>2</td>\n",
       "      <td>Практически во всех странах мира введены огра...</td>\n",
       "      <td>0.0</td>\n",
       "    </tr>\n",
       "    <tr>\n",
       "      <th>3</th>\n",
       "      <td>3</td>\n",
       "      <td>Депутат Госдумы, единоросс Антон Горелкин вне...</td>\n",
       "      <td>2.0</td>\n",
       "    </tr>\n",
       "    <tr>\n",
       "      <th>4</th>\n",
       "      <td>4</td>\n",
       "      <td>Совет директоров «Почты России» проголосовал ...</td>\n",
       "      <td>2.0</td>\n",
       "    </tr>\n",
       "    <tr>\n",
       "      <th>...</th>\n",
       "      <td>...</td>\n",
       "      <td>...</td>\n",
       "      <td>...</td>\n",
       "    </tr>\n",
       "    <tr>\n",
       "      <th>19457</th>\n",
       "      <td>19457</td>\n",
       "      <td>С 17 декабря в России блокируется один из кру...</td>\n",
       "      <td>NaN</td>\n",
       "    </tr>\n",
       "    <tr>\n",
       "      <th>19458</th>\n",
       "      <td>19458</td>\n",
       "      <td>Первые упоминания разработки тёмной темы в Go...</td>\n",
       "      <td>NaN</td>\n",
       "    </tr>\n",
       "    <tr>\n",
       "      <th>19459</th>\n",
       "      <td>19459</td>\n",
       "      <td>Компания Oppo презентовала два новых продукта...</td>\n",
       "      <td>NaN</td>\n",
       "    </tr>\n",
       "    <tr>\n",
       "      <th>19460</th>\n",
       "      <td>19460</td>\n",
       "      <td>Основой презентации стала Windows 10, которая...</td>\n",
       "      <td>NaN</td>\n",
       "    </tr>\n",
       "    <tr>\n",
       "      <th>19461</th>\n",
       "      <td>19461</td>\n",
       "      <td>Компания INOI смогла реализовать 1,5 млн смар...</td>\n",
       "      <td>NaN</td>\n",
       "    </tr>\n",
       "  </tbody>\n",
       "</table>\n",
       "<p>19462 rows × 3 columns</p>\n",
       "</div>"
      ],
      "text/plain": [
       "       Unnamed: 0                                               news  source\n",
       "0               0   Официальный аккаунт PlayStation опубликовал т...     1.0\n",
       "1               1   Китайская компания Mobvoi опубликовала на офи...     1.0\n",
       "2               2   Практически во всех странах мира введены огра...     0.0\n",
       "3               3   Депутат Госдумы, единоросс Антон Горелкин вне...     2.0\n",
       "4               4   Совет директоров «Почты России» проголосовал ...     2.0\n",
       "...           ...                                                ...     ...\n",
       "19457       19457   С 17 декабря в России блокируется один из кру...     NaN\n",
       "19458       19458   Первые упоминания разработки тёмной темы в Go...     NaN\n",
       "19459       19459   Компания Oppo презентовала два новых продукта...     NaN\n",
       "19460       19460   Основой презентации стала Windows 10, которая...     NaN\n",
       "19461       19461   Компания INOI смогла реализовать 1,5 млн смар...     NaN\n",
       "\n",
       "[19462 rows x 3 columns]"
      ]
     },
     "execution_count": 8,
     "metadata": {},
     "output_type": "execute_result"
    }
   ],
   "source": [
    "data"
   ]
  },
  {
   "cell_type": "code",
   "execution_count": 9,
   "metadata": {},
   "outputs": [
    {
     "name": "stdout",
     "output_type": "stream",
     "text": [
      "<class 'pandas.core.frame.DataFrame'>\n",
      "RangeIndex: 19462 entries, 0 to 19461\n",
      "Data columns (total 3 columns):\n",
      " #   Column      Non-Null Count  Dtype  \n",
      "---  ------      --------------  -----  \n",
      " 0   Unnamed: 0  19462 non-null  int64  \n",
      " 1   news        19462 non-null  object \n",
      " 2   source      18360 non-null  float64\n",
      "dtypes: float64(1), int64(1), object(1)\n",
      "memory usage: 456.3+ KB\n"
     ]
    }
   ],
   "source": [
    "data.info()"
   ]
  },
  {
   "cell_type": "markdown",
   "metadata": {},
   "source": [
    "датасет является несбалансированным"
   ]
  },
  {
   "cell_type": "code",
   "execution_count": 10,
   "metadata": {},
   "outputs": [
    {
     "data": {
      "text/plain": [
       "1.0    11698\n",
       "0.0     3455\n",
       "2.0     3207\n",
       "Name: source, dtype: int64"
      ]
     },
     "execution_count": 10,
     "metadata": {},
     "output_type": "execute_result"
    }
   ],
   "source": [
    "data['source'].value_counts()"
   ]
  },
  {
   "cell_type": "markdown",
   "metadata": {},
   "source": [
    "тренировочный датасет"
   ]
  },
  {
   "cell_type": "code",
   "execution_count": 11,
   "metadata": {},
   "outputs": [
    {
     "data": {
      "text/html": [
       "<div>\n",
       "<style scoped>\n",
       "    .dataframe tbody tr th:only-of-type {\n",
       "        vertical-align: middle;\n",
       "    }\n",
       "\n",
       "    .dataframe tbody tr th {\n",
       "        vertical-align: top;\n",
       "    }\n",
       "\n",
       "    .dataframe thead th {\n",
       "        text-align: right;\n",
       "    }\n",
       "</style>\n",
       "<table border=\"1\" class=\"dataframe\">\n",
       "  <thead>\n",
       "    <tr style=\"text-align: right;\">\n",
       "      <th></th>\n",
       "      <th>news</th>\n",
       "      <th>source</th>\n",
       "    </tr>\n",
       "  </thead>\n",
       "  <tbody>\n",
       "    <tr>\n",
       "      <th>0</th>\n",
       "      <td>Официальный аккаунт PlayStation опубликовал т...</td>\n",
       "      <td>1.0</td>\n",
       "    </tr>\n",
       "    <tr>\n",
       "      <th>1</th>\n",
       "      <td>Китайская компания Mobvoi опубликовала на офи...</td>\n",
       "      <td>1.0</td>\n",
       "    </tr>\n",
       "    <tr>\n",
       "      <th>2</th>\n",
       "      <td>Практически во всех странах мира введены огра...</td>\n",
       "      <td>0.0</td>\n",
       "    </tr>\n",
       "    <tr>\n",
       "      <th>3</th>\n",
       "      <td>Депутат Госдумы, единоросс Антон Горелкин вне...</td>\n",
       "      <td>2.0</td>\n",
       "    </tr>\n",
       "    <tr>\n",
       "      <th>4</th>\n",
       "      <td>Совет директоров «Почты России» проголосовал ...</td>\n",
       "      <td>2.0</td>\n",
       "    </tr>\n",
       "  </tbody>\n",
       "</table>\n",
       "</div>"
      ],
      "text/plain": [
       "                                                news  source\n",
       "0   Официальный аккаунт PlayStation опубликовал т...     1.0\n",
       "1   Китайская компания Mobvoi опубликовала на офи...     1.0\n",
       "2   Практически во всех странах мира введены огра...     0.0\n",
       "3   Депутат Госдумы, единоросс Антон Горелкин вне...     2.0\n",
       "4   Совет директоров «Почты России» проголосовал ...     2.0"
      ]
     },
     "execution_count": 11,
     "metadata": {},
     "output_type": "execute_result"
    }
   ],
   "source": [
    "df = data[~data['source'].isnull()][['news', 'source']].copy()\n",
    "df.head()"
   ]
  },
  {
   "cell_type": "code",
   "execution_count": 12,
   "metadata": {},
   "outputs": [],
   "source": [
    "#train_index = [int(x) for x in txt_to_str_list('train_x.txt') if x.isdigit()]\n",
    "#test_index = [int(x) for x in txt_to_str_list('val_idx.txt') if x.isdigit()]"
   ]
  },
  {
   "cell_type": "markdown",
   "metadata": {},
   "source": [
    "разделение на тренировочный и валидационный датасет осуществляем с учетом соотношения классов."
   ]
  },
  {
   "cell_type": "code",
   "execution_count": 13,
   "metadata": {},
   "outputs": [],
   "source": [
    "train_index, val_index = train_test_split(np.arange(df.shape[0]), stratify = df['source'], random_state=42)\n",
    "\n",
    "x_train = df.iloc[train_index, 0].values\n",
    "y_train = df.iloc[train_index, 1].values\n",
    "x_val = df.iloc[val_index, 0].values\n",
    "y_val = df.iloc[val_index, 1].values\n",
    "\n",
    "#list_of_str_to_txt(train_index, 'train_idx.txt')\n",
    "#list_of_str_to_txt(test_index, 'val_idx.txt')"
   ]
  },
  {
   "cell_type": "code",
   "execution_count": 57,
   "metadata": {},
   "outputs": [
    {
     "name": "stdout",
     "output_type": "stream",
     "text": [
      "(13770,) (13770,)\n",
      "(4590,) (4590,)\n"
     ]
    }
   ],
   "source": [
    "print(x_train.shape, y_train.shape)\n",
    "print(x_val.shape, y_val.shape)"
   ]
  },
  {
   "cell_type": "code",
   "execution_count": 60,
   "metadata": {},
   "outputs": [
    {
     "data": {
      "image/png": "[encoded data removed]",
      "text/plain": [
       "<Figure size 432x288 with 1 Axes>"
      ]
     },
     "metadata": {
      "needs_background": "light"
     },
     "output_type": "display_data"
    }
   ],
   "source": [
    "plt.hist(df['source'], label='Full df')\n",
    "plt.hist(y_train, label='Train df')\n",
    "plt.hist(y_val, label='Validation df')\n",
    "plt.legend()\n",
    "plt.title('Соотношение целевой переменной')\n",
    "plt.show()"
   ]
  },
  {
   "cell_type": "code",
   "execution_count": 58,
   "metadata": {},
   "outputs": [],
   "source": [
    "test_data = list(data[data['source'].isnull()]['news'])"
   ]
  },
  {
   "cell_type": "code",
   "execution_count": 59,
   "metadata": {},
   "outputs": [
    {
     "name": "stdout",
     "output_type": "stream",
     "text": [
      "(' Ведущий ныне закрытого телешоу «Разрушители легенд» Адам Сэвидж вернулся на канал Discovery с новым шоу Savage Builds. В первой серии он конструирует '\n",
      " 'летающий и пуленепробиваемый костюм Железного человека. Броня Mark II напечатана на 3D-принтере из титана, нейлона и стекловолокна: модели Сэвидж получил от '\n",
      " 'Marvel Studios. Она выдержала выстрел из пистолета калибра .22 с расстояния шести метров. Для того, чтобы заставить костюм летать, Сэвидж обратился к '\n",
      " 'Ричарду Браунингу. Его компания Gravity Industries в 2017 году представила экзоскелет, позволяющий подниматься в воздух при помощи шести реактивных '\n",
      " 'двигателей. В восьми сериях Savage Builds Адам Сэвидж вместе с другими экспертами и конструкторами будет собирать разные механизмы вроде автомобилей из '\n",
      " '«Безумного Макса» и самоходного боеприпаса Great Panjandrum . ')\n"
     ]
    },
    {
     "data": {
      "text/plain": [
       "2.0"
      ]
     },
     "execution_count": 59,
     "metadata": {},
     "output_type": "execute_result"
    }
   ],
   "source": [
    "pprint(x_train[1], width=PPRINT_WIDTH)\n",
    "y_val[1]"
   ]
  },
  {
   "cell_type": "markdown",
   "metadata": {},
   "source": [
    "# Предобработка текста"
   ]
  },
  {
   "cell_type": "markdown",
   "metadata": {},
   "source": [
    "Порядок обработки текста:\n",
    "* разбиваем текст на токены *nltk.tokenize.word_tokenize()*\n",
    "* приводим токены книжнему регистру и оставляем только слова\n",
    "* удаляем стоп-слова (те, что часто встречаются, но зачастую не несут в себе смысла, например предлоги, местоимения и т.д.) *nltk.corpus.stopwords*\n",
    "* чистим от кавычек, которые могли случайно \"приклеиться к словам\"\n",
    "* приводим все токены к нормальной форме (существительные -> им.п., ед.ч.; прилагательные -> им.п., ед.ч., м.р.; глаголы, причастия, деепричастия -> инфинитив несов. вида) *pymorphy2.MorphAnalyzer()*\n",
    "Векторизация:\n",
    "* будем использовать tfidf векторы *sklearn.feature_extraction.text.TfidfVectorizer*\n",
    "* для обучения TfidfVectorizer создадим корпус на тренировочных данных с тремя документами, в каждом из которых будут тексты данного лейбла (0,1,2)"
   ]
  },
  {
   "cell_type": "code",
   "execution_count": 61,
   "metadata": {},
   "outputs": [],
   "source": [
    "stop_words = stopwords.words('russian')\n",
    "morph = pymorphy2.MorphAnalyzer()\n",
    "\n",
    "def preprocess_rus(text):\n",
    "    tokens = word_tokenize(text, language='russian')\n",
    "    \n",
    "    tokens = [i.lower() for i in tokens if i.isalnum()]\n",
    "    tokens = [i.replace(\"«\", \"\").replace(\"»\", \"\").replace(\"'\", \"\").replace('\"', \"\") for i in tokens]\n",
    "    tokens = [i for i in tokens if i not in stop_words]\n",
    "    lemms = [morph.parse(i)[0].normal_form for i in tokens]\n",
    "    text_cleared = ' '.join(lemms)\n",
    "    \n",
    "    return text_cleared"
   ]
  },
  {
   "cell_type": "markdown",
   "metadata": {},
   "source": [
    "обрабатываем заново"
   ]
  },
  {
   "cell_type": "code",
   "execution_count": 62,
   "metadata": {},
   "outputs": [
    {
     "name": "stdout",
     "output_type": "stream",
     "text": [
      "Wall time: 11min 20s\n"
     ]
    }
   ],
   "source": [
    "%%time\n",
    "#corpus_train_cleared = [preprocess_rus(text) for text in list(x_train)]"
   ]
  },
  {
   "cell_type": "code",
   "execution_count": 63,
   "metadata": {},
   "outputs": [
    {
     "name": "stdout",
     "output_type": "stream",
     "text": [
      "Wall time: 3min 45s\n"
     ]
    }
   ],
   "source": [
    "%%time\n",
    "#corpus_val_cleared = [preprocess_rus(text) for text in list(x_val)]"
   ]
  },
  {
   "cell_type": "code",
   "execution_count": 64,
   "metadata": {},
   "outputs": [
    {
     "name": "stdout",
     "output_type": "stream",
     "text": [
      "Wall time: 55.6 s\n"
     ]
    }
   ],
   "source": [
    "%%time\n",
    "#corpus_test_cleared = [preprocess_rus(text) for text in test_data]"
   ]
  },
  {
   "cell_type": "markdown",
   "metadata": {},
   "source": [
    "сохраням обработанные"
   ]
  },
  {
   "cell_type": "code",
   "execution_count": 65,
   "metadata": {},
   "outputs": [],
   "source": [
    "#list_of_str_to_txt(corpus_train_cleared, 'train_cleared.txt')\n",
    "#list_of_str_to_txt(corpus_val_cleared, 'var_cleared.txt')\n",
    "#list_of_str_to_txt(corpus_test_cleared, 'test_cleared.txt')"
   ]
  },
  {
   "cell_type": "markdown",
   "metadata": {},
   "source": [
    "загружаем обработанные"
   ]
  },
  {
   "cell_type": "code",
   "execution_count": 17,
   "metadata": {},
   "outputs": [],
   "source": [
    "#corpus_train_cleared = txt_to_str_list('train_cleared.txt')[:-1]\n",
    "#corpus_val_cleared = txt_to_str_list('var_cleared.txt')[:-1]\n",
    "#corpus_test_cleared = txt_to_str_list('test_cleared.txt')[:-1]"
   ]
  },
  {
   "cell_type": "code",
   "execution_count": 18,
   "metadata": {},
   "outputs": [],
   "source": [
    "NUM_WORDS = 20000"
   ]
  },
  {
   "cell_type": "code",
   "execution_count": 19,
   "metadata": {},
   "outputs": [],
   "source": [
    "def corpus_wrt_labels(X, y):\n",
    "    data = pd.DataFrame({'X': X, 'y': y})\n",
    "    \n",
    "    corpus = []\n",
    "    for label in data['y'].unique():\n",
    "        text = list(data[data['y']==label]['X'])\n",
    "        corpus.append(' '.join(text))\n",
    "    return corpus"
   ]
  },
  {
   "cell_type": "code",
   "execution_count": 20,
   "metadata": {},
   "outputs": [],
   "source": [
    "corpus_train_wrt_labels = corpus_wrt_labels(corpus_train_cleared, y_train)"
   ]
  },
  {
   "cell_type": "code",
   "execution_count": 21,
   "metadata": {},
   "outputs": [],
   "source": [
    "vectorizer_02 = TfidfVectorizer(max_features = NUM_WORDS)"
   ]
  },
  {
   "cell_type": "code",
   "execution_count": 23,
   "metadata": {},
   "outputs": [
    {
     "name": "stdout",
     "output_type": "stream",
     "text": [
      "Wall time: 2.81 s\n"
     ]
    },
    {
     "data": {
      "text/plain": [
       "TfidfVectorizer(max_features=20000)"
      ]
     },
     "execution_count": 23,
     "metadata": {},
     "output_type": "execute_result"
    }
   ],
   "source": [
    "%%time\n",
    "vectorizer_02.fit(corpus_train_wrt_labels)"
   ]
  },
  {
   "cell_type": "code",
   "execution_count": 24,
   "metadata": {},
   "outputs": [
    {
     "data": {
      "text/plain": [
       "{'май': 10538,\n",
       " '2018': 238,\n",
       " 'год': 7053,\n",
       " 'президент': 14612,\n",
       " 'владимир': 6211,\n",
       " 'путин': 15380,\n",
       " 'подписать': 13819,\n",
       " 'утверждать': 18716,\n",
       " 'нацпроект': 11572,\n",
       " 'россия': 16154,\n",
       " 'указ': 18453,\n",
       " 'национальный': 11568,\n",
       " 'цель': 19283,\n",
       " 'стратегический': 17505,\n",
       " 'задача': 8275,\n",
       " 'развитие': 15504,\n",
       " 'российский': 16153,\n",
       " 'федерация': 18844,\n",
       " 'период': 13434,\n",
       " '2024': 244,\n",
       " 'направить': 11451,\n",
       " 'обеспечение': 12156,\n",
       " 'прорывный': 15187,\n",
       " 'повышение': 13681,\n",
       " 'уровень': 18625,\n",
       " 'жизнь': 8143,\n",
       " 'создание': 17046,\n",
       " 'условие': 18653,\n",
       " 'возможность': 6348,\n",
       " 'самореализация': 16301,\n",
       " 'раскрытие': 15700,\n",
       " 'талант': 17766,\n",
       " 'каждый': 9187,\n",
       " 'человек': 19391,\n",
       " 'многое': 11045,\n",
       " 'развивать': 15501,\n",
       " 'программа': 15008,\n",
       " 'начать': 11577,\n",
       " 'новый': 12065,\n",
       " 'поставить': 14291,\n",
       " 'кабмин': 9181,\n",
       " 'амбициозный': 5013,\n",
       " 'сформировать': 17664,\n",
       " 'такой': 17757,\n",
       " 'направление': 11453,\n",
       " 'здравоохранение': 8637,\n",
       " 'образование': 12256,\n",
       " 'демография': 7448,\n",
       " 'культура': 10123,\n",
       " 'безопасный': 5429,\n",
       " 'качественный': 9347,\n",
       " 'автодорога': 4791,\n",
       " 'жильё': 8146,\n",
       " 'городской': 7113,\n",
       " 'среда': 17326,\n",
       " 'экология': 19711,\n",
       " 'наука': 11549,\n",
       " 'малый': 10604,\n",
       " 'средний': 17340,\n",
       " 'предпринимательство': 14551,\n",
       " 'цифровой': 19334,\n",
       " 'экономика': 19712,\n",
       " 'производительность': 15088,\n",
       " 'труд': 18204,\n",
       " 'поддержка': 13750,\n",
       " 'занятость': 8436,\n",
       " 'международный': 10815,\n",
       " 'кооперация': 9828,\n",
       " 'экспорт': 19745,\n",
       " 'комплексный': 9673,\n",
       " 'план': 13558,\n",
       " 'модернизация': 11087,\n",
       " 'расширение': 15818,\n",
       " 'магистральный': 10522,\n",
       " 'инфраструктура': 9045,\n",
       " 'должный': 7786,\n",
       " 'реализовать': 15846,\n",
       " '31': 389,\n",
       " 'декабрь': 7419,\n",
       " 'эксперимент': 19730,\n",
       " 'доступный': 7882,\n",
       " 'интернет': 9010,\n",
       " 'подключиться': 13773,\n",
       " 'виртуальный': 6170,\n",
       " 'оператор': 12536,\n",
       " 'мобильный': 11071,\n",
       " 'связь': 16452,\n",
       " 'сбермобайл': 16356,\n",
       " 'который': 9920,\n",
       " 'оказывать': 12452,\n",
       " 'услуга': 18661,\n",
       " 'физический': 18872,\n",
       " 'юридический': 19929,\n",
       " 'лицо': 10374,\n",
       " 'бесплатный': 5505,\n",
       " 'доступ': 7879,\n",
       " 'информационный': 9034,\n",
       " 'ресурс': 16001,\n",
       " 'специально': 17228,\n",
       " 'перечень': 13426,\n",
       " 'мочь': 11179,\n",
       " 'воспользоваться': 6445,\n",
       " 'абонент': 4741,\n",
       " 'проживать': 15071,\n",
       " 'область': 12186,\n",
       " 'сообщать': 17094,\n",
       " 'минкомсвязи': 10978,\n",
       " 'текущий': 17838,\n",
       " 'момент': 11118,\n",
       " 'несколько': 11913,\n",
       " 'десяток': 7499,\n",
       " 'тысяча': 18262,\n",
       " 'проект': 15061,\n",
       " 'запустить': 8492,\n",
       " 'апрель': 5148,\n",
       " '2020': 240,\n",
       " 'немой': 11786,\n",
       " 'принимать': 14852,\n",
       " 'участие': 18761,\n",
       " 'крупный': 10067,\n",
       " 'совокупно': 17011,\n",
       " 'предоставлять': 14523,\n",
       " '70': 685,\n",
       " 'домохозяйство': 7803,\n",
       " 'ростелеком': 16159,\n",
       " 'телесистема': 17868,\n",
       " 'мегафон': 10765,\n",
       " 'холдинг': 19197,\n",
       " 'данные': 7324,\n",
       " 'участник': 18763,\n",
       " 'социально': 17182,\n",
       " 'значимый': 8693,\n",
       " 'отечественный': 12806,\n",
       " 'начало': 11573,\n",
       " 'миллион': 10948,\n",
       " 'уникальный': 18556,\n",
       " 'пользователь': 14098,\n",
       " 'скорость': 16754,\n",
       " 'оказание': 12449,\n",
       " 'составить': 17153,\n",
       " 'около': 12462,\n",
       " 'настоящий': 11520,\n",
       " 'время': 6516,\n",
       " 'входить': 6600,\n",
       " '371': 443,\n",
       " 'сайт': 16274,\n",
       " 'раздельный': 15545,\n",
       " 'категория': 9336,\n",
       " 'коммуникационный': 9653,\n",
       " 'сервис': 16554,\n",
       " 'агрегатор': 4841,\n",
       " 'информация': 9035,\n",
       " 'традиция': 18091,\n",
       " 'непрерывный': 11865,\n",
       " 'квалификация': 9357,\n",
       " 'другой': 7921,\n",
       " 'предполагаться': 14537,\n",
       " 'продлиться': 15039,\n",
       " 'конец': 9713,\n",
       " 'минкомсвязь': 10979,\n",
       " 'пригласить': 14752,\n",
       " 'действовать': 7418,\n",
       " 'территория': 17924,\n",
       " 'рф': 16236,\n",
       " 'компания': 9662,\n",
       " 'соответствовать': 17104,\n",
       " 'заявка': 8606,\n",
       " 'министерство': 10976,\n",
       " 'однако': 12403,\n",
       " 'стать': 17414,\n",
       " 'первый': 13242,\n",
       " 'наверное': 11296,\n",
       " 'единственный': 8046,\n",
       " 'страна': 17498,\n",
       " 'обозначать': 12223,\n",
       " 'это': 19890,\n",
       " 'базовый': 5300,\n",
       " 'потребность': 14360,\n",
       " 'право': 14433,\n",
       " 'считать': 17688,\n",
       " 'удовлетворение': 18405,\n",
       " 'аналогия': 5041,\n",
       " 'безусловный': 5444,\n",
       " 'доход': 7892,\n",
       " 'гражданин': 7182,\n",
       " 'аналогичный': 5040,\n",
       " 'обсуждаться': 12287,\n",
       " 'многий': 11044,\n",
       " 'пытаться': 15394,\n",
       " 'внедрить': 6246,\n",
       " 'взгляд': 6041,\n",
       " 'делаться': 7432,\n",
       " 'максимально': 10581,\n",
       " 'точечный': 18075,\n",
       " 'государство': 7160,\n",
       " 'создавать': 17044,\n",
       " 'далёкий': 7317,\n",
       " 'двигаться': 7361,\n",
       " 'тот': 18072,\n",
       " 'близкий': 5601,\n",
       " 'интересный': 9005,\n",
       " 'заместитель': 8398,\n",
       " 'председатель': 14561,\n",
       " 'комиссия': 9639,\n",
       " 'общество': 12316,\n",
       " 'оп': 12523,\n",
       " 'александр': 4972,\n",
       " 'малькевич': 10607,\n",
       " 'эксперт': 19733,\n",
       " 'уверенный': 18325,\n",
       " 'драйвер': 7905,\n",
       " 'отрасль': 12924,\n",
       " 'помогать': 14129,\n",
       " 'увеличивать': 18317,\n",
       " 'база': 5297,\n",
       " 'подключить': 13772,\n",
       " 'также': 17754,\n",
       " 'стимулировать': 17455,\n",
       " 'подчёркивать': 13907,\n",
       " 'помимо': 14126,\n",
       " 'система': 16671,\n",
       " 'госуслуга': 7162,\n",
       " 'присутствовать': 14923,\n",
       " 'большой': 5668,\n",
       " 'количество': 9588,\n",
       " 'образовательный': 12257,\n",
       " 'медицинский': 10800,\n",
       " 'культурный': 10124,\n",
       " 'причём': 14950,\n",
       " 'речь': 16017,\n",
       " 'идти': 8770,\n",
       " 'именно': 8887,\n",
       " 'платформа': 13581,\n",
       " 'высокий': 6778,\n",
       " 'доступность': 7881,\n",
       " 'отсутствие': 12965,\n",
       " 'плата': 13575,\n",
       " 'конкурентный': 9722,\n",
       " 'преимущество': 14616,\n",
       " 'реальный': 15855,\n",
       " 'творчество': 17823,\n",
       " 'общение': 12307,\n",
       " 'реализация': 15844,\n",
       " 'социальный': 17183,\n",
       " 'общий': 12317,\n",
       " 'наш': 11588,\n",
       " 'глаз': 7017,\n",
       " 'революция': 15865,\n",
       " 'просто': 15219,\n",
       " 'происходить': 15105,\n",
       " 'приносить': 14854,\n",
       " 'результат': 15920,\n",
       " 'ощутить': 13065,\n",
       " 'этот': 19891,\n",
       " 'чёткий': 19505,\n",
       " 'эффект': 19895,\n",
       " 'говорить': 7049,\n",
       " 'глава': 7011,\n",
       " 'роцит': 16174,\n",
       " 'сергей': 16557,\n",
       " 'гребенник': 7205,\n",
       " 'сомневаться': 17085,\n",
       " 'важность': 5833,\n",
       " 'полагать': 14011,\n",
       " 'возможно': 6347,\n",
       " 'нуждаться': 12120,\n",
       " 'некоторый': 11756,\n",
       " 'корректировка': 9882,\n",
       " 'мнение': 11042,\n",
       " 'значительно': 8695,\n",
       " 'больший': 5666,\n",
       " 'степень': 17426,\n",
       " 'включить': 6193,\n",
       " 'связанный': 16444,\n",
       " 'наследие': 11504,\n",
       " 'кинематограф': 9441,\n",
       " 'искусство': 9084,\n",
       " 'история': 9130,\n",
       " 'любой': 10497,\n",
       " 'житель': 8149,\n",
       " 'например': 11458,\n",
       " 'виртуально': 6169,\n",
       " 'посетить': 14252,\n",
       " 'галерея': 6882,\n",
       " 'платить': 13578,\n",
       " 'деньга': 7467,\n",
       " 'список': 17254,\n",
       " 'место': 10868,\n",
       " 'сми': 16902,\n",
       " 'случай': 16857,\n",
       " 'страница': 17499,\n",
       " 'рекламный': 15939,\n",
       " 'баннер': 5344,\n",
       " 'перейти': 13308,\n",
       " 'рекламодатель': 15940,\n",
       " 'рамка': 15666,\n",
       " 'равно': 15424,\n",
       " 'сильно': 16627,\n",
       " 'нужный': 12122,\n",
       " 'стационарный': 17416,\n",
       " 'компьютер': 9691,\n",
       " 'предлагаться': 14508,\n",
       " 'обычный': 12346,\n",
       " 'они': 12514,\n",
       " 'пользоваться': 14101,\n",
       " 'давно': 7301,\n",
       " 'привыкнуть': 14744,\n",
       " 'оплачивать': 12554,\n",
       " 'касаться': 9316,\n",
       " 'смартфон': 16873,\n",
       " 'телефон': 17873,\n",
       " 'подключать': 13769,\n",
       " 'иметь': 8890,\n",
       " 'бывать': 5805,\n",
       " 'пенсионер': 13227,\n",
       " 'использовать': 9102,\n",
       " 'исключительно': 9075,\n",
       " 'позвонить': 13945,\n",
       " 'очень': 13042,\n",
       " 'важный': 5834,\n",
       " 'реально': 15853,\n",
       " 'удобно': 18402,\n",
       " 'рассуждать': 15777,\n",
       " 'слово': 16834,\n",
       " 'позволить': 13942,\n",
       " 'увеличить': 18319,\n",
       " 'дать': 7343,\n",
       " 'попробовать': 14180,\n",
       " 'сеть': 16594,\n",
       " 'понять': 14155,\n",
       " 'жить': 8152,\n",
       " 'неудобно': 11961,\n",
       " 'небольшой': 11608,\n",
       " 'населить': 11496,\n",
       " 'пункт': 15362,\n",
       " 'москва': 11165,\n",
       " 'мегаполис': 10764,\n",
       " 'столица': 17476,\n",
       " 'большинство': 5667,\n",
       " 'свой': 16437,\n",
       " 'проблема': 14970,\n",
       " 'заплатить': 8460,\n",
       " 'рубль': 16193,\n",
       " 'условный': 18655,\n",
       " 'семья': 16536,\n",
       " 'маленький': 10589,\n",
       " 'город': 7110,\n",
       " 'владеть': 6209,\n",
       " 'существенный': 17651,\n",
       " 'сумма': 17616,\n",
       " 'поэтому': 14409,\n",
       " 'важно': 5832,\n",
       " 'хотя': 19223,\n",
       " 'ребёнок': 15859,\n",
       " 'обеспечить': 12160,\n",
       " 'приложение': 14826,\n",
       " 'банк': 5336,\n",
       " 'отрицательный': 12934,\n",
       " 'баланс': 5311,\n",
       " 'счёт': 17693,\n",
       " 'закончиться': 8344,\n",
       " 'соответственно': 17102,\n",
       " 'получаться': 14090,\n",
       " 'ситуация': 16683,\n",
       " 'банковский': 5340,\n",
       " 'являться': 19949,\n",
       " 'отмечать': 12865,\n",
       " 'играть': 8749,\n",
       " 'значительный': 8696,\n",
       " 'роль': 16122,\n",
       " 'определяться': 12582,\n",
       " 'сделать': 16479,\n",
       " 'покрыть': 14002,\n",
       " '5g': 602,\n",
       " 'защитить': 8597,\n",
       " 'бизнес': 5540,\n",
       " 'повысить': 13677,\n",
       " 'эффективность': 19897,\n",
       " 'основный': 12708,\n",
       " 'внедрение': 6245,\n",
       " 'технология': 17956,\n",
       " 'подготовить': 13735,\n",
       " 'кадр': 9184,\n",
       " 'будущее': 5767,\n",
       " 'учёт': 18782,\n",
       " 'сквозной': 16712,\n",
       " 'цифровизация': 19333,\n",
       " 'простимулировать': 15216,\n",
       " 'инвестиция': 8927,\n",
       " 'сфера': 17660,\n",
       " 'доля': 7791,\n",
       " 'затрата': 8560,\n",
       " 'ввп': 5893,\n",
       " 'раз': 15468,\n",
       " 'депутат': 7476,\n",
       " 'фракция': 19011,\n",
       " 'единый': 8048,\n",
       " 'виталий': 6175,\n",
       " 'милон': 10952,\n",
       " 'внести': 6256,\n",
       " 'рассмотрение': 15763,\n",
       " 'госдума': 7126,\n",
       " 'законопроект': 8342,\n",
       " 'правовой': 14434,\n",
       " 'регулирование': 15877,\n",
       " 'деятельность': 7527,\n",
       " 'предполагать': 14536,\n",
       " 'введение': 5882,\n",
       " 'запрет': 8478,\n",
       " 'регистрация': 15871,\n",
       " 'соцсеть': 17185,\n",
       " 'достигнуть': 7869,\n",
       " 'возраст': 6367,\n",
       " '14': 82,\n",
       " 'кроме': 10039,\n",
       " 'предлагать': 14507,\n",
       " 'ввести': 5886,\n",
       " 'аккаунт': 4917,\n",
       " 'паспорт': 13171,\n",
       " 'невозможно': 11628,\n",
       " 'отрицать': 12935,\n",
       " 'влияние': 6223,\n",
       " 'оказываться': 12453,\n",
       " 'часть': 19372,\n",
       " 'население': 11495,\n",
       " 'принятие': 14866,\n",
       " 'необходимо': 11803,\n",
       " 'ввиду': 5887,\n",
       " 'законодательный': 8336,\n",
       " 'сказать': 16689,\n",
       " 'пояснительный': 14415,\n",
       " 'записка': 8454,\n",
       " 'документ': 7763,\n",
       " 'опубликовать': 12605,\n",
       " 'милоновый': 10953,\n",
       " 'предложить': 14511,\n",
       " 'мера': 10848,\n",
       " 'помочь': 14130,\n",
       " 'оградить': 12375,\n",
       " 'несовершеннолетний': 11918,\n",
       " 'справиться': 17288,\n",
       " 'современный': 17018,\n",
       " 'молодёжь': 11113,\n",
       " 'активизация': 4935,\n",
       " 'группа': 7251,\n",
       " 'смерть': 16889,\n",
       " 'склонять': 16735,\n",
       " 'суицид': 17609,\n",
       " 'инициатива': 8956,\n",
       " 'скептически': 16718,\n",
       " 'воспринять': 6451,\n",
       " 'кремль': 9985,\n",
       " 'дмитрий': 7693,\n",
       " 'песков': 13460,\n",
       " 'перспектива': 13453,\n",
       " 'ограничение': 12376,\n",
       " 'выглядеть': 6633,\n",
       " 'положение': 14067,\n",
       " 'вряд': 6521,\n",
       " 'нужно': 12121,\n",
       " 'занимать': 8430,\n",
       " 'позиция': 13956,\n",
       " 'прокомментировать': 15120,\n",
       " 'появление': 14411,\n",
       " 'песок': 13462,\n",
       " 'пакет': 13085,\n",
       " 'яров': 19979,\n",
       " 'цена': 19287,\n",
       " 'кто': 10092,\n",
       " 'забвение': 8175,\n",
       " 'почему': 14389,\n",
       " 'знать': 8690,\n",
       " 'одноклассник': 12409,\n",
       " 'рассказать': 15751,\n",
       " 'закон': 8330,\n",
       " 'сначала': 16929,\n",
       " 'разобраться': 15596,\n",
       " 'сам': 16282,\n",
       " 'глубоко': 7033,\n",
       " 'уважать': 18309,\n",
       " 'желание': 8108,\n",
       " 'прозрачный': 15077,\n",
       " 'пока': 13972,\n",
       " 'всерьёз': 6534,\n",
       " 'комментировать': 9644,\n",
       " 'готовый': 7171,\n",
       " 'ответить': 12765,\n",
       " 'представитель': 14570,\n",
       " 'дума': 7950,\n",
       " 'определять': 12581,\n",
       " 'обязательно': 12348,\n",
       " 'обязать': 12351,\n",
       " 'предоставить': 14521,\n",
       " 'владелец': 6206,\n",
       " 'паспортный': 13172,\n",
       " 'включать': 6188,\n",
       " 'имя': 8915,\n",
       " 'фамилия': 18819,\n",
       " 'отчество': 12984,\n",
       " 'завести': 8212,\n",
       " 'личный': 10377,\n",
       " 'страничка': 17500,\n",
       " 'использование': 9101,\n",
       " 'исключать': 9072,\n",
       " 'один': 12391,\n",
       " 'обнаружить': 12210,\n",
       " 'приходиться': 14938,\n",
       " 'профиль': 15269,\n",
       " 'грозить': 7229,\n",
       " 'штраф': 19629,\n",
       " 'изменение': 8826,\n",
       " 'персональный': 13451,\n",
       " 'уведомить': 18312,\n",
       " 'иначе': 8917,\n",
       " 'регламентировать': 15875,\n",
       " 'правило': 14424,\n",
       " 'поведение': 13640,\n",
       " 'частность': 19366,\n",
       " 'запрещаться': 8482,\n",
       " 'распространять': 15741,\n",
       " 'причинить': 14946,\n",
       " 'вред': 6507,\n",
       " 'здоровье': 8636,\n",
       " 'пропагандировать': 15155,\n",
       " 'нетерпимость': 11945,\n",
       " 'нетрадиционный': 11949,\n",
       " 'сексуальный': 16514,\n",
       " 'отношение': 12876,\n",
       " 'употребление': 18592,\n",
       " 'алкоголь': 4985,\n",
       " 'табак': 17728,\n",
       " 'наркотик': 11476,\n",
       " 'содержать': 17035,\n",
       " 'нецензурный': 11982,\n",
       " 'брань': 5708,\n",
       " 'порнография': 14206,\n",
       " 'указывать': 18460,\n",
       " 'нарушение': 11487,\n",
       " 'указанный': 18455,\n",
       " 'выше': 6833,\n",
       " 'контент': 9775,\n",
       " 'сопроводить': 17119,\n",
       " 'явный': 19951,\n",
       " 'осуждение': 12746,\n",
       " 'текст': 17835,\n",
       " 'политика': 14035,\n",
       " 'facebook': 1953,\n",
       " 'instagram': 2500,\n",
       " 'появиться': 14410,\n",
       " 'официально': 13004,\n",
       " 'запрещать': 8481,\n",
       " 'третий': 18162,\n",
       " 'отдельный': 12799,\n",
       " 'выделить': 6655,\n",
       " 'распространение': 15737,\n",
       " 'материал': 10718,\n",
       " 'террористический': 17929,\n",
       " 'экстремистский': 19758,\n",
       " 'характер': 19113,\n",
       " 'призыв': 14795,\n",
       " 'несанкционированный': 11909,\n",
       " 'митинг': 11021,\n",
       " 'пикет': 13501,\n",
       " 'иной': 8969,\n",
       " 'собрание': 16970,\n",
       " 'сотрудник': 17165,\n",
       " 'организация': 12624,\n",
       " 'полностью': 14053,\n",
       " 'финансироваться': 18909,\n",
       " 'бюджет': 5822,\n",
       " 'разрешаться': 15616,\n",
       " 'рабочий': 15421,\n",
       " 'дополнительный': 7818,\n",
       " 'осуществление': 12748,\n",
       " 'трудовой': 18210,\n",
       " 'устанавливаться': 18686,\n",
       " 'работодатель': 15418,\n",
       " 'самостоятельно': 16304,\n",
       " 'соответствие': 17103,\n",
       " 'законодательство': 8337,\n",
       " 'применимый': 14830,\n",
       " '100': 4,\n",
       " '300': 375,\n",
       " 'менеджер': 10840,\n",
       " 'продукт': 15049,\n",
       " 'eset': 1887,\n",
       " 'кузнецов': 10102,\n",
       " 'беседа': 5493,\n",
       " 'требование': 18131,\n",
       " 'изложить': 8821,\n",
       " 'несопоставимый': 11929,\n",
       " 'никакой': 12011,\n",
       " 'технический': 17948,\n",
       " 'запретить': 8479,\n",
       " 'vpn': 4451,\n",
       " 'получить': 14092,\n",
       " 'ip': 2529,\n",
       " 'зарегистрироваться': 8507,\n",
       " 'предоставление': 14522,\n",
       " 'прекрасно': 14617,\n",
       " 'китай': 9484,\n",
       " 'обходить': 12298,\n",
       " 'великий': 5934,\n",
       " 'китайский': 9485,\n",
       " 'файервол': 18804,\n",
       " 'заявить': 8605,\n",
       " 'практика': 14460,\n",
       " 'активность': 4943,\n",
       " 'существовать': 17654,\n",
       " 'целое': 19280,\n",
       " 'ряд': 16255,\n",
       " 'включая': 6190,\n",
       " 'сша': 17696,\n",
       " 'ес': 8077,\n",
       " 'соединить': 17039,\n",
       " 'штат': 19623,\n",
       " 'пример': 14835,\n",
       " 'разрешить': 15619,\n",
       " 'осуществлять': 12749,\n",
       " 'площадка': 13613,\n",
       " 'лишь': 10384,\n",
       " 'присмотр': 14902,\n",
       " 'согласие': 17020,\n",
       " 'родитель': 16087,\n",
       " 'либо': 10316,\n",
       " 'обособленный': 12243,\n",
       " 'мир': 11006,\n",
       " 'зависимый': 8220,\n",
       " 'правительство': 14429,\n",
       " 'провайдер': 14978,\n",
       " 'предстоять': 14579,\n",
       " 'передавать': 13278,\n",
       " 'запрос': 8485,\n",
       " 'власть': 6218,\n",
       " 'евросоюз': 8023,\n",
       " 'установить': 18687,\n",
       " 'возрастной': 6370,\n",
       " '2015': 235,\n",
       " 'европарламент': 8018,\n",
       " 'принять': 14867,\n",
       " 'решение': 16021,\n",
       " '16': 113,\n",
       " 'general': 2175,\n",
       " 'data': 1639,\n",
       " 'protection': 3535,\n",
       " 'regulation': 3654,\n",
       " 'основной': 12707,\n",
       " 'защита': 8596,\n",
       " 'вступить': 6574,\n",
       " 'сила': 16618,\n",
       " 'быть': 5815,\n",
       " 'распространить': 15739,\n",
       " 'наиболее': 11366,\n",
       " 'популярный': 14188,\n",
       " 'snapchat': 3943,\n",
       " 'twitter': 4289,\n",
       " 'предъявление': 14598,\n",
       " 'удостоверять': 18414,\n",
       " 'личность': 10376,\n",
       " 'данный': 7325,\n",
       " 'рядом': 16257,\n",
       " 'кнр': 9545,\n",
       " '2012': 232,\n",
       " 'попытка': 14192,\n",
       " 'предприниматься': 14553,\n",
       " 'ранее': 15670,\n",
       " 'предложение': 14510,\n",
       " 'выступить': 6811,\n",
       " 'комитет': 9640,\n",
       " 'включение': 6191,\n",
       " 'обязательный': 12349,\n",
       " 'маркировка': 10663,\n",
       " 'взрослый': 6058,\n",
       " 'отметка': 12864,\n",
       " 'производитель': 15087,\n",
       " 'вакцина': 5843,\n",
       " 'коронавирус': 9870,\n",
       " 'сообщить': 17098,\n",
       " 'хакер': 19097,\n",
       " 'украсть': 18473,\n",
       " 'конфиденциальный': 9803,\n",
       " 'нормативный': 12089,\n",
       " 'предназначить': 14516,\n",
       " 'регулировать': 15878,\n",
       " 'орган': 12621,\n",
       " 'европейский': 8020,\n",
       " 'союз': 17192,\n",
       " 'известно': 8790,\n",
       " 'сфальсифицировать': 17659,\n",
       " 'ars': 1094,\n",
       " 'technica': 4132,\n",
       " 'незаконно': 11702,\n",
       " 'внутренний': 6273,\n",
       " 'электронный': 19785,\n",
       " 'переписка': 13367,\n",
       " 'процесс': 15286,\n",
       " 'оценка': 13035,\n",
       " 'против': 15240,\n",
       " 'отредактировать': 12927,\n",
       " 'преступник': 14674,\n",
       " 'публикация': 15345,\n",
       " 'образ': 12254,\n",
       " 'подорвать': 13812,\n",
       " 'доверие': 7723,\n",
       " 'говориться': 7050,\n",
       " 'заявление': 8607,\n",
       " 'агентство': 4837,\n",
       " 'лекарственный': 10272,\n",
       " 'средство': 17341,\n",
       " 'european': 1905,\n",
       " 'agency': 953,\n",
       " 'регулятор': 15885,\n",
       " 'уточнить': 18733,\n",
       " 'разместить': 15567,\n",
       " 'расследование': 15758,\n",
       " 'итальянский': 9151,\n",
       " 'кибербезопасность': 9397,\n",
       " 'форум': 18982,\n",
       " 'даркнета': 7332,\n",
       " 'прошлое': 15307,\n",
       " 'содержаться': 17036,\n",
       " 'название': 11354,\n",
       " 'удивительный': 18394,\n",
       " 'мошенничество': 11182,\n",
       " 'злой': 8669,\n",
       " 'поддельный': 13745,\n",
       " 'утечка': 18722,\n",
       " 'действительно': 7415,\n",
       " 'взлом': 6048,\n",
       " 'сторона': 17487,\n",
       " 'намерение': 11416,\n",
       " 'киберпреступник': 9417,\n",
       " 'очевидный': 13041,\n",
       " 'хотеть': 19221,\n",
       " 'нанести': 11426,\n",
       " 'ущерб': 18788,\n",
       " 'репутация': 15989,\n",
       " 'авторитет': 4819,\n",
       " 'сообщение': 17096,\n",
       " 'руководитель': 16203,\n",
       " 'аналитический': 5037,\n",
       " 'департамент': 7469,\n",
       " 'артём': 5194,\n",
       " 'деев': 7406,\n",
       " 'вестись': 5999,\n",
       " 'своеобразный': 16436,\n",
       " 'война': 6378,\n",
       " 'стоить': 17466,\n",
       " 'посмотреть': 14274,\n",
       " 'какой': 9205,\n",
       " 'баталия': 5374,\n",
       " 'развиваться': 15502,\n",
       " 'вокруг': 6385,\n",
       " 'лекарство': 10273,\n",
       " 'разный': 15591,\n",
       " 'звучать': 8630,\n",
       " 'обвинение': 12144,\n",
       " 'недостаточно': 11680,\n",
       " 'проверить': 14984,\n",
       " 'приводить': 14738,\n",
       " 'пациент': 13205,\n",
       " 'побочный': 13634,\n",
       " 'явление': 19948,\n",
       " 'появляться': 14412,\n",
       " 'производство': 15094,\n",
       " 'низкий': 12005,\n",
       " 'прочее': 15293,\n",
       " 'борьба': 5686,\n",
       " 'рынок': 16242,\n",
       " 'сбыт': 16374,\n",
       " 'рассказывать': 15752,\n",
       " 'пандемия': 13105,\n",
       " 'привести': 14719,\n",
       " 'сильный': 16628,\n",
       " 'негативный': 11642,\n",
       " 'последствие': 14269,\n",
       " 'отличный': 12855,\n",
       " 'способ': 17280,\n",
       " 'заработать': 8498,\n",
       " 'фармацевтический': 18829,\n",
       " 'проводить': 14992,\n",
       " 'атака': 5222,\n",
       " 'вероятно': 5972,\n",
       " 'западный': 8444,\n",
       " 'находиться': 11557,\n",
       " 'центр': 19301,\n",
       " 'прибыль': 14706,\n",
       " 'репутационный': 15988,\n",
       " 'повлиять': 13656,\n",
       " 'финансовый': 18912,\n",
       " 'показатель': 13975,\n",
       " 'вызвать': 6674,\n",
       " 'недоверие': 11661,\n",
       " 'покупатель': 14003,\n",
       " 'весь': 6001,\n",
       " 'инцидент': 9047,\n",
       " 'серьёзно': 16581,\n",
       " 'сказаться': 16690,\n",
       " 'темп': 17887,\n",
       " 'массовый': 10701,\n",
       " 'вакцинация': 5844,\n",
       " 'понимать': 14147,\n",
       " 'подоплёка': 13811,\n",
       " 'хакерский': 19098,\n",
       " 'заключить': 8328,\n",
       " 'ноябрь': 12107,\n",
       " 'microsoft': 2959,\n",
       " 'обвинить': 12146,\n",
       " 'русский': 16223,\n",
       " 'разработчик': 15612,\n",
       " 'нападение': 11434,\n",
       " 'группировка': 7253,\n",
       " 'strontium': 4068,\n",
       " 'неоднократно': 11812,\n",
       " 'опровергать': 12586,\n",
       " 'прошлый': 15308,\n",
       " 'неделя': 11656,\n",
       " 'официальный': 13005,\n",
       " 'мид': 10913,\n",
       " 'мария': 10651,\n",
       " 'захаров': 8578,\n",
       " 'назвать': 11355,\n",
       " 'нападки': 11435,\n",
       " 'американский': 5024,\n",
       " 'рутина': 16231,\n",
       " 'регулярно': 15881,\n",
       " 'объяснять': 12334,\n",
       " 'происхождение': 15106,\n",
       " 'приобрести': 14869,\n",
       " 'рутинный': 16232,\n",
       " 'федеральный': 18843,\n",
       " 'антимонопольный': 5111,\n",
       " 'служба': 16850,\n",
       " 'фас': 18831,\n",
       " 'возбудить': 6318,\n",
       " 'дело': 7442,\n",
       " 'четвёрка': 19432,\n",
       " 'билайн': 5543,\n",
       " 'мтс': 11196,\n",
       " 'tele2': 4140,\n",
       " 'ведомство': 5916,\n",
       " 'анатолий': 5046,\n",
       " 'голомолзин': 7073,\n",
       " 'риа': 16030,\n",
       " 'новость': 12062,\n",
       " 'причина': 14944,\n",
       " 'роуминг': 16171,\n",
       " 'необходимый': 11805,\n",
       " 'вынести': 6712,\n",
       " 'предупреждение': 14585,\n",
       " '17': 133,\n",
       " 'июль': 9162,\n",
       " 'статья': 17415,\n",
       " '10': 3,\n",
       " 'конкуренция': 9725,\n",
       " 'указать': 18458,\n",
       " 'факт': 18809,\n",
       " 'сотовый': 17164,\n",
       " 'домашний': 7793,\n",
       " 'регион': 15866,\n",
       " 'поездка': 13918,\n",
       " 'тарифный': 17796,\n",
       " 'потребовать': 14361,\n",
       " 'выравнять': 6749,\n",
       " 'стоимость': 17465,\n",
       " 'дорогой': 7839,\n",
       " 'дешёвый': 7524,\n",
       " 'тариф': 17792,\n",
       " 'решить': 16026,\n",
       " 'ценовый': 19298,\n",
       " 'экономически': 19715,\n",
       " 'технологически': 17953,\n",
       " 'обосновать': 12241,\n",
       " 'устранить': 18703,\n",
       " 'разница': 15583,\n",
       " 'получать': 14089,\n",
       " 'дом': 7792,\n",
       " 'течение': 17963,\n",
       " 'день': 7466,\n",
       " 'выдать': 6645,\n",
       " 'четыре': 19434,\n",
       " 'государственный': 7159,\n",
       " 'леонид': 10288,\n",
       " 'левин': 10248,\n",
       " 'предписание': 14533,\n",
       " 'доверять': 7726,\n",
       " 'заявлять': 8608,\n",
       " 'различный': 15563,\n",
       " 'тарификация': 17793,\n",
       " 'зависимость': 8219,\n",
       " 'никак': 12010,\n",
       " 'вместе': 6232,\n",
       " 'возникать': 6356,\n",
       " 'вопрос': 6424,\n",
       " 'насколько': 11500,\n",
       " 'сценарий': 17680,\n",
       " 'изменить': 8827,\n",
       " 'отметить': 12862,\n",
       " 'потребитель': 14356,\n",
       " 'оставаться': 12724,\n",
       " 'приоритет': 14875,\n",
       " 'избежать': 8781,\n",
       " 'расход': 15799,\n",
       " 'выполнение': 6733,\n",
       " 'возложить': 6342,\n",
       " 'непосредственно': 11851,\n",
       " 'вскоре': 6539,\n",
       " 'операционный': 12539,\n",
       " 'директор': 7652,\n",
       " 'анна': 5076,\n",
       " 'серебряников': 16566,\n",
       " 'невыполнимый': 11638,\n",
       " 'недоумевать': 11688,\n",
       " 'занять': 8438,\n",
       " 'жёсткий': 8168,\n",
       " 'ультимативный': 18503,\n",
       " 'форма': 18969,\n",
       " 'исполнение': 9092,\n",
       " 'установленный': 18691,\n",
       " 'срок': 17343,\n",
       " 'возникнуть': 6358,\n",
       " 'адрес': 4871,\n",
       " 'обсуждать': 12286,\n",
       " 'судебный': 17594,\n",
       " 'порядок': 14241,\n",
       " 'добавить': 7698,\n",
       " 'услышать': 18662,\n",
       " 'буквально': 5770,\n",
       " 'накануне': 11380,\n",
       " 'начальник': 11574,\n",
       " 'управление': 18596,\n",
       " 'елена': 8065,\n",
       " 'заева': 8295,\n",
       " 'отмена': 12857,\n",
       " 'внутрироссийский': 6280,\n",
       " 'рост': 16158,\n",
       " 'копейка': 9835,\n",
       " 'коммерческий': 9651,\n",
       " 'тайна': 17746,\n",
       " 'цифра': 19332,\n",
       " 'раскрыть': 15702,\n",
       " 'перенести': 13348,\n",
       " 'внутрисетевой': 6281,\n",
       " 'минута': 10998,\n",
       " 'подорожать': 13814,\n",
       " 'генеральный': 6943,\n",
       " 'telecomdaily': 4142,\n",
       " 'денис': 7464,\n",
       " 'кусок': 10165,\n",
       " 'корреспондент': 9888,\n",
       " 'несмотря': 11916,\n",
       " 'многие': 11043,\n",
       " 'заговорить': 8250,\n",
       " 'приведение': 14715,\n",
       " 'отменить': 12858,\n",
       " '28': 343,\n",
       " 'шаг': 19509,\n",
       " 'путь': 15381,\n",
       " 'безграничный': 5410,\n",
       " '20': 217,\n",
       " 'число': 19461,\n",
       " 'путешествовать': 15379,\n",
       " 'заранее': 8505,\n",
       " 'предусматривать': 14586,\n",
       " 'расходовать': 15803,\n",
       " 'вне': 6242,\n",
       " 'принудить': 14858,\n",
       " 'увеличение': 18316,\n",
       " 'минимальный': 10971,\n",
       " 'подчеркнуть': 13903,\n",
       " 'пострадать': 14315,\n",
       " 'россиянин': 16155,\n",
       " 'выезжать': 6666,\n",
       " 'предел': 14500,\n",
       " 'смочь': 16915,\n",
       " 'возбуждение': 6320,\n",
       " 'встречный': 6570,\n",
       " 'иск': 9066,\n",
       " 'длительный': 7690,\n",
       " 'разбирательство': 15471,\n",
       " 'никто': 12023,\n",
       " 'непонятно': 11846,\n",
       " 'отказаться': 12814,\n",
       " 'комментарий': 9641,\n",
       " 'оперативно': 12533,\n",
       " 'свет': 16405,\n",
       " 'австралийский': 4779,\n",
       " 'блогер': 5608,\n",
       " 'гибсон': 6985,\n",
       " 'продвигать': 15027,\n",
       " 'идея': 8768,\n",
       " 'здоровый': 8635,\n",
       " '2013': 233,\n",
       " 'победить': 13624,\n",
       " 'рак': 15655,\n",
       " 'мозг': 11099,\n",
       " 'помощь': 14133,\n",
       " 'натуральный': 11547,\n",
       " 'правильный': 14427,\n",
       " 'питание': 13528,\n",
       " ...}"
      ]
     },
     "execution_count": 24,
     "metadata": {},
     "output_type": "execute_result"
    }
   ],
   "source": [
    "vectorizer_02.vocabulary_"
   ]
  },
  {
   "cell_type": "code",
   "execution_count": 26,
   "metadata": {},
   "outputs": [
    {
     "name": "stdout",
     "output_type": "stream",
     "text": [
      "Wall time: 5.22 s\n"
     ]
    }
   ],
   "source": [
    "%%time\n",
    "x_train_tfidf_02 = vectorizer_02.transform(corpus_train_cleared).toarray()\n",
    "x_val_tfidf_02 = vectorizer_02.transform(corpus_val_cleared).toarray()\n",
    "x_test_tfidf_02 = vectorizer_02.transform(corpus_test_cleared).toarray()"
   ]
  },
  {
   "cell_type": "code",
   "execution_count": 27,
   "metadata": {},
   "outputs": [
    {
     "data": {
      "text/plain": [
       "(13770, 20000)"
      ]
     },
     "execution_count": 27,
     "metadata": {},
     "output_type": "execute_result"
    }
   ],
   "source": [
    "x_train_tfidf_02.shape"
   ]
  },
  {
   "cell_type": "markdown",
   "metadata": {},
   "source": [
    "# Модель"
   ]
  },
  {
   "cell_type": "markdown",
   "metadata": {},
   "source": [
    "Закодируем таргет в OHE"
   ]
  },
  {
   "cell_type": "code",
   "execution_count": 28,
   "metadata": {},
   "outputs": [],
   "source": [
    "target_encoder = OneHotEncoder(sparse=False)"
   ]
  },
  {
   "cell_type": "code",
   "execution_count": 29,
   "metadata": {},
   "outputs": [],
   "source": [
    "y_train_01 = target_encoder.fit_transform(y_train.reshape([-1, 1]))\n",
    "y_val_01 = target_encoder.fit_transform(y_val.reshape([-1, 1]))"
   ]
  },
  {
   "cell_type": "code",
   "execution_count": 30,
   "metadata": {},
   "outputs": [
    {
     "data": {
      "text/plain": [
       "[array([0., 1., 2.])]"
      ]
     },
     "execution_count": 30,
     "metadata": {},
     "output_type": "execute_result"
    }
   ],
   "source": [
    "n_classes = len(target_encoder.categories_[0])\n",
    "target_encoder.categories_"
   ]
  },
  {
   "cell_type": "markdown",
   "metadata": {},
   "source": [
    "Зададим простую модель с одним внутренним полносвязным слоем. Выходной функцией активации будет softmax, т.к. задача мультиклассовой классификации."
   ]
  },
  {
   "cell_type": "code",
   "execution_count": 116,
   "metadata": {},
   "outputs": [
    {
     "name": "stdout",
     "output_type": "stream",
     "text": [
      "Model: \"sequential_1\"\n",
      "_________________________________________________________________\n",
      "Layer (type)                 Output Shape              Param #   \n",
      "=================================================================\n",
      "dense_1 (Dense)              (None, 64)                1280064   \n",
      "_________________________________________________________________\n",
      "batch_normalization_1 (Batch (None, 64)                256       \n",
      "_________________________________________________________________\n",
      "dropout_1 (Dropout)          (None, 64)                0         \n",
      "_________________________________________________________________\n",
      "dense_2 (Dense)              (None, 3)                 195       \n",
      "=================================================================\n",
      "Total params: 1,280,515\n",
      "Trainable params: 1,280,387\n",
      "Non-trainable params: 128\n",
      "_________________________________________________________________\n"
     ]
    }
   ],
   "source": [
    "model_02 = Sequential()\n",
    "model_02.add(Dense(64, input_dim=NUM_WORDS, activation='relu'))\n",
    "model_02.add(BatchNormalization())\n",
    "model_02.add(Dropout(0.4))\n",
    "model_02.add(Dense(n_classes,activation='softmax'))\n",
    "\n",
    "model_02.compile(optimizer=Adam(learning_rate=0.001),  loss='categorical_crossentropy',  metrics=['accuracy'])\n",
    "\n",
    "model_02.summary()"
   ]
  },
  {
   "cell_type": "code",
   "execution_count": 117,
   "metadata": {},
   "outputs": [
    {
     "name": "stdout",
     "output_type": "stream",
     "text": [
      "Epoch 1/10\n",
      "431/431 [==============================] - 8s 16ms/step - loss: 0.1931 - accuracy: 0.9348 - val_loss: 0.2231 - val_accuracy: 0.9283\n",
      "Epoch 2/10\n",
      "431/431 [==============================] - 5s 11ms/step - loss: 0.0365 - accuracy: 0.9894 - val_loss: 0.0791 - val_accuracy: 0.9730\n",
      "Epoch 3/10\n",
      "431/431 [==============================] - 5s 11ms/step - loss: 0.0172 - accuracy: 0.9947 - val_loss: 0.0885 - val_accuracy: 0.9723\n",
      "Epoch 4/10\n",
      "431/431 [==============================] - 5s 10ms/step - loss: 0.0135 - accuracy: 0.9962 - val_loss: 0.0903 - val_accuracy: 0.9739\n",
      "Epoch 5/10\n",
      "431/431 [==============================] - 4s 10ms/step - loss: 0.0066 - accuracy: 0.9984 - val_loss: 0.0882 - val_accuracy: 0.9767\n",
      "Epoch 6/10\n",
      "431/431 [==============================] - 4s 10ms/step - loss: 0.0082 - accuracy: 0.9973 - val_loss: 0.0940 - val_accuracy: 0.9721\n",
      "Epoch 7/10\n",
      "431/431 [==============================] - 4s 10ms/step - loss: 0.0069 - accuracy: 0.9982 - val_loss: 0.1082 - val_accuracy: 0.9725\n",
      "Epoch 8/10\n",
      "431/431 [==============================] - 4s 10ms/step - loss: 0.0102 - accuracy: 0.9961 - val_loss: 0.1334 - val_accuracy: 0.9695\n",
      "Epoch 9/10\n",
      "431/431 [==============================] - 4s 10ms/step - loss: 0.0121 - accuracy: 0.9959 - val_loss: 0.1277 - val_accuracy: 0.9695\n",
      "Epoch 10/10\n",
      "431/431 [==============================] - 4s 10ms/step - loss: 0.0112 - accuracy: 0.9964 - val_loss: 0.1087 - val_accuracy: 0.9717\n"
     ]
    },
    {
     "data": {
      "text/plain": [
       "<keras.callbacks.History at 0x256736f0970>"
      ]
     },
     "execution_count": 117,
     "metadata": {},
     "output_type": "execute_result"
    }
   ],
   "source": [
    "model_02.fit(x=x_train_tfidf_02,  y=y_train_01, epochs = 10, verbose = 1, validation_data= (x_val_tfidf_02, y_val_01))"
   ]
  },
  {
   "cell_type": "code",
   "execution_count": 118,
   "metadata": {},
   "outputs": [
    {
     "name": "stdout",
     "output_type": "stream",
     "text": [
      "INFO:tensorflow:Assets written to: model_02\\assets\n"
     ]
    }
   ],
   "source": [
    "model_02.save('model_02')"
   ]
  },
  {
   "cell_type": "markdown",
   "metadata": {},
   "source": [
    "Загрузим модель:"
   ]
  },
  {
   "cell_type": "code",
   "execution_count": 32,
   "metadata": {},
   "outputs": [],
   "source": [
    "our_model = keras.models.load_model('model_02')"
   ]
  },
  {
   "cell_type": "markdown",
   "metadata": {},
   "source": [
    "**посмотрим на метрики**"
   ]
  },
  {
   "cell_type": "code",
   "execution_count": 35,
   "metadata": {},
   "outputs": [],
   "source": [
    "pred_02_train = our_model.predict(x_train_tfidf_02)\n",
    "pred_02_train_class = np.argmax(pred_02_train, axis=1)\n",
    "pred_02_val = our_model.predict(x_val_tfidf_02)\n",
    "pred_02_val_class = np.argmax(pred_02_val, axis=1)"
   ]
  },
  {
   "cell_type": "code",
   "execution_count": 48,
   "metadata": {},
   "outputs": [],
   "source": [
    "pred_02_train_01 = target_encoder.fit_transform(pred_02_train_class.reshape([-1, 1]))\n",
    "pred_02_val_01 = target_encoder.fit_transform(pred_02_val_class.reshape([-1, 1]))"
   ]
  },
  {
   "cell_type": "code",
   "execution_count": 64,
   "metadata": {},
   "outputs": [
    {
     "data": {
      "text/plain": [
       "(array([0, 1, 2], dtype=int64), array([ 866, 2935,  789], dtype=int64))"
      ]
     },
     "execution_count": 64,
     "metadata": {},
     "output_type": "execute_result"
    }
   ],
   "source": [
    "np.unique(pred_02_val_class, return_counts=True)"
   ]
  },
  {
   "cell_type": "code",
   "execution_count": 57,
   "metadata": {},
   "outputs": [],
   "source": [
    "conf_mat_train = multilabel_confusion_matrix(y_train_01, pred_02_train_01, labels=target_encoder.categories_[0])\n",
    "conf_mat_val = multilabel_confusion_matrix(y_val, pred_02_val_class, labels=target_encoder.categories_[0])"
   ]
  },
  {
   "cell_type": "code",
   "execution_count": 93,
   "metadata": {},
   "outputs": [],
   "source": [
    "def plot_conf_mat(conf_mat, title: str):\n",
    "    fig, ax = plt.subplots(1, 3, figsize=(20,5))\n",
    "    fig.suptitle(title)\n",
    "    \n",
    "    ConfusionMatrixDisplay(conf_mat[0]).plot(cmap='Greens', ax=ax[0])\n",
    "    ax[0].set_title('1 - класс 0')\n",
    "    ConfusionMatrixDisplay(conf_mat[1]).plot(cmap='Blues', ax=ax[1])\n",
    "    ax[1].set_title('1 - класс 1')\n",
    "    ConfusionMatrixDisplay(conf_mat[2]).plot(cmap='Purples', ax=ax[2])\n",
    "    ax[2].set_title('1 - класс 2')\n",
    "\n",
    "    plt.show()"
   ]
  },
  {
   "cell_type": "code",
   "execution_count": 95,
   "metadata": {},
   "outputs": [
    {
     "data": {
      "image/png": "[encoded data removed]",
      "text/plain": [
       "<Figure size 1440x360 with 6 Axes>"
      ]
     },
     "metadata": {
      "needs_background": "light"
     },
     "output_type": "display_data"
    }
   ],
   "source": [
    "plot_conf_mat(conf_mat_train, 'TRAIN')"
   ]
  },
  {
   "cell_type": "code",
   "execution_count": 96,
   "metadata": {},
   "outputs": [
    {
     "data": {
      "image/png": "[encoded data removed]",
      "text/plain": [
       "<Figure size 1440x360 with 6 Axes>"
      ]
     },
     "metadata": {
      "needs_background": "light"
     },
     "output_type": "display_data"
    }
   ],
   "source": [
    "plot_conf_mat(conf_mat_val, 'VAL')"
   ]
  },
  {
   "cell_type": "code",
   "execution_count": 40,
   "metadata": {},
   "outputs": [
    {
     "name": "stdout",
     "output_type": "stream",
     "text": [
      "Accuracy\n",
      "Train:  0.9998547567175018\n",
      "Val  :  0.971677559912854\n",
      "ROC AUC\n",
      "Train:  0.9998873494408319\n",
      "Val  :  0.9713985814551145\n",
      "Precision\n",
      "Train:  0.9998548774015754\n",
      "Val:    0.9715605976462368\n",
      "Recall\n",
      "Train:  0.9998547567175018\n",
      "Val:    0.971677559912854\n"
     ]
    }
   ],
   "source": [
    "print('Accuracy')\n",
    "print('Train: ', accuracy_score(y_train, pred_02_train_class))\n",
    "print('Val  : ', accuracy_score(y_val, pred_02_val_class))\n",
    "print('ROC AUC')\n",
    "print('Train: ', roc_auc_score(y_train_01, pred_02_train_01))\n",
    "print('Val  : ', roc_auc_score(y_val_01, pred_02_val_01))\n",
    "print('Precision')\n",
    "print('Train: ', precision_score(y_train, pred_02_train_class, average='weighted'))\n",
    "print('Val:   ', precision_score(y_val, pred_02_val_class, average='weighted'))\n",
    "print('Recall')\n",
    "print('Train: ', recall_score(y_train, pred_02_train_class, average='weighted'))\n",
    "print('Val:   ', recall_score(y_val, pred_02_val_class, average='weighted'))"
   ]
  },
  {
   "cell_type": "markdown",
   "metadata": {},
   "source": [
    "Сделаем предскаазние для тестовой выборки и отправим результат"
   ]
  },
  {
   "cell_type": "code",
   "execution_count": 100,
   "metadata": {},
   "outputs": [],
   "source": [
    "pred_02_test = our_model.predict(x_test_tfidf_02)\n",
    "pred_02_test_class = np.argmax(pred_02_test, axis=1)"
   ]
  },
  {
   "cell_type": "code",
   "execution_count": 116,
   "metadata": {},
   "outputs": [],
   "source": [
    "def save_to_csv(ans, title: str):\n",
    "    df = pd.DataFrame(ans, index=data[data['source'].isnull()].index, columns=['source'])\n",
    "    df.to_csv(title)"
   ]
  },
  {
   "cell_type": "code",
   "execution_count": 117,
   "metadata": {},
   "outputs": [],
   "source": [
    "save_to_csv(pred_02_test_class, 'pred_02_test.csv')"
   ]
  },
  {
   "cell_type": "markdown",
   "metadata": {},
   "source": [
    "<img src=\"news_result.PNG\" width=\"400\">"
   ]
  },
  {
   "cell_type": "code",
   "execution_count": null,
   "metadata": {},
   "outputs": [],
   "source": []
  }
 ],
 "metadata": {
  "kernelspec": {
   "display_name": "Python 3",
   "language": "python",
   "name": "python3"
  },
  "language_info": {
   "codemirror_mode": {
    "name": "ipython",
    "version": 3
   },
   "file_extension": ".py",
   "mimetype": "text/x-python",
   "name": "python",
   "nbconvert_exporter": "python",
   "pygments_lexer": "ipython3",
   "version": "3.8.5"
  }
 },
 "nbformat": 4,
 "nbformat_minor": 4
}
